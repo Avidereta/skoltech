{
 "cells": [
  {
   "cell_type": "markdown",
   "metadata": {},
   "source": [
    "--------#### Pset1 Makarova Anastasia, February 10\n",
    "### *Probabilistic Model of Lecture Attendance*\n",
    "Consider a probabilistic model of students attending course lectures. Let the course be a mandatory course for a\n",
    "students, and an optional course for b students. A student attends lecture of a mandatory course with probability p1,\n",
    "and a lecture of an optional course with probability p2. Denote by c the number of students who attend the lecture.\n",
    "Then the random variable c|a, b is a sum of two Binomial random variables: Bin(a, p1) and Bin(b, p2).\n",
    "Now, suppose the lecturer decides to register attending students. During the lecture, she asks everyone present to\n",
    "write down their names in a list. Each student writes down his own name, and, with probability p3, additionally writes\n",
    "down his absent friend’s name. We assume that no name appears twice in the list. Denote by d the total number\n",
    "of students registered on the lecture. Then the random variable d|c is a sum of c and a Binomial random variable\n",
    "Bin(c, p3).\n",
    "In order to completely define the probabilistic model, we need to specify priors for a and b. We choose discrete uniform\n",
    "priors with support [amin, amax] and [bmin, bmax], respectively. Thus, we have specified the following probabilistic\n",
    "model:\n",
    "\n",
    "$$ p(a, b, c, d) = p(d|c)p(c|a, b)p(a)p(b)$$\n",
    "\n",
    "$$ d|c ∼ c + Bin(c, p3), $$\n",
    "\n",
    "$$ c|a, b ∼ Bin(a, p1) + Bin(b, p2), (1) $$\n",
    "\n",
    "$$ a ∼ Unif[amin, amax],$$\n",
    "\n",
    "$$ b ∼ Unif[bmin, bmax].$$\n",
    "\n",
    "Now, let’s simplify the model 1 slightly. We know that when the number of trials n is large, and probability of\n",
    "success p is low, we have, with high accuracy, $$Bin(n, p) ≈ Poiss(λ), λ = np$$ We also know that a sum of two Poisson\n",
    "random variables with parameters λ1 and λ2 is a Poisson random variable with parameter λ1 + λ2. Thus, we can\n",
    "consider the following approximation of model 1:\n",
    "$$ p(a, b, c, d) = p(d|c)p(c|a, b)p(a)p(b),$$\n",
    "$$d|c ∼ c + Bin(c, p3),$$\n",
    "$$c|a, b ∼ Poiss(ap1 + bp2),$$\n",
    "\n",
    "#### Assignment\n",
    "\n",
    "Consider model 2 with parameters amin = 75, amax = 90, bmin = 500, bmax = 600, p1 = 0.1, p2 = 0.01, p3 = 0.3.\n",
    "Perform the following numerical experiments:\n",
    "\n",
    "1. Find expected value and variance of marginals for all random variables in the model: a, b, c, d.\n",
    "\n",
    "2. Study how indirect information improves the estimate of c. To do that, plot the distribution and find the expected\n",
    "value and variance for distributions p(c), p(c|a), p(c|b), p(c|d), p(c|a, b), p(c|a, b, d), when the parameters a, b, d\n",
    "equal the expectation of the respective marginals, rounded to the nearest integer.\n",
    "\n",
    "3. Determine which one of the parameters a, b, d contributes most to improving of the estimate of c (in the sense\n",
    "of the variance of distribution). Check that D[c|d] < D[c|b] and D[c|d] < D[c|a] for all permissible values of a, b,\n",
    "d. Are the sets { (a, b) | D[c|b] < D[c|a] } and { (a, b) | D[c|b] ≥ D[c|a] } linearly separable?\n",
    "\n",
    "4. Measure the time required to estimate the distributions p(c), p(c|a), p(c|b), p(c|d), p(c|a, b), p(c|a, b, d), p(d).\n",
    "\n",
    "5. Repeat experiments 1-4 for the exact model 1. Compare with results for model 2. Which parameter’s estimate,\n",
    "and under what conditions, is most different in models 1 and 2? Explain the result.\n",
    "Use the following permissible values for random variables: for c [0, amax + bmax], for d [0, 2(amax + bmax)].\n",
    "The estimation of any single distribution should not take more than 30 seconds.\n",
    "Bonus: if the estimation takes less than a second, you get 0.5 bonus points."
   ]
  },
  {
   "cell_type": "markdown",
   "metadata": {},
   "source": [
    "### Solution\n"
   ]
  },
  {
   "cell_type": "markdown",
   "metadata": {},
   "source": [
    "Model 2\n",
    "\n",
    "$$ c_{max} = a_{max} + b_{max}$$\n",
    "\n",
    "* $$ P(c) = \\sum_{a = a_{min}} ^ {a_{max}} \\sum_{b = b_{min}}^{b_{max}}\\frac{(p_1a +p_2b)^c}{c!} e^{-(p_1a + p_2b)} P(a) P(b) =\\\\ =\\sum_{a = a_{min}} ^ {a_{max}} \\sum_{b = b_{min}}^{b_{max}} \\frac{(p_1a +p_2b)^c}{c!} e^{-(p_1a + p_2b)} \\frac{1}{a_{max} - a_{min} + 1} \\frac{1}{b_{max} - b_{min} +1} $$\n",
    "\n",
    "\n",
    "* $$ E_c = p_1 E_a + p_2 E_b = E_{c(a)} + E_{c(b)} = \\sum_{k = 0}^{c_{max}} k P(c =k) = \n",
    "\\sum_{a = a_{min}}^{a_{max}}\\sum_{k =0}^{c_{max}} k \\frac{p_1^ka^k}{k!}e^{-p_1a}p(a) + \n",
    "\\sum_{b = b_{min}}^{b_{max}}\\sum_{k =0}^{c_{max}} k \\frac{p_1^kb^k}{k!}e^{-p_1b}p(b)= \\\\\n",
    "= \\sum_{a = a_{min}}^{a_{max}}\\sum_{k =0}^{c_{max}} k \\frac{p_1^ka^k}{k!}e^{-p_1a} \\frac{1}{a_{max} - a_{min} + 1} + \n",
    "\\sum_{b = b_{min}}^{b_{max}}\\sum_{k =0}^{c_{max}} k \\frac{p_1^kb^k}{k!}e^{-p_1b} \\frac{1}{b_{max} - b_{min} + 1} = \\sum_{c = 0}^{c_{max}} c P(c)$$\n",
    "$\\text{(I've used the last one)}$\n",
    "\n",
    "* $$ E_d = E_c + \\sum_{c=0}^{c = c_{max}}\\sum_{k=0}^{k = c}kC_c^kp_3^k(1-p_3)^{c-k}*P(c) = E_c ( 1 + p_3) $$\n",
    "\n",
    "Model 1\n",
    "\n",
    "* $$p(c)= \\sum_{a = a_{min}} ^ {a_{max}} \\sum_{b = b_{min}}^{b_{max}}\\sum_{k=0}^{c} f(k; a, p_1) *f(c-k;b, p_2)*p(a)*p(b)$$\n",
    "* $$f(k,a,p_1) = C_a^k * p_1^k(1-p_1)^{a-k}$$\n"
   ]
  },
  {
   "cell_type": "code",
   "execution_count": 288,
   "metadata": {
    "collapsed": false
   },
   "outputs": [],
   "source": [
    "import operator as op\n",
    "from scipy.stats import poisson, binom\n",
    "from math import factorial\n",
    "import numpy as np\n",
    "from matplotlib import pyplot as plt\n",
    "import scipy.misc as spm\n",
    "from time import time\n",
    "\n",
    "class Attendance:\n",
    "\n",
    "    def __init__(self, a_min, a_max, b_min, b_max, p1, p2, p3, model):\n",
    "\n",
    "        self.a_min = a_min\n",
    "        self.a_max = a_max\n",
    "        self.b_min = b_min\n",
    "        self.b_max = b_max\n",
    "        self.p1 = p1\n",
    "        self.p2 = p2\n",
    "        self.p3 = p3\n",
    "        self.c_max = a_max + b_max\n",
    "        self.d_max = 2*(a_max + b_max)\n",
    "        self.model = model\n",
    "        self.eps = 1e-10\n",
    "        self.excep = -1\n",
    "\n",
    "    def Ea(self):\n",
    "        return (self.a_max + self.a_min)/2.0\n",
    "\n",
    "    def Da (self):\n",
    "        return ((self.a_max - self.a_min + 1) - 1)**2/12.0\n",
    "    \n",
    "    def Db (self):\n",
    "        return ((self.b_max - self.b_min + 1) - 1)**2/12.0\n",
    "\n",
    "    def Eb(self):\n",
    "        return (self.b_max + self.b_min)/2.0\n",
    "    \n",
    "#----------------------------------------------------     c     --------------------------------------------\n",
    "    def pc (self):\n",
    "        \n",
    "        a_max = self.a_max\n",
    "        b_max = self.b_max\n",
    "        a_min = self.a_min\n",
    "        b_min = self.b_min\n",
    "\n",
    "        a = range(a_min, a_max + 1)\n",
    "        b = range(b_min, b_max + 1)\n",
    "        c = np.arange(self.c_max + 1)\n",
    "\n",
    "        if self.model == 2:\n",
    "        #Model 2\n",
    "            pois_a = poisson.pmf(range(a_max + 1), np.array(a).reshape(-1, 1) * self.p1)\n",
    "            pois_b = poisson.pmf(range(b_max + 1), np.array(b).reshape(-1, 1) * self.p2)\n",
    "\n",
    "            P_c = np.convolve(np.sum(pois_a, axis=0), np.sum(pois_b, axis=0))\n",
    "            P_c = P_c / sum(P_c)\n",
    "\n",
    "        if self.model == 1:\n",
    "        # Model 1\n",
    "            binom_a = binom.pmf(range(a_max + 1), np.array(a).reshape(-1, 1), self.p1)\n",
    "            binom_b = binom.pmf(range(b_max + 1), np.array(b).reshape(-1, 1), self.p2)\n",
    "\n",
    "            P_c = np.convolve(np.sum(binom_a, axis=0), np.sum(binom_b, axis=0))\n",
    "            P_c = P_c / sum(P_c)\n",
    "\n",
    "        return P_c\n",
    "\n",
    "    def Ec (self):\n",
    "        return np.dot(np.arange(self.c_max + 1), self.pc())\n",
    "         \n",
    "    def Dc (self):\n",
    "        return np.dot((np.arange(self.c_max + 1) - self.Ec())**2, self.pc())\n",
    "\n",
    "#-------------------------------------------------------   d     ---------------------------------------------- \n",
    "\n",
    "    def pd(self):\n",
    "    \n",
    "        a_max = self.a_max\n",
    "        b_max = self.b_max\n",
    "        c = np.arange(self.c_max + 1)\n",
    "        pc = self.pc()\n",
    "    \n",
    "        d = np.arange(self.d_max + 1)\n",
    "        pd = []\n",
    "    \n",
    "        binom_c = binom.pmf(c, c.reshape(-1, 1), self.p3)\n",
    "        D = np.multiply(binom_c, np.repeat(pc, len(c)).reshape(len(c), -1))\n",
    "        for i in range(-self.c_max, self.c_max):\n",
    "            pd.append(np.trace(np.flipud(D), i))\n",
    "    \n",
    "        pd = np.array(pd)\n",
    "        pd = pd / sum(pd)\n",
    "    \n",
    " \n",
    "        return pd\n",
    "        \n",
    "        \n",
    "    def Ed(self):\n",
    "        return np.dot(self.pd(), np.arange(self.d_max))\n",
    "        \n",
    "    def Dd(self):    \n",
    "        return np.dot((np.arange(self.d_max) - self.Ed())**2, self.pd())\n",
    "    \n",
    "#----------------------- Distributions---------------------------------------------------------   \n",
    "\n",
    "    # p(c|a,b)\n",
    "    def pc_ab(self, a, b):  \n",
    "        \n",
    "        c = np.arange(a + b + 1)\n",
    "\n",
    "        if self.model == 2:\n",
    "            p = poisson.pmf(range(a + b + 1), a * self.p1 + b * self.p2)\n",
    "            p = p / sum(p)\n",
    "\n",
    "        if self.smodel == 1:\n",
    "            binom_a = binom.pmf(range(a + 1), a, self.p1)\n",
    "            binom_b = binom.pmf(range(b + 1), b, self.p2)\n",
    "            p = np.convolve(binom_a, binom_b)\n",
    "            p = p / sum(p)\n",
    "\n",
    "        return p\n",
    "    \n",
    "    def Ec_ab (self):\n",
    "        a = round(self.Ea())\n",
    "        b = round(self.Eb())\n",
    "        return np.dot(np.arange(a + b + 1), self.pc_ab(a, b))\n",
    "         \n",
    "    def Dc_ab (self):\n",
    "        a = round(self.Ea())\n",
    "        b = round(self.Eb())\n",
    "        return np.dot((np.arange(a + b + 1) - self.Ec_ab())**2, self.pc_ab(a,b))\n",
    "    \n",
    "    # p(c|a)\n",
    "    def pc_a(self, a):\n",
    "        b_min = self.b_min\n",
    "        b_max = self.b_max\n",
    "        a_max = self.a_max\n",
    "        p1 = self.p1\n",
    "        p2 = self.p2\n",
    "\n",
    "        b = np.arange(b_min, b_max + 1)   \n",
    "        c = np.arange(self.c_max + 1)\n",
    "\n",
    "        if self.model == 2:\n",
    "            poisson_a = poisson.pmf(range(a_max + 1), a * p1)\n",
    "            poisson_b = poisson.pmf(range(b_max + 1), b.reshape(-1, 1) * p2)\n",
    "\n",
    "            p = np.convolve(poisson_a, np.sum(poisson_b, axis=0))\n",
    "            p = p / sum(p)\n",
    "\n",
    "\n",
    "        if self.model == 1:\n",
    "            binom_a = binom.pmf(range(a_max + 1), a,  p1)\n",
    "            binom_b = binom.pmf(range(b_max + 1), b.reshape(-1, 1),  p2)\n",
    "            p = np.convolve(binom_a, np.sum(binom_b, axis=0))\n",
    "            p = p / sum(p)\n",
    "\n",
    "\n",
    "        p = p / sum(p)\n",
    "\n",
    "        return p\n",
    "    \n",
    "    def Ec_a (self):\n",
    "        a = round(self.Ea())\n",
    "        return np.dot(np.arange(self.c_max + 1), self.pc_a(a))\n",
    "         \n",
    "    def Dc_a (self):\n",
    "        a = round(self.Ea())\n",
    "        return np.dot((np.arange(self.c_max + 1) - self.Ec_a())**2, self.pc_a(a))\n",
    "    \n",
    "    \n",
    "    # p(c|b)\n",
    "    def pc_b(self, b):\n",
    "        b_min = self.b_min\n",
    "        b_max= self.b_max\n",
    "        a_max = self.a_max\n",
    "        a_min = self.a_min\n",
    "        p1 = self.p1\n",
    "        p2 = self.p2\n",
    "\n",
    "        a = np.arange(a_min, a_max + 1)   \n",
    "        c = np.arange(self.c_max + 1)\n",
    "\n",
    "        if self.model == 2:\n",
    "            poisson_b = poisson.pmf(range(b_max + 1), b * p2)\n",
    "            poisson_a = poisson.pmf(range(a_max + 1), a.reshape(-1, 1) * p1)\n",
    "\n",
    "            p = np.convolve(poisson_b, np.sum(poisson_a, axis=0))\n",
    "            p = p / sum(p)\n",
    "\n",
    "\n",
    "        if self.model == 1:\n",
    "            binom_b = binom.pmf(range(b_max + 1), b,  p2)\n",
    "            binom_a = binom.pmf(range(a_max + 1), a.reshape(-1, 1),  p1)\n",
    "            p = np.convolve(binom_b, np.sum(binom_a, axis=0))\n",
    "            p = p / sum(p)\n",
    "\n",
    "\n",
    "        p = p / sum(p)\n",
    "\n",
    "        return p\n",
    "    \n",
    "    def Ec_b (self):\n",
    "        b = round(self.Eb())\n",
    "        return np.dot(np.arange(self.c_max + 1), self.pc_b(b))\n",
    "         \n",
    "    def Dc_b (self):\n",
    "        b = round(self.Eb())\n",
    "        return np.dot((np.arange(self.c_max + 1) - self.Ec_b())**2, self.pc_b(b))\n",
    "    \n",
    "    \n",
    "    # p(c|d)\n",
    "    def pc_d(self, d):\n",
    "        \n",
    "        p3 = self.p3\n",
    "        a_max = self.a_max\n",
    "        b_max = self.b_max\n",
    "        c = np.arange(self.c_max + 1)\n",
    "\n",
    "        p_c = self.pc()\n",
    "\n",
    "        binom_c = binom.pmf(c, c.reshape(-1, 1), p3) \n",
    "\n",
    "        D = np.multiply(binom_c, np.repeat(p_c, len(c)).reshape(len(c), -1))\n",
    "        p = np.diagonal(np.flipud(D), np.int(d) - c.max())[::-1]\n",
    "\n",
    "        p = np.concatenate((np.zeros(max(d-c.max(), 0)), p))\n",
    "        p = np.concatenate((p, np.zeros(len(c) - len(p))))\n",
    "\n",
    "        if sum(p) > 0:\n",
    "            p = p / sum(p)\n",
    "\n",
    "\n",
    "        return p\n",
    "     \n",
    "    def Ec_d(self):\n",
    "        d = round(self.Ed())\n",
    "        return np.dot(np.arange(self.c_max + 1), self.pc_d(d))\n",
    "\n",
    "    def Dc_d (self):\n",
    "        d = round(self.Ed())\n",
    "        return np.dot((np.arange(self.c_max + 1) - self.Ec_d())**2, self.pc_d(d))\n",
    "\n",
    "    # p(d|c)\n",
    "    def pd_c(self, c):\n",
    "\n",
    "        d = np.arange(c, 2 * c + 1)\n",
    "        p = binom.pmf(d-c, c, self.p3)\n",
    "\n",
    "        p = p / sum(p)\n",
    "\n",
    "        return p, d\n",
    "    \n",
    "M2 = Attendance(a_min = 75, a_max = 90, b_min = 500, b_max = 600, p1 = 0.1, p2 = 0.01, p3 = 0.3, model = 2)\n",
    "M1 = Attendance(a_min = 75, a_max = 90, b_min = 500, b_max = 600, p1 = 0.1, p2 = 0.01, p3 = 0.3, model = 1)"
   ]
  },
  {
   "cell_type": "markdown",
   "metadata": {},
   "source": [
    "### Test "
   ]
  },
  {
   "cell_type": "code",
   "execution_count": 239,
   "metadata": {
    "collapsed": false
   },
   "outputs": [
    {
     "data": {
      "text/plain": [
       "82.0"
      ]
     },
     "execution_count": 239,
     "metadata": {},
     "output_type": "execute_result"
    }
   ],
   "source": [
    "round(82.4)"
   ]
  },
  {
   "cell_type": "markdown",
   "metadata": {},
   "source": [
    "## Task $1$"
   ]
  },
  {
   "cell_type": "code",
   "execution_count": 261,
   "metadata": {
    "collapsed": true
   },
   "outputs": [],
   "source": [
    "M2 = Attendance(a_min = 75, a_max = 90, b_min = 500, b_max = 600, p1 = 0.1, p2 = 0.01, p3 = 0.3, model = 2)\n",
    "M1 = Attendance(a_min = 75, a_max = 90, b_min = 500, b_max = 600, p1 = 0.1, p2 = 0.01, p3 = 0.3, model = 1)"
   ]
  },
  {
   "cell_type": "code",
   "execution_count": 238,
   "metadata": {
    "collapsed": false
   },
   "outputs": [
    {
     "name": "stdout",
     "output_type": "stream",
     "text": [
      "Expectation a: Ea = 82.5, variance a: Da = 18.75\n",
      "Expectation b: Eb = 550.0, variance b: Db = 833.333333333\n",
      "\n",
      "Model 2: Expectation c: Ec = 13.75, variance c: Dc = 14.0475\n",
      "Model 1: Expectation c: Ec = 13.75, variance c: Dc = 13.1675\n",
      "\n",
      "Model 2: Expectation d: Ed = 17.875, variance d: Dd = 26.627775\n",
      "Model 1: Expectation d: Ed = 17.875, variance d: Dd = 25.140575\n"
     ]
    }
   ],
   "source": [
    "print 'Expectation a: Ea = {}, variance a: Da = {}'.format(M2.Ea(), M2.Da())\n",
    "print 'Expectation b: Eb = {}, variance b: Db = {}'.format(M1.Eb(), M1.Db())\n",
    "\n",
    "print '\\nModel 2: Expectation c: Ec = {}, variance c: Dc = {}'.format(M2.Ec(), M2.Dc())\n",
    "print 'Model 1: Expectation c: Ec = {}, variance c: Dc = {}'.format(M1.Ec(), M1.Dc())\n",
    "\n",
    "print '\\nModel 2: Expectation d: Ed = {}, variance d: Dd = {}'.format(M2.Ed(), M2.Dd())\n",
    "print 'Model 1: Expectation d: Ed = {}, variance d: Dd = {}'.format(M1.Ed(), M1.Dd())"
   ]
  },
  {
   "cell_type": "markdown",
   "metadata": {},
   "source": [
    "### Task $2$\n",
    "#### Plot Distributions"
   ]
  },
  {
   "cell_type": "markdown",
   "metadata": {},
   "source": [
    "\n",
    "\n",
    "* $$ p(c|d) = \\frac{p(d|c) p(c)}{p(d)}$$\n",
    "\n",
    "\n",
    "* $$ p(c|a,b,d) = \\frac{p(d|a,b,c) p(c)}{p(d)} = \\frac{p(d|c)p(c|a,b) p(c)}{p(d)}$$"
   ]
  },
  {
   "cell_type": "code",
   "execution_count": 253,
   "metadata": {
    "collapsed": false
   },
   "outputs": [
    {
     "name": "stdout",
     "output_type": "stream",
     "text": [
      "Model 2: Expectation on c: Ec = 13.8, variance on c: Dc = 13.885\n",
      "Model 1: Expectation on c: Ec = 13.8, variance on c: Dc = 13.0\n",
      "\n"
     ]
    }
   ],
   "source": [
    "# Expectation and variance of p(c|a) \n",
    "print 'Model 2: Expectation on c: Ec = {}, variance on c: Dc = {}'.format(M2.Ec_a(), M2.Dc_a())\n",
    "print 'Model 1: Expectation on c: Ec = {}, variance on c: Dc = {}\\n'.format(M1.Ec_a(), M1.Dc_a())"
   ]
  },
  {
   "cell_type": "code",
   "execution_count": 268,
   "metadata": {
    "collapsed": false
   },
   "outputs": [
    {
     "data": {
      "image/png": "[encoded data removed]",
      "text/plain": [
       "<matplotlib.figure.Figure at 0x7f53d66e0550>"
      ]
     },
     "metadata": {},
     "output_type": "display_data"
    }
   ],
   "source": [
    "fig = plt.figure(figsize=(10, 6))\n",
    "plt.title('p(c|a) estimation, Model 2')\n",
    "plt.xlabel('c')\n",
    "plt.ylabel('p(c|a)')\n",
    "\n",
    "pc_a = M2.pc_a(a = M2.Ea())\n",
    "plt.plot(np.arange(M2.c_max + 1), pc_a, label='Model 2')\n",
    "\n",
    "# p(c) plot for Model 1\n",
    "pc_a = M1.pc_a(a = M1.Ea())\n",
    "plt.plot(np.arange(M2.c_max + 1), pc_a, label='Model 1')\n",
    "\n",
    "plt.legend(loc='best')\n",
    "plt.xlim(0, 30)\n",
    "plt.show()"
   ]
  },
  {
   "cell_type": "code",
   "execution_count": 262,
   "metadata": {
    "collapsed": false
   },
   "outputs": [
    {
     "name": "stdout",
     "output_type": "stream",
     "text": [
      "Model 2: Expectation on c: Ec = 13.75, variance on c: Dc = 13.9625\n",
      "Model 1: Expectation on c: Ec = 13.75, variance on c: Dc = 13.0825\n",
      "\n"
     ]
    }
   ],
   "source": [
    "# Expectation and variance of p(c|b) \n",
    "print 'Model 2: Expectation on c: Ec = {}, variance on c: Dc = {}'.format(M2.Ec_b(), M2.Dc_b())\n",
    "print 'Model 1: Expectation on c: Ec = {}, variance on c: Dc = {}\\n'.format(M1.Ec_b(), M1.Dc_b())"
   ]
  },
  {
   "cell_type": "code",
   "execution_count": 270,
   "metadata": {
    "collapsed": false
   },
   "outputs": [
    {
     "data": {
      "image/png": "[encoded data removed]",
      "text/plain": [
       "<matplotlib.figure.Figure at 0x7f53d66e0990>"
      ]
     },
     "metadata": {},
     "output_type": "display_data"
    }
   ],
   "source": [
    "fig = plt.figure(figsize=(10, 6))\n",
    "plt.title('p(c|b) estimation, Model 2')\n",
    "plt.xlabel('c')\n",
    "plt.ylabel('p(c|b)')\n",
    "\n",
    "pc_b = M2.pc_b(b = M2.Eb())\n",
    "plt.plot(np.arange(M2.c_max + 1), pc_b, label='Model 2')\n",
    "\n",
    "# p(c) plot for Model 1\n",
    "pc_b = M1.pc_b(b = M1.Eb())\n",
    "plt.plot(np.arange(M2.c_max + 1), pc_b, label='Model 1')\n",
    "\n",
    "plt.legend(loc='best')\n",
    "plt.xlim(0, 30)\n",
    "plt.show()"
   ]
  },
  {
   "cell_type": "code",
   "execution_count": 289,
   "metadata": {
    "collapsed": false
   },
   "outputs": [
    {
     "name": "stdout",
     "output_type": "stream",
     "text": [
      "Model 2: Expectation on c: Ec = 13.8938338922, variance on c: Dc = 1.5439433291\n",
      "Model 1: Expectation on c: Ec = 13.895970599, variance on c: Dc = 1.53358170067\n",
      "\n"
     ]
    }
   ],
   "source": [
    "# Expectation and variance of p(c|d) \n",
    "print 'Model 2: Expectation on c: Ec = {}, variance on c: Dc = {}'.format(M2.Ec_d(), M2.Dc_d())\n",
    "print 'Model 1: Expectation on c: Ec = {}, variance on c: Dc = {}\\n'.format(M1.Ec_d(), M1.Dc_d())"
   ]
  },
  {
   "cell_type": "code",
   "execution_count": null,
   "metadata": {
    "collapsed": true
   },
   "outputs": [],
   "source": [
    "fig = plt.figure(figsize=(10, 6))\n",
    "plt.title('p(c|b) estimation, Model 2')\n",
    "plt.xlabel('c')\n",
    "plt.ylabel('p(c|b)')\n",
    "\n",
    "pc_b = M2.pc_b(b = M2.Eb())\n",
    "plt.plot(np.arange(M2.c_max + 1), pc_b, label='Model 2')\n",
    "\n",
    "# p(c) plot for Model 1\n",
    "pc_b = M1.pc_b(b = M1.Eb())\n",
    "plt.plot(np.arange(M2.c_max + 1), pc_b, label='Model 1')\n",
    "\n",
    "plt.legend(loc='best')\n",
    "plt.xlim(0, 30)\n",
    "plt.show()"
   ]
  },
  {
   "cell_type": "markdown",
   "metadata": {},
   "source": [
    "### Task $4$\n",
    "#### Timing"
   ]
  },
  {
   "cell_type": "code",
   "execution_count": 56,
   "metadata": {
    "collapsed": false
   },
   "outputs": [
    {
     "name": "stdout",
     "output_type": "stream",
     "text": [
      "time p(c) 0.0004 sec\n",
      "time p(c|a) 1.0821 sec\n",
      "time p(c|b) 0.1858 sec\n",
      "time p(c|ab) 0.0113 sec\n",
      "time p(cd) 0.4964 sec\n",
      "time p(c|abd) 0.3529 sec\n"
     ]
    }
   ],
   "source": [
    "import time \n",
    "import numpy as np\n",
    "\n",
    "\n",
    "\n",
    "# p(c)\n",
    "start_time = time.time()\n",
    "M1.pc()\n",
    "print 'time p(c) model 1',  round(time.time() - start_time,4), 'sec'\n",
    "start_time = time.time()\n",
    "M2.pc()\n",
    "print 'time p(c) model 2',  round(time.time() - start_time,4), 'sec'    \n",
    "\n",
    "# p(c|a)    \n",
    "\n",
    "start_time = time.time()\n",
    "M1.pc_a()\n",
    "print 'time p(c|a) model 1', round(time.time() - start_time,4), 'sec'\n",
    "start_time = time.time()\n",
    "M2.pc_a()\n",
    "print 'time p(c|a) model 2', round(time.time() - start_time,4), 'sec'    \n",
    "    \n",
    "# p(c|b)\n",
    "\n",
    "start_time = time.time()\n",
    "M1.pc_b()\n",
    "print 'time p(c|b) model 1', round(time.time() - start_time, 4), 'sec'\n",
    "start_time = time.time()\n",
    "M2.pc_b()\n",
    "print 'time p(c|b) model 2', round(time.time() - start_time, 4), 'sec'\n",
    "\n",
    "# p(c|ab)\n",
    "start_time = time.time()\n",
    "M1.pc_ab()\n",
    "print 'time p(c|ab) model 1', round(time.time() - start_time, 4), 'sec'\n",
    "# p(c|ab)\n",
    "start_time = time.time()\n",
    "M2.pc_ab()\n",
    "print 'time p(c|ab) model 2', round(time.time() - start_time, 4), 'sec'\n",
    "    \n",
    "# p(c|d)\n",
    "start_time = time.time()\n",
    "M1.pc_d()\n",
    "print 'time p(cd) model 1', round(time.time() - start_time, 4), 'sec'  \n",
    "start_time = time.time()\n",
    "M2.pc_d()\n",
    "print 'time p(cd) model 2', round(time.time() - start_time, 4), 'sec'    \n",
    "\n",
    "#p(c|abd)\n",
    "start_time = time.time()\n",
    "M1.pc_abd()\n",
    "print 'time p(c|abd) model 1', round(time.time() - start_time, 4), 'sec'\n",
    "start_time = time.time()\n",
    "M2.pc_abd()\n",
    "print 'time p(c|abd) model 2', round(time.time() - start_time, 4), 'sec'"
   ]
  },
  {
   "cell_type": "markdown",
   "metadata": {},
   "source": [
    "#### Expected values"
   ]
  },
  {
   "cell_type": "markdown",
   "metadata": {},
   "source": [
    "#### Distribution"
   ]
  },
  {
   "cell_type": "code",
   "execution_count": 37,
   "metadata": {
    "collapsed": false
   },
   "outputs": [
    {
     "data": {
      "image/png": "[encoded data removed]",
      "text/plain": [
       "<matplotlib.figure.Figure at 0x7fdd6ac225d0>"
      ]
     },
     "metadata": {},
     "output_type": "display_data"
    }
   ],
   "source": [
    "import numpy as np\n",
    "import matplotlib.pyplot as plt\n",
    "%matplotlib inline\n",
    "c = np.arange(0, Results.c_max//20, 1)\n",
    "c_small = np.arange(0, Results.c_max//20)\n",
    "#c = np.concatenate((c, np.arange(Results.c_max//10 + 1, 20)))\n",
    "plt.xlabel('p')\n",
    "plt.ylabel('c')\n",
    "plt.plot(c, pc,  label = 'p(c)')\n",
    "plt.plot(c, pc_a,  label = 'p(c|a)')\n",
    "plt.plot(c, pc_ab, label = 'p(c|a,b)')\n",
    "plt.plot(c, pc_d, label = 'p(c|d)')\n",
    "plt.plot(c, pc_abd, label = 'p(c|a,b,d)')\n",
    "plt.legend()\n",
    "plt.show()"
   ]
  },
  {
   "cell_type": "markdown",
   "metadata": {},
   "source": [
    "## Model $1$"
   ]
  },
  {
   "cell_type": "code",
   "execution_count": 224,
   "metadata": {
    "collapsed": false
   },
   "outputs": [],
   "source": [
    "Results = Attendance(a_min = 75, a_max = 90, b_min = 500, b_max = 600, p1 = 0.1, p2 = 0.01, p3 = 0.3, model = 1)\n",
    "#Results.init_caches()\n"
   ]
  },
  {
   "cell_type": "code",
   "execution_count": null,
   "metadata": {
    "collapsed": true
   },
   "outputs": [],
   "source": [
    "import time \n",
    "import numpy as np\n",
    "\n",
    "\n",
    "\n",
    "# p(c)\n",
    "start_time = time.time()\n",
    "Results.pc()\n",
    "print 'time p(c)',  round(time.time() - start_time,4), 'sec'\n",
    "    \n",
    "\n",
    "# p(c|a)    \n",
    "\n",
    "start_time = time.time()\n",
    "Results.pc_a()\n",
    "print 'time p(c|a)', round(time.time() - start_time,4), 'sec'\n",
    "    \n",
    "    \n",
    "# p(c|b)\n",
    "\n",
    "start_time = time.time()\n",
    "Results.pc_b()\n",
    "print 'time p(c|b)', round(time.time() - start_time, 4), 'sec'\n",
    "\n",
    "# p(c|ab)\n",
    "start_time = time.time()\n",
    "Results.pc_ab()\n",
    "print 'time p(c|ab)', round(time.time() - start_time, 4), 'sec'\n",
    "    \n",
    "# p(c|d)\n",
    "start_time = time.time()\n",
    "Results.pc_d()\n",
    "print 'time p(cd)', round(time.time() - start_time, 4), 'sec'    \n",
    "\n",
    "#p(c|abd)\n",
    "start_time = time.time()\n",
    "Results.pc_abd()\n",
    "print 'time p(c|abd)', round(time.time() - start_time, 4), 'sec'"
   ]
  },
  {
   "cell_type": "code",
   "execution_count": null,
   "metadata": {
    "collapsed": true
   },
   "outputs": [],
   "source": [
    "    inter = Results.c_max//20\n",
    "\n",
    "Ec_a = 0\n",
    "for c in range (0, inter):\n",
    "    Ec_a += c * pc_a[c]\n",
    "    \n",
    "Ec_b = 0\n",
    "for c in range (0, inter):\n",
    "    Ec_b += c * pc_b[c]\n",
    "    \n",
    "Ec_ab = 0\n",
    "for c in range (0, inter):\n",
    "    Ec_ab += c * pc_ab[c]\n",
    "    \n",
    "Ec_d = 0\n",
    "for c in range (0, inter):\n",
    "    Ec_d += c * pc_d[c]\n",
    "    \n",
    "Ec_abd = 0\n",
    "for c in range (0, inter):\n",
    "    Ec_abd += c * pc_abd[c]\n",
    "\n",
    "print 'Expected value p(c|a)', Ec_a\n",
    "print 'Expected value p(c|b)', Ec_b\n",
    "print 'Expected value p(c|ab)', Ec_ab\n",
    "print 'Expected value p(c|d)', Ec_d\n",
    "print 'Expected value p(c|a,b,d)', Ec_abd\n",
    "\n",
    "Ec2_a = 0\n",
    "for c in range (0, inter):\n",
    "    Ec2_a += c**2 * pc_a[c]\n",
    "    \n",
    "Ec2_b = 0\n",
    "for c in range (0, inter):\n",
    "    Ec2_b += c**2 * pc_b[c]\n",
    "    \n",
    "Ec2_ab = 0\n",
    "for c in range (0, inter):\n",
    "    Ec2_ab += c**2 * pc_ab[c]\n",
    "    \n",
    "Ec2_d = 0\n",
    "for c in range (0, inter):\n",
    "    Ec2_d += c**2 * pc_d[c]\n",
    "    \n",
    "Ec2_abd = 0\n",
    "for c in range (0, inter):\n",
    "    Ec2_abd += c**2 * pc_abd[c]\n",
    "    \n",
    "print '\\nVariance p(c|a)', Ec2_a - (Ec_a)**2\n",
    "print 'Variance p(c|b)', Ec2_b - (Ec_b)**2\n",
    "print 'Variance p(c|ab)', Ec2_ab - (Ec_ab)**2\n",
    "print 'Variance p(c|d)', Ec2_d - (Ec_d)**2\n",
    "print 'Variance p(c|a,b,d)', Ec2_abd - (Ec_abd)**2    "
   ]
  }
 ],
 "metadata": {
  "kernelspec": {
   "display_name": "Python 2",
   "language": "python",
   "name": "python2"
  },
  "language_info": {
   "codemirror_mode": {
    "name": "ipython",
    "version": 2
   },
   "file_extension": ".py",
   "mimetype": "text/x-python",
   "name": "python",
   "nbconvert_exporter": "python",
   "pygments_lexer": "ipython2",
   "version": "2.7.11"
  }
 },
 "nbformat": 4,
 "nbformat_minor": 0
}
