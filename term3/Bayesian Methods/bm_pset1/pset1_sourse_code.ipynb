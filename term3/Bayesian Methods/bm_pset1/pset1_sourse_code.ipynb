{
 "cells": [
  {
   "cell_type": "code",
   "execution_count": 18,
   "metadata": {
    "collapsed": true
   },
   "outputs": [],
   "source": [
    "import operator as op\n",
    "from scipy.stats import poisson, binom\n",
    "from math import factorial\n",
    "import numpy as np\n",
    "from matplotlib import pyplot as plt\n",
    "import scipy.misc as spm\n",
    "import time \n",
    "import numpy as np\n",
    "\n",
    "params = {'a_min': 75, 'a_max': 90, 'b_min': 500,\n",
    "          'b_max': 600, 'p_1': 0.1, 'p_2': 0.01, 'p_3': 0.3}"
   ]
  },
  {
   "cell_type": "code",
   "execution_count": 33,
   "metadata": {
    "collapsed": true
   },
   "outputs": [],
   "source": [
    "def Ea(params):\n",
    "    a_max = params['a_max']\n",
    "    a_min = params['a_min']\n",
    "    \n",
    "    return (a_max + a_min)/2.0\n",
    "\n",
    "def Da (params):\n",
    "    a_max = params['a_max']\n",
    "    a_min = params['a_min']\n",
    "    \n",
    "    return ((a_max - a_min + 1) - 1)**2/12.0\n",
    "\n",
    "def Db (params):\n",
    "    b_min = params['b_min']\n",
    "    b_max = params['b_max']\n",
    "    \n",
    "    return ((b_max - b_min + 1) - 1)**2/12.0\n",
    "\n",
    "def Eb(params):\n",
    "    b_min = params['b_min']\n",
    "    b_max = params['b_max']\n",
    "    \n",
    "    return (b_max + b_min)/2.0"
   ]
  },
  {
   "cell_type": "code",
   "execution_count": 6,
   "metadata": {
    "collapsed": false
   },
   "outputs": [
    {
     "name": "stdout",
     "output_type": "stream",
     "text": [
      "Expectation a: Ea = 82.5, variance a: Da = 18.75\n",
      "Expectation b: Eb = 550.0, variance b: Db = 833.333333333\n"
     ]
    }
   ],
   "source": [
    "print 'Expectation a: Ea = {}, variance a: Da = {}'.format(Ea(params), Da(params))\n",
    "print 'Expectation b: Eb = {}, variance b: Db = {}'.format(Eb(params), Db(params))"
   ]
  },
  {
   "cell_type": "code",
   "execution_count": 34,
   "metadata": {
    "collapsed": true
   },
   "outputs": [],
   "source": [
    "def pc_a(a, params, model=2):\n",
    "    \n",
    "    a_max = params['a_max']\n",
    "    b_min = params['b_min']\n",
    "    b_max = params['b_max']\n",
    "    p1 = params['p_1']\n",
    "    p2 = params['p_2']\n",
    "    \n",
    "    b = np.arange(b_min, b_max + 1)   \n",
    "    c = np.arange(a_max + b_max + 1)\n",
    "\n",
    "    \n",
    "    if model == 2:\n",
    "        \n",
    "        pois_a = poisson.pmf(range(a_max + 1), a * p1)\n",
    "        pois_b = poisson.pmf(range(b_max + 1), b.reshape(-1, 1) * p2)\n",
    "        p = np.convolve(pois_a, np.sum(pois_b, axis=0))\n",
    "         \n",
    "    \n",
    "    if model == 1:\n",
    "        \n",
    "        binom_a = binom.pmf(range(a_max + 1), a,  p1)\n",
    "        binom_b = binom.pmf(range(b_max + 1), b.reshape(-1, 1),  p2)\n",
    "        p = np.convolve(binom_a, np.sum(binom_b, axis=0))\n",
    "\n",
    "    p = p / sum(p)\n",
    "    return p, c"
   ]
  },
  {
   "cell_type": "code",
   "execution_count": 40,
   "metadata": {
    "collapsed": false
   },
   "outputs": [
    {
     "name": "stdout",
     "output_type": "stream",
     "text": [
      "Model 1 . Expectation c: Ec = 13.8, variance c: Dc = 13.0\n",
      "Model 2 . Expectation c: Ec = 13.8, variance c: Dc = 13.885\n"
     ]
    }
   ],
   "source": [
    "E_a = int(round(Ea(params)))\n",
    "\n",
    "for i in [1,2]:\n",
    "    \n",
    "    c_a = pc_a(E_a, params, model = i)\n",
    "    E_ca = np.dot(c_a[1], c_a[0])\n",
    "    D_ca = np.dot((c_a[1] - E_ca)**2, c_a[0])\n",
    "    print 'Model', i,'. Expectation c: Ec = {}, variance c: Dc = {}'.format(E_ca, D_ca)"
   ]
  },
  {
   "cell_type": "code",
   "execution_count": 41,
   "metadata": {
    "collapsed": true
   },
   "outputs": [],
   "source": [
    "def pc_b(b, params, model=2):\n",
    "    \n",
    "    a_min = params['a_min']\n",
    "    a_max = params['a_max']\n",
    "    b_max = params['b_max']\n",
    "    p1 = params['p_1']\n",
    "    p2 = params['p_2']\n",
    "    \n",
    "    a = np.arange(a_min, a_max + 1)\n",
    "    c = np.arange(a_max + b_max + 1)\n",
    "\n",
    "\n",
    "    if model == 2:\n",
    "        pois_a = poisson.pmf(range(a_max + 1), a.reshape(-1, 1) * p1)\n",
    "        pois_b = poisson.pmf(range(b_max + 1), b * p2)\n",
    "        p = np.convolve(np.sum(pois_a, axis=0), pois_b)\n",
    "         \n",
    "    if model == 1:\n",
    "        binom_a = binom.pmf(range(a_max + 1), a.reshape(-1, 1),  p1)\n",
    "        binom_b = binom.pmf(range(b_max + 1), b,  p2)\n",
    "        p = np.convolve(np.sum(binom_a, axis=0), binom_b)\n",
    "    \n",
    "    p = p / sum(p)\n",
    "    return p, c"
   ]
  },
  {
   "cell_type": "code",
   "execution_count": 74,
   "metadata": {
    "collapsed": false
   },
   "outputs": [
    {
     "name": "stdout",
     "output_type": "stream",
     "text": [
      "Model 1 . Expectation c: Ec = 13.75, variance c: Dc = 13.0825\n",
      "Model 2 . Expectation c: Ec = 13.75, variance c: Dc = 13.9625\n"
     ]
    }
   ],
   "source": [
    "E_b = int(round(Eb(params)))\n",
    "\n",
    "for i in [1,2]:\n",
    "    \n",
    "    c_b = pc_b(E_b, params, model = i)\n",
    "    E_cb = np.dot(c_b[1], c_b[0])\n",
    "    D_cb = np.dot((c_b[1] - E_cb)**2, c_b[0])\n",
    "    print 'Model', i,'. Expectation c: Ec = {}, variance c: Dc = {}'.format(E_cb, D_cb)"
   ]
  },
  {
   "cell_type": "code",
   "execution_count": 44,
   "metadata": {
    "collapsed": true
   },
   "outputs": [],
   "source": [
    "def pc_ab(a, b, params, model=2):  \n",
    "    a_max = params['a_max']\n",
    "    b_max = params['b_max']\n",
    "    p1 = params['p_1']\n",
    "    p2 = params['p_2']\n",
    "    c = np.arange(a + b + 1)\n",
    "    \n",
    "    if model == 2:\n",
    "        p = poisson.pmf(range(a + b + 1), a * p1 + b * p2)\n",
    "         \n",
    "    if model == 1:\n",
    "        binom_a = binom.pmf(range(a + 1), a, p1)\n",
    "        binom_b = binom.pmf(range(b + 1), b, p2)\n",
    "        p = np.convolve(binom_a, binom_b)\n",
    "    \n",
    "    p = p / sum(p)\n",
    "    return p, c"
   ]
  },
  {
   "cell_type": "code",
   "execution_count": 45,
   "metadata": {
    "collapsed": false
   },
   "outputs": [
    {
     "name": "stdout",
     "output_type": "stream",
     "text": [
      "Model 1 . Expectation c: Ec = 13.8, variance c: Dc = 12.915\n",
      "Model 2 . Expectation c: Ec = 13.8, variance c: Dc = 13.8\n"
     ]
    }
   ],
   "source": [
    "E_a = int(round(Ea(params)))\n",
    "E_b = int(round(Eb(params)))\n",
    "\n",
    "for i in [1,2]:\n",
    "    \n",
    "    c_ab = pc_ab(E_a, E_b, params, model = i)\n",
    "    Ec_ab = np.dot(c_ab[1], c_ab[0])\n",
    "    Dc_ab = np.dot((c_ab[1] - Ec_ab)**2, c_ab[0])\n",
    "    print 'Model', i,'. Expectation c: Ec = {}, variance c: Dc = {}'.format(Ec_ab, Dc_ab)"
   ]
  },
  {
   "cell_type": "code",
   "execution_count": 46,
   "metadata": {
    "collapsed": true
   },
   "outputs": [],
   "source": [
    "def pc(params, model=2):\n",
    "    \n",
    "    a_min = params['a_min']\n",
    "    a_max = params['a_max']\n",
    "    b_min = params['b_min']\n",
    "    b_max = params['b_max']\n",
    "    p1 = params['p_1']\n",
    "    p2 = params['p_2']\n",
    "\n",
    "    a = np.arange(a_min, a_max + 1)\n",
    "    b = np.arange(b_min, b_max + 1)\n",
    "    c = np.arange(a_max + b_max + 1)\n",
    "\n",
    "\n",
    "    if model == 2:\n",
    "        pois_a = poisson.pmf(range(a_max + 1), a.reshape(-1, 1) * p1)\n",
    "        pois_b = poisson.pmf(range(b_max + 1), b.reshape(-1, 1) * p2)\n",
    "        p = np.convolve(np.sum(pois_a, axis=0), np.sum(pois_b, axis=0))\n",
    "        p = p / sum(p)\n",
    "\n",
    "    if model == 1:\n",
    "        binom_a = binom.pmf(range(a_max + 1), a.reshape(-1, 1), p1)\n",
    "        binom_b = binom.pmf(range(b_max + 1), b.reshape(-1, 1), p2)\n",
    "        p = np.convolve(np.sum(binom_a, axis=0), np.sum(binom_b, axis=0))\n",
    "        p = p / sum(p)\n",
    "\n",
    "    return p, c"
   ]
  },
  {
   "cell_type": "code",
   "execution_count": 48,
   "metadata": {
    "collapsed": false
   },
   "outputs": [
    {
     "name": "stdout",
     "output_type": "stream",
     "text": [
      "Model 1 . Expectation c: Ec = 13.75, variance c: Dc = 13.1675\n",
      "Model 2 . Expectation c: Ec = 13.75, variance c: Dc = 14.0475\n"
     ]
    }
   ],
   "source": [
    "for i in [1,2]:\n",
    "    \n",
    "    p_c = pc(params, model = i)\n",
    "    Ec = np.dot(p_c[1], p_c[0])\n",
    "    Dc = np.dot((p_c[1] - Ec)**2, p_c[0])\n",
    "    print 'Model', i,'. Expectation c: Ec = {}, variance c: Dc = {}'.format(Ec, Dc)"
   ]
  },
  {
   "cell_type": "code",
   "execution_count": 53,
   "metadata": {
    "collapsed": true
   },
   "outputs": [],
   "source": [
    "def pd(params, model=2):\n",
    "    \n",
    "    p3 = params['p_3']\n",
    "    a_max = params['a_max']\n",
    "    b_max = params['b_max']\n",
    "    \n",
    "    p_c, c = pc(params, model)\n",
    "    \n",
    "    d = np.arange(2 * c.max() + 1)\n",
    "    p = []\n",
    "    \n",
    "    binom_c = binom.pmf(range(c.max() + 1), c.reshape(-1, 1), p3)\n",
    "    D = np.multiply(binom_c, np.repeat(p_c, len(c)).reshape(len(c), -1))\n",
    "    for i in range(-c.max(), c.max() + 1):\n",
    "        p.append(np.trace(np.flipud(D), i))\n",
    "    \n",
    "    p = np.array(p)\n",
    "    p = p / sum(p)\n",
    "    \n",
    "    return p, d"
   ]
  },
  {
   "cell_type": "code",
   "execution_count": 57,
   "metadata": {
    "collapsed": false
   },
   "outputs": [
    {
     "name": "stdout",
     "output_type": "stream",
     "text": [
      "Model 1 . Expectation c: Ed = 17.875, variance c: Dd = 25.140575\n",
      "Model 2 . Expectation c: Ed = 17.875, variance c: Dd = 26.627775\n"
     ]
    }
   ],
   "source": [
    "for i in [1,2]:\n",
    "    \n",
    "    p_d = pd(params, model = i)\n",
    "    Ed = np.dot(p_d[1], p_d[0])\n",
    "    Dd = np.dot((p_d[1] - Ed)**2, p_d[0])\n",
    "    print 'Model', i,'. Expectation c: Ed = {}, variance c: Dd = {}'.format(Ed, Dd)"
   ]
  },
  {
   "cell_type": "code",
   "execution_count": 56,
   "metadata": {
    "collapsed": true
   },
   "outputs": [],
   "source": [
    "def pc_d(d, params, model=2):\n",
    "    \n",
    "    p3 = params['p_3']\n",
    "    a_max = params['a_max']\n",
    "    b_max = params['b_max']\n",
    "    \n",
    "    \n",
    "    p_c, c = pc(params, model=model)\n",
    "\n",
    "    binom_c = binom.pmf(range(c.max() + 1), c.reshape(-1, 1), p3) \n",
    "    \n",
    "    D = np.multiply(binom_c, np.repeat(p_c, len(c)).reshape(len(c), -1))\n",
    "    \n",
    "    p = np.diagonal(np.flipud(D), d - c.max())[::-1]\n",
    "    p = np.concatenate((np.zeros(max(d-c.max(), 0)), p))\n",
    "    p = np.concatenate((p, np.zeros(len(c) - len(p))))\n",
    "\n",
    "    p = p / sum(p)\n",
    "    \n",
    "    return p, c"
   ]
  },
  {
   "cell_type": "code",
   "execution_count": 59,
   "metadata": {
    "collapsed": false
   },
   "outputs": [
    {
     "name": "stdout",
     "output_type": "stream",
     "text": [
      "Model 1 . Expectation c: Ec = 13.895970599, variance c: Dc = 1.53358170067\n",
      "Model 2 . Expectation c: Ec = 13.8938338922, variance c: Dc = 1.5439433291\n"
     ]
    }
   ],
   "source": [
    "for i in [1,2]:\n",
    "    \n",
    "    p_d = pd(params, model = i)\n",
    "    Ed = int(round(np.dot(p_d[1], p_d[0])))\n",
    "    \n",
    "    p_cd = pc_d(Ed, params, model = i)\n",
    "    Ec_d = np.dot(p_cd[1], p_cd[0])\n",
    "    Dc_d = np.dot((p_cd[1] - Ec_d)**2, p_cd[0])\n",
    "    print 'Model', i,'. Expectation c: Ec = {}, variance c: Dc = {}'.format(Ec_d, Dc_d)"
   ]
  },
  {
   "cell_type": "code",
   "execution_count": 72,
   "metadata": {
    "collapsed": true
   },
   "outputs": [],
   "source": [
    "\n",
    "def pc_abd(a, b, d, params, model=2):\n",
    "    \n",
    "    a_min = params['a_min']\n",
    "    a_max = params['a_max']\n",
    "    b_min = params['b_min']\n",
    "    b_max = params['b_max']\n",
    "    p1 = params['p_1']\n",
    "    p2 = params['p_2']\n",
    "    p3 = params['p_3']\n",
    "    \n",
    "    c = np.arange(min(a + b, d) + 1)\n",
    "    p_cab = pc_ab(a, b, params, model)[0][:c.max() + 1]\n",
    "    binom_c = binom.pmf(range(c.max() + 1), c.reshape(-1, 1), p3) \n",
    "    \n",
    "    D = np.multiply(binom_c, np.repeat(p_cab, len(c)).reshape(len(c), -1))\n",
    "    p = np.diagonal(np.flipud(D), d - c.max())[::-1]\n",
    "        \n",
    "    p = p / sum(p)\n",
    "    \n",
    "    return p, c"
   ]
  },
  {
   "cell_type": "code",
   "execution_count": 73,
   "metadata": {
    "collapsed": false
   },
   "outputs": [
    {
     "name": "stdout",
     "output_type": "stream",
     "text": [
      "Model 1 . Expectation c: Ec = 13.9027555944, variance c: Dc = 1.53014020852\n",
      "Model 2 . Expectation c: Ec = 13.900175167, variance c: Dc = 1.54088384958\n"
     ]
    }
   ],
   "source": [
    "E_a = int(round(Ea(params)))\n",
    "E_b = int(round(Eb(params)))\n",
    "\n",
    "for i in [1,2]:\n",
    "    \n",
    "    p_d = pd(params, model = i)\n",
    "    Ed = int(round(np.dot(p_d[1], p_d[0])))\n",
    "    \n",
    "    p_cabd = pc_abd(E_a, E_b, Ed, params, model = i)\n",
    "    Ec_abd = np.dot(p_cabd[1], p_cabd[0])\n",
    "    Dc_abd = np.dot((p_cabd[1] - Ec_abd)**2, p_cabd[0])\n",
    "    print 'Model', i,'. Expectation c: Ec = {}, variance c: Dc = {}'.format(Ec_abd, Dc_abd)"
   ]
  },
  {
   "cell_type": "markdown",
   "metadata": {},
   "source": [
    "#### Task 4"
   ]
  },
  {
   "cell_type": "code",
   "execution_count": 71,
   "metadata": {
    "collapsed": false
   },
   "outputs": [
    {
     "name": "stdout",
     "output_type": "stream",
     "text": [
      "time p(c) model 1 :  0.0275 sec\n",
      "time p(c) model 2 :  0.0258 sec\n",
      "\n",
      "\n",
      "time p(c|a) model 1 :  0.0259 sec\n",
      "time p(c|a) model 2 :  0.0339 sec\n",
      "\n",
      "\n",
      "time p(c|b) model 1 :  0.0024 sec\n",
      "time p(c|b) model 2 :  0.002 sec\n",
      "\n",
      "\n",
      "time p(c|ab) model 1 :  0.0011 sec\n",
      "time p(c|ab) model 2 :  0.0012 sec\n",
      "\n",
      "\n",
      "time p(c|d) model 1 :  0.2426 sec\n",
      "time p(c|d) model 2 :  0.2404 sec\n",
      "\n",
      "\n",
      "time p(c|abd) model 1 :  0.0025 sec\n",
      "time p(c|abd) model 2 :  0.0024 sec\n",
      "\n",
      "\n",
      "time p(d) model 1 :  0.2835 sec\n",
      "time p(d) model 2 :  0.2757 sec\n"
     ]
    }
   ],
   "source": [
    "a = int(round(Ea(params)))\n",
    "b = int(round(Eb(params)))\n",
    "\n",
    "# p(c)\n",
    "for i in [1,2]:\n",
    "\n",
    "    start_time = time.time()\n",
    "    pc(params)\n",
    "    print 'time p(c) model', i, ': ',  round(time.time() - start_time,4), 'sec'\n",
    "\n",
    "\n",
    "print '\\n'\n",
    "# p(c|a)    \n",
    "\n",
    "for i in [1,2]:\n",
    "\n",
    "    start_time = time.time()\n",
    "    pc_a(a, params)\n",
    "    print 'time p(c|a) model', i, ': ',  round(time.time() - start_time,4), 'sec'\n",
    "    \n",
    "print '\\n'    \n",
    "# p(c|b)\n",
    "\n",
    "for i in [1,2]:\n",
    "\n",
    "    start_time = time.time()\n",
    "    pc_b(b, params)\n",
    "    print 'time p(c|b) model', i, ': ',  round(time.time() - start_time,4), 'sec'\n",
    "\n",
    "print '\\n'\n",
    "# p(c|ab)\n",
    "for i in [1,2]:\n",
    "\n",
    "    start_time = time.time()\n",
    "    pc_ab(a,b,params)\n",
    "    print 'time p(c|ab) model', i, ': ',  round(time.time() - start_time,4), 'sec'\n",
    "\n",
    "\n",
    "print '\\n'\n",
    "# p(c|d)\n",
    "for i in [1,2]:\n",
    "    \n",
    "    p_d = pd(params, model = i)\n",
    "    Ed = int(round(np.dot(p_d[1], p_d[0])))\n",
    "    start_time = time.time()\n",
    "    pc_d(Ed, params)\n",
    "    print 'time p(c|d) model', i, ': ',  round(time.time() - start_time,4), 'sec'\n",
    "\n",
    "print '\\n'\n",
    "#p(c|abd)\n",
    "for i in [1,2]:\n",
    "    \n",
    "    p_d = pd(params, model = i)\n",
    "    Ed = int(round(np.dot(p_d[1], p_d[0])))\n",
    "    start_time = time.time()\n",
    "    pc_abd(a, b, Ed, params)\n",
    "    print 'time p(c|abd) model', i, ': ',  round(time.time() - start_time,4), 'sec'\n",
    "\n",
    "print '\\n'\n",
    "#p(d)\n",
    "for i in [1,2]:\n",
    "    \n",
    "    start_time = time.time()\n",
    "    p_d = pd(params, model = i)\n",
    "    print 'time p(d) model', i, ': ',  round(time.time() - start_time,4), 'sec'"
   ]
  }
 ],
 "metadata": {
  "kernelspec": {
   "display_name": "Python 2",
   "language": "python",
   "name": "python2"
  },
  "language_info": {
   "codemirror_mode": {
    "name": "ipython",
    "version": 2
   },
   "file_extension": ".py",
   "mimetype": "text/x-python",
   "name": "python",
   "nbconvert_exporter": "python",
   "pygments_lexer": "ipython2",
   "version": "2.7.11"
  }
 },
 "nbformat": 4,
 "nbformat_minor": 0
}
