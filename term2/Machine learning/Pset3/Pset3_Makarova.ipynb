{
 "cells": [
  {
   "cell_type": "markdown",
   "metadata": {},
   "source": [
    "### Problem set 3. Anastasia Makarova.\n",
    "\n",
    "#### Task 1\n",
    "\n",
    "Load the data. How many samples/features does it have? Determine the type of each feature (continuous or\n",
    "categorical). What are possible values of each feature? Do the data contain any missing values? How much data\n",
    "are missing? How many classes are in this problem? Can you say that the classes are more or less balanced?"
   ]
  },
  {
   "cell_type": "code",
   "execution_count": 2,
   "metadata": {
    "collapsed": false
   },
   "outputs": [
    {
     "data": {
      "text/html": [
       "<div>\n",
       "<table border=\"1\" class=\"dataframe\">\n",
       "  <thead>\n",
       "    <tr style=\"text-align: right;\">\n",
       "      <th></th>\n",
       "      <th>0</th>\n",
       "      <th>1</th>\n",
       "      <th>2</th>\n",
       "      <th>3</th>\n",
       "      <th>4</th>\n",
       "      <th>5</th>\n",
       "      <th>6</th>\n",
       "      <th>7</th>\n",
       "      <th>8</th>\n",
       "      <th>9</th>\n",
       "      <th>10</th>\n",
       "      <th>11</th>\n",
       "      <th>12</th>\n",
       "      <th>13</th>\n",
       "      <th>14</th>\n",
       "    </tr>\n",
       "  </thead>\n",
       "  <tbody>\n",
       "    <tr>\n",
       "      <th>0</th>\n",
       "      <td>b</td>\n",
       "      <td>2783</td>\n",
       "      <td>1.540</td>\n",
       "      <td>u</td>\n",
       "      <td>g</td>\n",
       "      <td>w</td>\n",
       "      <td>v</td>\n",
       "      <td>3.750</td>\n",
       "      <td>t</td>\n",
       "      <td>t</td>\n",
       "      <td>5</td>\n",
       "      <td>t</td>\n",
       "      <td>g</td>\n",
       "      <td>0.000010</td>\n",
       "      <td>3</td>\n",
       "    </tr>\n",
       "    <tr>\n",
       "      <th>1</th>\n",
       "      <td>b</td>\n",
       "      <td>3317</td>\n",
       "      <td>1.040</td>\n",
       "      <td>u</td>\n",
       "      <td>g</td>\n",
       "      <td>r</td>\n",
       "      <td>h</td>\n",
       "      <td>6.500</td>\n",
       "      <td>t</td>\n",
       "      <td>f</td>\n",
       "      <td>0</td>\n",
       "      <td>t</td>\n",
       "      <td>g</td>\n",
       "      <td>0.000016</td>\n",
       "      <td>31285</td>\n",
       "    </tr>\n",
       "    <tr>\n",
       "      <th>2</th>\n",
       "      <td>a</td>\n",
       "      <td>2292</td>\n",
       "      <td>11.585</td>\n",
       "      <td>u</td>\n",
       "      <td>g</td>\n",
       "      <td>cc</td>\n",
       "      <td>v</td>\n",
       "      <td>0.040</td>\n",
       "      <td>t</td>\n",
       "      <td>f</td>\n",
       "      <td>0</td>\n",
       "      <td>f</td>\n",
       "      <td>g</td>\n",
       "      <td>0.000008</td>\n",
       "      <td>1349</td>\n",
       "    </tr>\n",
       "    <tr>\n",
       "      <th>3</th>\n",
       "      <td>b</td>\n",
       "      <td>5442</td>\n",
       "      <td>0.500</td>\n",
       "      <td>y</td>\n",
       "      <td>p</td>\n",
       "      <td>k</td>\n",
       "      <td>h</td>\n",
       "      <td>3.960</td>\n",
       "      <td>t</td>\n",
       "      <td>f</td>\n",
       "      <td>0</td>\n",
       "      <td>f</td>\n",
       "      <td>g</td>\n",
       "      <td>0.000018</td>\n",
       "      <td>314</td>\n",
       "    </tr>\n",
       "    <tr>\n",
       "      <th>4</th>\n",
       "      <td>b</td>\n",
       "      <td>4250</td>\n",
       "      <td>4.915</td>\n",
       "      <td>y</td>\n",
       "      <td>p</td>\n",
       "      <td>w</td>\n",
       "      <td>v</td>\n",
       "      <td>3.165</td>\n",
       "      <td>t</td>\n",
       "      <td>f</td>\n",
       "      <td>0</td>\n",
       "      <td>t</td>\n",
       "      <td>g</td>\n",
       "      <td>0.000005</td>\n",
       "      <td>1442</td>\n",
       "    </tr>\n",
       "  </tbody>\n",
       "</table>\n",
       "</div>"
      ],
      "text/plain": [
       "  0     1       2  3  4   5  6      7  8  9   10 11 12        13     14\n",
       "0  b  2783   1.540  u  g   w  v  3.750  t  t   5  t  g  0.000010      3\n",
       "1  b  3317   1.040  u  g   r  h  6.500  t  f   0  t  g  0.000016  31285\n",
       "2  a  2292  11.585  u  g  cc  v  0.040  t  f   0  f  g  0.000008   1349\n",
       "3  b  5442   0.500  y  p   k  h  3.960  t  f   0  f  g  0.000018    314\n",
       "4  b  4250   4.915  y  p   w  v  3.165  t  f   0  t  g  0.000005   1442"
      ]
     },
     "execution_count": 2,
     "metadata": {},
     "output_type": "execute_result"
    }
   ],
   "source": [
    "import pandas as pd\n",
    "import numpy as np\n",
    "\n",
    "nmb_columns = 15\n",
    "\n",
    "dtype = {'f1': np.str }\n",
    "\n",
    "train_data = pd.read_csv('train.data', \n",
    "                         na_values=\"?\", \n",
    "                         sep=',', \n",
    "                         engine='python', \n",
    "                         header=None)\n",
    "\n",
    "train_labels = train_data[15]\n",
    "train_data = train_data[np.arange(15)]\n",
    "train_data.head()"
   ]
  },
  {
   "cell_type": "code",
   "execution_count": 26,
   "metadata": {
    "collapsed": false
   },
   "outputs": [
    {
     "name": "stdout",
     "output_type": "stream",
     "text": [
      "Train dataset contains 402 samples and 15 columns\n"
     ]
    }
   ],
   "source": [
    "print 'Train dataset contains {0} samples and {1} columns'.format(train_data.shape[0], train_data.shape[1])"
   ]
  },
  {
   "cell_type": "code",
   "execution_count": 28,
   "metadata": {
    "collapsed": false
   },
   "outputs": [
    {
     "data": {
      "text/plain": [
       "0      object\n",
       "1     float64\n",
       "2     float64\n",
       "3      object\n",
       "4      object\n",
       "5      object\n",
       "6      object\n",
       "7     float64\n",
       "8      object\n",
       "9      object\n",
       "10      int64\n",
       "11     object\n",
       "12     object\n",
       "13    float64\n",
       "14      int64\n",
       "dtype: object"
      ]
     },
     "execution_count": 28,
     "metadata": {},
     "output_type": "execute_result"
    }
   ],
   "source": [
    "train_data.dtypes"
   ]
  },
  {
   "cell_type": "markdown",
   "metadata": {},
   "source": [
    "$1,2,7,13$ - continuous float features, $10, 14$ - integer features,  the others are categorial."
   ]
  },
  {
   "cell_type": "code",
   "execution_count": 37,
   "metadata": {
    "collapsed": false
   },
   "outputs": [
    {
     "data": {
      "image/png": "[encoded data removed]",
      "text/plain": [
       "<matplotlib.figure.Figure at 0x7fd01772a9d0>"
      ]
     },
     "metadata": {},
     "output_type": "display_data"
    },
    {
     "data": {
      "text/html": [
       "<div>\n",
       "<table border=\"1\" class=\"dataframe\">\n",
       "  <thead>\n",
       "    <tr style=\"text-align: right;\">\n",
       "      <th></th>\n",
       "      <th>1</th>\n",
       "      <th>2</th>\n",
       "      <th>7</th>\n",
       "      <th>10</th>\n",
       "      <th>13</th>\n",
       "      <th>14</th>\n",
       "    </tr>\n",
       "  </thead>\n",
       "  <tbody>\n",
       "    <tr>\n",
       "      <th>count</th>\n",
       "      <td>397.000000</td>\n",
       "      <td>402.000000</td>\n",
       "      <td>402.000000</td>\n",
       "      <td>402.000000</td>\n",
       "      <td>395.000000</td>\n",
       "      <td>402.000000</td>\n",
       "    </tr>\n",
       "    <tr>\n",
       "      <th>mean</th>\n",
       "      <td>3164.735516</td>\n",
       "      <td>4.540535</td>\n",
       "      <td>2.085323</td>\n",
       "      <td>2.156716</td>\n",
       "      <td>0.000018</td>\n",
       "      <td>1137.875622</td>\n",
       "    </tr>\n",
       "    <tr>\n",
       "      <th>std</th>\n",
       "      <td>1195.768564</td>\n",
       "      <td>4.659156</td>\n",
       "      <td>3.143756</td>\n",
       "      <td>3.898055</td>\n",
       "      <td>0.000018</td>\n",
       "      <td>6038.564633</td>\n",
       "    </tr>\n",
       "    <tr>\n",
       "      <th>min</th>\n",
       "      <td>1517.000000</td>\n",
       "      <td>0.000000</td>\n",
       "      <td>0.000000</td>\n",
       "      <td>0.000000</td>\n",
       "      <td>0.000000</td>\n",
       "      <td>0.000000</td>\n",
       "    </tr>\n",
       "    <tr>\n",
       "      <th>25%</th>\n",
       "      <td>2267.000000</td>\n",
       "      <td>1.000000</td>\n",
       "      <td>0.210000</td>\n",
       "      <td>0.000000</td>\n",
       "      <td>0.000007</td>\n",
       "      <td>0.000000</td>\n",
       "    </tr>\n",
       "    <tr>\n",
       "      <th>50%</th>\n",
       "      <td>2825.000000</td>\n",
       "      <td>2.687500</td>\n",
       "      <td>1.000000</td>\n",
       "      <td>0.000000</td>\n",
       "      <td>0.000016</td>\n",
       "      <td>6.000000</td>\n",
       "    </tr>\n",
       "    <tr>\n",
       "      <th>75%</th>\n",
       "      <td>3750.000000</td>\n",
       "      <td>7.000000</td>\n",
       "      <td>2.500000</td>\n",
       "      <td>2.000000</td>\n",
       "      <td>0.000028</td>\n",
       "      <td>444.000000</td>\n",
       "    </tr>\n",
       "    <tr>\n",
       "      <th>max</th>\n",
       "      <td>8025.000000</td>\n",
       "      <td>25.085000</td>\n",
       "      <td>20.000000</td>\n",
       "      <td>20.000000</td>\n",
       "      <td>0.000200</td>\n",
       "      <td>100000.000000</td>\n",
       "    </tr>\n",
       "  </tbody>\n",
       "</table>\n",
       "</div>"
      ],
      "text/plain": [
       "                1           2           7           10          13  \\\n",
       "count   397.000000  402.000000  402.000000  402.000000  395.000000   \n",
       "mean   3164.735516    4.540535    2.085323    2.156716    0.000018   \n",
       "std    1195.768564    4.659156    3.143756    3.898055    0.000018   \n",
       "min    1517.000000    0.000000    0.000000    0.000000    0.000000   \n",
       "25%    2267.000000    1.000000    0.210000    0.000000    0.000007   \n",
       "50%    2825.000000    2.687500    1.000000    0.000000    0.000016   \n",
       "75%    3750.000000    7.000000    2.500000    2.000000    0.000028   \n",
       "max    8025.000000   25.085000   20.000000   20.000000    0.000200   \n",
       "\n",
       "                  14  \n",
       "count     402.000000  \n",
       "mean     1137.875622  \n",
       "std      6038.564633  \n",
       "min         0.000000  \n",
       "25%         0.000000  \n",
       "50%         6.000000  \n",
       "75%       444.000000  \n",
       "max    100000.000000  "
      ]
     },
     "execution_count": 37,
     "metadata": {},
     "output_type": "execute_result"
    }
   ],
   "source": [
    "import matplotlib.pyplot as plt\n",
    "%matplotlib inline\n",
    "\n",
    "train_data.hist(figsize=(15, 15))\n",
    "plt.title(\"Possible values of each float and integer features\")\n",
    "plt.show()\n",
    "train_data.describe()"
   ]
  },
  {
   "cell_type": "code",
   "execution_count": 45,
   "metadata": {
    "collapsed": false
   },
   "outputs": [
    {
     "data": {
      "image/png": "[encoded data removed]",
      "text/plain": [
       "<matplotlib.figure.Figure at 0x7fd017ac9710>"
      ]
     },
     "metadata": {},
     "output_type": "display_data"
    },
    {
     "data": {
      "image/png": "[encoded data removed]",
      "text/plain": [
       "<matplotlib.figure.Figure at 0x7fd01798b710>"
      ]
     },
     "metadata": {},
     "output_type": "display_data"
    },
    {
     "data": {
      "image/png": "[encoded data removed]",
      "text/plain": [
       "<matplotlib.figure.Figure at 0x7fd017a73810>"
      ]
     },
     "metadata": {},
     "output_type": "display_data"
    },
    {
     "data": {
      "image/png": "[encoded data removed]",
      "text/plain": [
       "<matplotlib.figure.Figure at 0x7fd017858e90>"
      ]
     },
     "metadata": {},
     "output_type": "display_data"
    },
    {
     "data": {
      "image/png": "[encoded data removed]",
      "text/plain": [
       "<matplotlib.figure.Figure at 0x7fd017a51e10>"
      ]
     },
     "metadata": {},
     "output_type": "display_data"
    },
    {
     "data": {
      "image/png": "[encoded data removed]",
      "text/plain": [
       "<matplotlib.figure.Figure at 0x7fd017947d50>"
      ]
     },
     "metadata": {},
     "output_type": "display_data"
    },
    {
     "data": {
      "image/png": "[encoded data removed]",
      "text/plain": [
       "<matplotlib.figure.Figure at 0x7fd017936c50>"
      ]
     },
     "metadata": {},
     "output_type": "display_data"
    },
    {
     "data": {
      "image/png": "[encoded data removed]",
      "text/plain": [
       "<matplotlib.figure.Figure at 0x7fd017583510>"
      ]
     },
     "metadata": {},
     "output_type": "display_data"
    },
    {
     "data": {
      "image/png": "[encoded data removed]",
      "text/plain": [
       "<matplotlib.figure.Figure at 0x7fd01b6d3310>"
      ]
     },
     "metadata": {},
     "output_type": "display_data"
    }
   ],
   "source": [
    "categorial = [0,3,4,5,6,8,9,11,12]\n",
    "for i in categorial:\n",
    "    train_data[i].value_counts().plot(kind='bar', title='categorial feature number %d' %i, fontsize = 15)\n",
    "    plt.show()"
   ]
  },
  {
   "cell_type": "code",
   "execution_count": 65,
   "metadata": {
    "collapsed": false
   },
   "outputs": [
    {
     "name": "stdout",
     "output_type": "stream",
     "text": [
      "Data has missing values.\n",
      "\n",
      "The total number of missing values: 38\n",
      "\n",
      "For each class they are:\n",
      "0     8\n",
      "1     5\n",
      "2     0\n",
      "3     3\n",
      "4     3\n",
      "5     6\n",
      "6     6\n",
      "7     0\n",
      "8     0\n",
      "9     0\n",
      "10    0\n",
      "11    0\n",
      "12    0\n",
      "13    7\n",
      "14    0\n",
      "dtype: int64\n"
     ]
    }
   ],
   "source": [
    "if train_data.isnull().any().any():\n",
    "    print('Data has missing values.')\n",
    "else:\n",
    "    print('Data has not missing values.\\n')\n",
    "print '\\nThe total number of missing values:', train_data.isnull().sum(0).sum(0)    \n",
    "print '\\nFor each class they are:\\n',train_data.isnull().sum(0), \n",
    "\n"
   ]
  },
  {
   "cell_type": "code",
   "execution_count": 64,
   "metadata": {
    "collapsed": false
   },
   "outputs": [
    {
     "name": "stdout",
     "output_type": "stream",
     "text": [
      "First class size 175\n",
      "Second class size 227\n",
      "Ratio between \"+\" and \"-\" samples in the training set is 0.770925110132.\n",
      "So, classes are balanced.\n"
     ]
    },
    {
     "data": {
      "image/png": "[encoded data removed]",
      "text/plain": [
       "<matplotlib.figure.Figure at 0x7fd0179a8e90>"
      ]
     },
     "metadata": {},
     "output_type": "display_data"
    }
   ],
   "source": [
    "first_class_size = train_labels[train_labels == '+'].shape[0]\n",
    "second_class_size = train_labels[train_labels == '-'].shape[0]\n",
    "\n",
    "print 'First class size %d\\nSecond class size %d' %(first_class_size, second_class_size) \n",
    "\n",
    "print('Ratio between \"+\" and \"-\" samples in the training set is {0}.\\nSo, classes are balanced.'.format(float(first_class_size) / second_class_size))\n",
    "\n",
    "\n",
    "train_labels.value_counts().plot(kind='bar', title='Labels', fontsize=15, rot=180)\n",
    "plt.show()"
   ]
  },
  {
   "cell_type": "code",
   "execution_count": 32,
   "metadata": {
    "collapsed": false
   },
   "outputs": [
    {
     "data": {
      "text/html": [
       "<div>\n",
       "<table border=\"1\" class=\"dataframe\">\n",
       "  <thead>\n",
       "    <tr style=\"text-align: right;\">\n",
       "      <th></th>\n",
       "      <th>0</th>\n",
       "      <th>1</th>\n",
       "      <th>2</th>\n",
       "      <th>3</th>\n",
       "      <th>4</th>\n",
       "      <th>5</th>\n",
       "      <th>6</th>\n",
       "      <th>7</th>\n",
       "      <th>8</th>\n",
       "      <th>9</th>\n",
       "      <th>10</th>\n",
       "      <th>11</th>\n",
       "      <th>12</th>\n",
       "      <th>13</th>\n",
       "      <th>14</th>\n",
       "    </tr>\n",
       "  </thead>\n",
       "  <tbody>\n",
       "    <tr>\n",
       "      <th>0</th>\n",
       "      <td>b</td>\n",
       "      <td>3083</td>\n",
       "      <td>0.000</td>\n",
       "      <td>u</td>\n",
       "      <td>g</td>\n",
       "      <td>w</td>\n",
       "      <td>v</td>\n",
       "      <td>1.25</td>\n",
       "      <td>t</td>\n",
       "      <td>t</td>\n",
       "      <td>1</td>\n",
       "      <td>f</td>\n",
       "      <td>g</td>\n",
       "      <td>0.000020</td>\n",
       "      <td>0</td>\n",
       "    </tr>\n",
       "    <tr>\n",
       "      <th>1</th>\n",
       "      <td>a</td>\n",
       "      <td>5867</td>\n",
       "      <td>4.460</td>\n",
       "      <td>u</td>\n",
       "      <td>g</td>\n",
       "      <td>q</td>\n",
       "      <td>h</td>\n",
       "      <td>3.04</td>\n",
       "      <td>t</td>\n",
       "      <td>t</td>\n",
       "      <td>6</td>\n",
       "      <td>f</td>\n",
       "      <td>g</td>\n",
       "      <td>0.000004</td>\n",
       "      <td>560</td>\n",
       "    </tr>\n",
       "    <tr>\n",
       "      <th>2</th>\n",
       "      <td>a</td>\n",
       "      <td>2450</td>\n",
       "      <td>0.500</td>\n",
       "      <td>u</td>\n",
       "      <td>g</td>\n",
       "      <td>q</td>\n",
       "      <td>h</td>\n",
       "      <td>1.50</td>\n",
       "      <td>t</td>\n",
       "      <td>f</td>\n",
       "      <td>0</td>\n",
       "      <td>f</td>\n",
       "      <td>g</td>\n",
       "      <td>0.000028</td>\n",
       "      <td>824</td>\n",
       "    </tr>\n",
       "    <tr>\n",
       "      <th>3</th>\n",
       "      <td>b</td>\n",
       "      <td>2017</td>\n",
       "      <td>5.625</td>\n",
       "      <td>u</td>\n",
       "      <td>g</td>\n",
       "      <td>w</td>\n",
       "      <td>v</td>\n",
       "      <td>1.71</td>\n",
       "      <td>t</td>\n",
       "      <td>f</td>\n",
       "      <td>0</td>\n",
       "      <td>f</td>\n",
       "      <td>s</td>\n",
       "      <td>0.000012</td>\n",
       "      <td>0</td>\n",
       "    </tr>\n",
       "    <tr>\n",
       "      <th>4</th>\n",
       "      <td>b</td>\n",
       "      <td>3208</td>\n",
       "      <td>4.000</td>\n",
       "      <td>u</td>\n",
       "      <td>g</td>\n",
       "      <td>m</td>\n",
       "      <td>v</td>\n",
       "      <td>2.50</td>\n",
       "      <td>t</td>\n",
       "      <td>f</td>\n",
       "      <td>0</td>\n",
       "      <td>t</td>\n",
       "      <td>g</td>\n",
       "      <td>0.000036</td>\n",
       "      <td>0</td>\n",
       "    </tr>\n",
       "  </tbody>\n",
       "</table>\n",
       "</div>"
      ],
      "text/plain": [
       "  0     1      2  3  4  5  6     7  8  9   10 11 12        13   14\n",
       "0  b  3083  0.000  u  g  w  v  1.25  t  t   1  f  g  0.000020    0\n",
       "1  a  5867  4.460  u  g  q  h  3.04  t  t   6  f  g  0.000004  560\n",
       "2  a  2450  0.500  u  g  q  h  1.50  t  f   0  f  g  0.000028  824\n",
       "3  b  2017  5.625  u  g  w  v  1.71  t  f   0  f  s  0.000012    0\n",
       "4  b  3208  4.000  u  g  m  v  2.50  t  f   0  t  g  0.000036    0"
      ]
     },
     "execution_count": 32,
     "metadata": {},
     "output_type": "execute_result"
    }
   ],
   "source": [
    "test_data = pd.read_csv('test.data', \n",
    "                        na_values=\"?\", \n",
    "                        sep=',', \n",
    "                        engine='python', \n",
    "                        header=None)\n",
    "\n",
    "test_data.head()"
   ]
  },
  {
   "cell_type": "markdown",
   "metadata": {},
   "source": [
    "### Task 2\n",
    "* Since the data contain missing values, you have to do something about it. For the training data, you could simply\n",
    "remove the samples with missing values. However, you cannot use this approach for the testing data because\n",
    "you have to predict the label for each testing sample, even if it contains missing values. Therefore you need to\n",
    "perform imputation for the testing test. (You may do imputation for the training set as well.)\n",
    "\n",
    "Let's fill the gaps in numerical features and others features by fillna from pandas"
   ]
  },
  {
   "cell_type": "code",
   "execution_count": 4,
   "metadata": {
    "collapsed": false
   },
   "outputs": [
    {
     "name": "stdout",
     "output_type": "stream",
     "text": [
      "Before: 38\n",
      "After: 0\n"
     ]
    }
   ],
   "source": [
    "print 'Before:', train_data.isnull().sum(0).sum()\n",
    "train_data_filled = train_data.fillna(method='pad')\n",
    "test_data_filled = test_data.fillna(method='pad')\n",
    "print \"After:\", train_data_filled.isnull().sum(0).sum()"
   ]
  },
  {
   "cell_type": "markdown",
   "metadata": {},
   "source": [
    "### Task 3\n",
    "* Prepare the data for a classification algorithm. You need to construct the design matrix X and the vector of\n",
    "labels y that contain only numerical data. Do not forget to use one-hot encoding for categorical features!"
   ]
  },
  {
   "cell_type": "code",
   "execution_count": 5,
   "metadata": {
    "collapsed": false
   },
   "outputs": [
    {
     "name": "stdout",
     "output_type": "stream",
     "text": [
      "Current features:\n",
      "   0     1       2   3   4   5   6      7   8   9   10  11  12        13  \\\n",
      "0   1  2783   1.540   1   0  12   7  3.750   1   1   5   1   0  0.000010   \n",
      "1   1  3317   1.040   1   0  11   3  6.500   1   0   0   1   0  0.000016   \n",
      "2   0  2292  11.585   1   0   2   7  0.040   1   0   0   0   0  0.000008   \n",
      "3   1  5442   0.500   2   2   8   3  3.960   1   0   0   0   0  0.000018   \n",
      "4   1  4250   4.915   2   2  12   7  3.165   1   0   0   1   0  0.000005   \n",
      "\n",
      "      14  \n",
      "0      3  \n",
      "1  31285  \n",
      "2   1349  \n",
      "3    314  \n",
      "4   1442  \n",
      "All features:\n",
      "(690, 46)\n"
     ]
    },
    {
     "name": "stderr",
     "output_type": "stream",
     "text": [
      "/home/anastasia/anaconda/lib/python2.7/site-packages/pandas/core/index.py:2598: FutureWarning: elementwise comparison failed; returning scalar instead, but in the future will perform elementwise comparison\n",
      "  result = func(np.asarray(other))\n"
     ]
    }
   ],
   "source": [
    "from sklearn import preprocessing\n",
    "\n",
    "\n",
    "def MakeNum(feature):\n",
    "    values = np.unique(feature)\n",
    "    numbers = dict(zip(values,range(len(values))))\n",
    "    return feature.replace(numbers)\n",
    "\n",
    "\n",
    "train_and_test = pd.concat((train_data_filled, test_data_filled))\n",
    "\n",
    "categorical_features = train_data_filled.select_dtypes([object]).columns\n",
    "for feature in categorical_features:\n",
    "    train_and_test[feature] = MakeNum(train_and_test[feature])\n",
    "\n",
    "print 'Current features:\\n', train_and_test.head()\n",
    "\n",
    "enc = preprocessing.OneHotEncoder(categorical_features = categorical_features)\n",
    "full_features = enc.fit_transform(train_and_test)\n",
    "\n",
    "train_features = train_and_test[:train_data.shape[0]]\n",
    "test_features = train_and_test[train_data.shape[0]:]\n",
    "\n",
    "print 'All features:\\n', full_features.shape"
   ]
  },
  {
   "cell_type": "markdown",
   "metadata": {},
   "source": [
    "### Task 4\n",
    "Take the decision tree (DT) classifier from the sklearn module with default parameters. Estimate the accuracy\n",
    "of this classifier using cross validation. Use the fraction of correctly predicted labels as an accuracy metric. Try to vary some parameters of the classifier. How does the accuracy change?"
   ]
  },
  {
   "cell_type": "code",
   "execution_count": 6,
   "metadata": {
    "collapsed": false
   },
   "outputs": [
    {
     "name": "stdout",
     "output_type": "stream",
     "text": [
      "Accuracy: 0.761296296296 +/- 0.161195923942\n",
      "Accuracy: 0.855925925926 +/- 0.276056022028\n",
      "Accuracy: 0.776358024691 +/- 0.165270950626\n"
     ]
    }
   ],
   "source": [
    "from sklearn import tree\n",
    "from sklearn import cross_validation\n",
    "\n",
    "def AccEstimate(clf, train_data, train_labels):\n",
    "    scores = cross_validation.cross_val_score(clf, train_data, train_labels, cv = 5)\n",
    "\n",
    "    print('Accuracy: {0} +/- {1}'.format(scores.mean(), scores.std() * 2))\n",
    "    \n",
    "    \n",
    "clf = tree.DecisionTreeClassifier()\n",
    "AccEstimate(clf, train_features, train_labels)\n",
    "\n",
    "clf = tree.DecisionTreeClassifier(max_depth = 1)\n",
    "AccEstimate(clf, train_features, train_labels)\n",
    "\n",
    "clf = tree.DecisionTreeClassifier(criterion='entropy')\n",
    "AccEstimate(clf, train_features, train_labels)\n"
   ]
  },
  {
   "cell_type": "markdown",
   "metadata": {},
   "source": [
    "### Task 5\n",
    "\n",
    "Write the code that tunes the parameters of DT automatically using grid search. What are the best parameters?\n",
    "What is the resulting accuracy? How much time does this grid search take?"
   ]
  },
  {
   "cell_type": "code",
   "execution_count": 18,
   "metadata": {
    "collapsed": false
   },
   "outputs": [],
   "source": [
    "parameters = {'criterion': ['gini', 'entropy'],\n",
    "              'splitter': ['best', 'random'], \n",
    "              'max_features': ['auto', 'sqrt', 'log2', None],\n",
    "              'max_depth': list(range(20, 1000, 100)),\n",
    "              'min_samples_leaf': list(range(1, 30, 5))}\n",
    "\n",
    "clf = grid_search.GridSearchCV(tree.DecisionTreeClassifier(), parameters)"
   ]
  },
  {
   "cell_type": "code",
   "execution_count": 19,
   "metadata": {
    "collapsed": false
   },
   "outputs": [
    {
     "name": "stdout",
     "output_type": "stream",
     "text": [
      "1 loops, best of 3: 12.5 s per loop\n",
      "DT GridSearch 12.5025169849 s.\n",
      "\n",
      "Best score 0.761194029851  with parameters {'max_features': 'auto', 'splitter': 'best', 'criterion': 'gini', 'max_depth': 20, 'min_samples_leaf': 1} .\n"
     ]
    }
   ],
   "source": [
    "timing = %timeit -o clf.fit(X_normalized, train_labels)\n",
    "params, mean, scores = clf.grid_scores_[0]\n",
    "\n",
    "print('DT GridSearch {0} s.\\n'.format(timing.best))\n",
    "params, mean, scores = clf.grid_scores_[0]\n",
    "print('Best score {1}  with parameters {0} .'.format(params, scores.max()))"
   ]
  },
  {
   "cell_type": "code",
   "execution_count": null,
   "metadata": {
    "collapsed": true
   },
   "outputs": [],
   "source": []
  },
  {
   "cell_type": "code",
   "execution_count": null,
   "metadata": {
    "collapsed": false
   },
   "outputs": [],
   "source": []
  },
  {
   "cell_type": "markdown",
   "metadata": {},
   "source": [
    "### Task 6\n",
    "Run the SVM classifier from the sklearn module with default parameters. What is its accuracy? Try to normalize\n",
    "the features and see what changes."
   ]
  },
  {
   "cell_type": "code",
   "execution_count": 12,
   "metadata": {
    "collapsed": false
   },
   "outputs": [
    {
     "name": "stdout",
     "output_type": "stream",
     "text": [
      "Accuracy: 0.572160493827 +/- 0.0172735859576\n",
      "Accuracy: 0.644351851852 +/- 0.0700370054819\n"
     ]
    }
   ],
   "source": [
    "from sklearn import svm, grid_search\n",
    "\n",
    "\n",
    "clf = svm.SVC()\n",
    "AccEstimate(clf, train_features, train_labels)\n",
    "\n",
    "X_normalized = preprocessing.normalize(train_features, norm = 'l2')\n",
    "clf = svm.SVC()\n",
    "AccEstimate(clf, X_normalized, train_labels)\n",
    "\n",
    "#scores = cross_validation.cross_val_score(svm_classifier, train_features, train_labels, cv = 5)\n",
    "#print 'Mean score for cross validation:', scores.mean()"
   ]
  },
  {
   "cell_type": "markdown",
   "metadata": {},
   "source": [
    "### Task 7\n",
    "Find the best parameters for SVM using grid search. What accuracy does it achieve?"
   ]
  },
  {
   "cell_type": "code",
   "execution_count": 17,
   "metadata": {
    "collapsed": false
   },
   "outputs": [
    {
     "name": "stdout",
     "output_type": "stream",
     "text": [
      "1 loops, best of 3: 1.84 s per loop\n",
      "KNN GridSearch 1.84266996384 s.\n",
      "\n",
      "Best score 0.567901234568  with parameters {'kernel': 'rbf', 'C': 0.1} .\n"
     ]
    }
   ],
   "source": [
    "parameters = [{'C': [0.1, 0.2, 0.5, 0.7],\n",
    "                     'kernel': ['rbf', 'linear', 'sigmoid']},\n",
    "                    {'C': [0.1, 0.2, 0.5, 0.7],\n",
    "                     'kernel': ['poly'],\n",
    "                     'degree': [1, 2, 3, 4, 5]\n",
    "                    }]\n",
    "\n",
    "clf = grid_search.GridSearchCV(svm.SVC(), parameters, cv = 5)\n",
    "\n",
    "timing = %timeit -o clf.fit(X_normalized, train_labels)\n",
    "params, mean, scores = clf.grid_scores_[0]\n",
    "\n",
    "print('SVM GridSearch {0} s.\\n'.format(timing.best))\n",
    "params, mean, scores = clf.grid_scores_[0]\n",
    "print('Best score {1}  with parameters {0} .'.format(params, scores.max()))"
   ]
  },
  {
   "cell_type": "code",
   "execution_count": null,
   "metadata": {
    "collapsed": false
   },
   "outputs": [],
   "source": []
  },
  {
   "cell_type": "markdown",
   "metadata": {},
   "source": [
    "### Task 8\n",
    "Consider four classification algorithms: DT, SVM, Logistic Regression (LR) and KNN. Compare these algorithms\n",
    "in terms of training time (grid search) and resulting accuracy."
   ]
  },
  {
   "cell_type": "markdown",
   "metadata": {},
   "source": [
    "#### LG"
   ]
  },
  {
   "cell_type": "code",
   "execution_count": 20,
   "metadata": {
    "collapsed": false
   },
   "outputs": [
    {
     "name": "stdout",
     "output_type": "stream",
     "text": [
      "1 loops, best of 3: 1.32 s per loop\n",
      "LG GridSearch 1.31846284866 s.\n",
      "\n",
      "Best score 0.437037037037  with parameters \n",
      "{'penalty': 'l1', 'C': 0.01, 'fit_intercept': True} .\n"
     ]
    }
   ],
   "source": [
    "from sklearn.linear_model import LogisticRegression\n",
    "\n",
    "parameters = {\n",
    "    'C': np.logspace(-2, 5, 8),\n",
    "    'penalty': ['l1', 'l2'],\n",
    "    'fit_intercept' : [True, False],\n",
    "}\n",
    "\n",
    "clf = grid_search.GridSearchCV(LogisticRegression(), parameters)\n",
    "\n",
    "timing = %timeit -o clf.fit(X_normalized, train_labels)\n",
    "params, mean, scores = clf.grid_scores_[0]\n",
    "\n",
    "print('LG GridSearch {0} s.\\n'.format(timing.best))\n",
    "params, mean, scores = clf.grid_scores_[0]\n",
    "print('Best score {1}  with parameters \\n{0} .'.format(params, scores.max()))"
   ]
  },
  {
   "cell_type": "markdown",
   "metadata": {},
   "source": [
    "#### KNN"
   ]
  },
  {
   "cell_type": "code",
   "execution_count": 22,
   "metadata": {
    "collapsed": false
   },
   "outputs": [
    {
     "name": "stdout",
     "output_type": "stream",
     "text": [
      "1 loops, best of 3: 2.33 s per loop\n",
      "KNN GridSearch Time 2.3274948597 s.\n",
      "\n",
      "Best score 0.684210526316  with parameters \n",
      "{'n_neighbors': 1, 'leaf_size': 10, 'algorithm': 'kd_tree'} .\n"
     ]
    }
   ],
   "source": [
    "from sklearn.neighbors import KNeighborsClassifier\n",
    "\n",
    "parameters = {\n",
    "    'n_neighbors': np.arange(1, 10, 1),\n",
    "    'algorithm' : ['kd_tree', 'brute', 'auto', 'ball_tree'],\n",
    "    'leaf_size' : [10, 20, 40]\n",
    "}\n",
    "\n",
    "clf = grid_search.GridSearchCV(KNeighborsClassifier(), parameters)\n",
    "\n",
    "timing = %timeit -o clf.fit(X_normalized, train_labels)\n",
    "params, mean, scores = clf.grid_scores_[0]\n",
    "\n",
    "print('KNN GridSearch Time {0} s.\\n'.format(timing.best))\n",
    "params, mean, scores = clf.grid_scores_[0]\n",
    "print('Best score {1}  with parameters \\n{0} .'.format(params, scores.max()))"
   ]
  },
  {
   "cell_type": "markdown",
   "metadata": {},
   "source": [
    "#### SVM"
   ]
  },
  {
   "cell_type": "code",
   "execution_count": 23,
   "metadata": {
    "collapsed": false
   },
   "outputs": [
    {
     "name": "stdout",
     "output_type": "stream",
     "text": [
      "1 loops, best of 3: 1.97 s per loop\n",
      "SVM GridSearch 1.97013282776 s.\n",
      "\n",
      "Best score 0.567901234568  with parameters {'kernel': 'rbf', 'C': 0.1} .\n"
     ]
    }
   ],
   "source": [
    "parameters = [{'C': [0.1, 0.2, 0.5, 0.7],\n",
    "                     'kernel': ['rbf', 'linear', 'sigmoid']},\n",
    "                    {'C': [0.1, 0.2, 0.5, 0.7],\n",
    "                     'kernel': ['poly'],\n",
    "                     'degree': [1, 2, 3, 4, 5]\n",
    "                    }]\n",
    "\n",
    "clf = grid_search.GridSearchCV(svm.SVC(), parameters, cv = 5)\n",
    "\n",
    "timing = %timeit -o clf.fit(X_normalized, train_labels)\n",
    "params, mean, scores = clf.grid_scores_[0]\n",
    "\n",
    "print('SVM GridSearch {0} s.\\n'.format(timing.best))\n",
    "params, mean, scores = clf.grid_scores_[0]\n",
    "print('Best score {1}  with parameters {0} .'.format(params, scores.max()))"
   ]
  },
  {
   "cell_type": "markdown",
   "metadata": {},
   "source": [
    "#### DT"
   ]
  },
  {
   "cell_type": "code",
   "execution_count": 24,
   "metadata": {
    "collapsed": false
   },
   "outputs": [
    {
     "name": "stdout",
     "output_type": "stream",
     "text": [
      "1 loops, best of 3: 12.4 s per loop\n",
      "DT GridSearch 12.4144949913 s.\n",
      "\n",
      "Best score 0.781954887218  with parameters {'max_features': 'auto', 'splitter': 'best', 'criterion': 'gini', 'max_depth': 20, 'min_samples_leaf': 1} .\n"
     ]
    }
   ],
   "source": [
    "parameters = {'criterion': ['gini', 'entropy'],\n",
    "              'splitter': ['best', 'random'], \n",
    "              'max_features': ['auto', 'sqrt', 'log2', None],\n",
    "              'max_depth': list(range(20, 1000, 100)),\n",
    "              'min_samples_leaf': list(range(1, 30, 5))}\n",
    "\n",
    "clf = grid_search.GridSearchCV(tree.DecisionTreeClassifier(), parameters)\n",
    "\n",
    "timing = %timeit -o clf.fit(X_normalized, train_labels)\n",
    "params, mean, scores = clf.grid_scores_[0]\n",
    "\n",
    "print('DT GridSearch {0} s.\\n'.format(timing.best))\n",
    "params, mean, scores = clf.grid_scores_[0]\n",
    "print('Best score {1}  with parameters {0} .'.format(params, scores.max()))"
   ]
  },
  {
   "cell_type": "markdown",
   "metadata": {},
   "source": [
    "#### Result\n",
    "\n",
    "DT is the best in terms of accuracy"
   ]
  },
  {
   "cell_type": "markdown",
   "metadata": {},
   "source": [
    "### Task 9\n",
    "\n",
    "Choose any of these four algorithms, fit it on the training set and predict the labels for the testing set. If you used any feature transformation (e.g. normalization), do not forget to apply the same transformation to the testing set\n",
    "features beforehand!"
   ]
  },
  {
   "cell_type": "code",
   "execution_count": 27,
   "metadata": {
    "collapsed": false
   },
   "outputs": [
    {
     "name": "stdout",
     "output_type": "stream",
     "text": [
      "['+' '+' '+' '+' '+' '+' '+' '+' '+' '+' '+' '+' '+' '+' '+' '+' '+' '+'\n",
      " '+' '+' '+' '+' '+' '+' '+' '+' '+' '+' '+' '-' '+' '+' '+' '+' '+' '+'\n",
      " '+' '+' '+' '+' '+' '+' '+' '+' '+' '+' '+' '+' '+' '+' '+' '+' '+' '+'\n",
      " '+' '+' '+' '+' '+' '+' '+' '+' '+' '+' '+' '+' '+' '+' '+' '+' '+' '+'\n",
      " '+' '+' '+' '+' '+' '+' '+' '+' '+' '+' '+' '+' '+' '+' '+' '+' '+' '+'\n",
      " '+' '+' '+' '+' '+' '+' '+' '-' '+' '+' '+' '+' '+' '+' '-' '+' '+' '+'\n",
      " '+' '+' '+' '+' '+' '+' '+' '+' '-' '-' '-' '-' '-' '-' '-' '-' '+' '-'\n",
      " '-' '-' '-' '-' '-' '-' '-' '-' '-' '-' '-' '-' '+' '-' '-' '-' '-' '-'\n",
      " '-' '-' '-' '-' '-' '-' '-' '-' '-' '-' '-' '-' '-' '-' '-' '-' '-' '-'\n",
      " '-' '-' '-' '-' '-' '-' '-' '-' '-' '-' '-' '-' '-' '-' '-' '-' '-' '-'\n",
      " '-' '-' '-' '-' '-' '-' '-' '-' '-' '-' '-' '-' '-' '-' '-' '-' '-' '-'\n",
      " '-' '-' '-' '-' '-' '-' '-' '-' '+' '+' '+' '+' '+' '+' '+' '+' '+' '+'\n",
      " '+' '+' '+' '+' '+' '+' '+' '+' '+' '+' '+' '+' '+' '+' '+' '+' '+' '+'\n",
      " '+' '+' '+' '+' '+' '+' '+' '+' '+' '+' '-' '+' '+' '+' '-' '+' '-' '-'\n",
      " '-' '+' '-' '-' '-' '-' '-' '-' '-' '-' '-' '-' '-' '-' '-' '-' '-' '-'\n",
      " '-' '-' '-' '-' '-' '-' '-' '-' '-' '-' '-' '-' '-' '-' '-' '-' '-' '-']\n"
     ]
    }
   ],
   "source": [
    "X_normalized_test = preprocessing.normalize(test_features, norm = 'l2')\n",
    "\n",
    "clf = tree.DecisionTreeClassifier(max_depth = 1, criterion = 'entropy', max_features = None)\n",
    "clf.fit(X_normalized, train_labels)\n",
    "\n",
    "results = clf.predict(X_normalized_test)"
   ]
  },
  {
   "cell_type": "markdown",
   "metadata": {},
   "source": [
    "### Task 10\n",
    "\n",
    "Compare the actual testing labels with the ones predicted by your algorithm. What is the accuracy? Compare it\n",
    "with the cross validation accuracy you obtained previously."
   ]
  },
  {
   "cell_type": "code",
   "execution_count": 36,
   "metadata": {
    "collapsed": false
   },
   "outputs": [
    {
     "name": "stdout",
     "output_type": "stream",
     "text": [
      "Result: 0.854166666667\n"
     ]
    }
   ],
   "source": [
    "test_labels = pd.read_csv('test.lab', \n",
    "                         na_values=\"?\", \n",
    "                         sep=',', \n",
    "                         engine='python', \n",
    "                         header=None)\n",
    "\n",
    "print 'Result:', clf.score(X_normalized_test, test_labels)"
   ]
  },
  {
   "cell_type": "markdown",
   "metadata": {},
   "source": [
    "The result is better than  the cross validation accuracy I've obtained previously."
   ]
  },
  {
   "cell_type": "markdown",
   "metadata": {},
   "source": [
    "### Task 11\n",
    "\n",
    "Try to increase the accuracy of the chosen algorithm using data preprocessing. You may\n",
    "try to use a different strategy for dealing with missing values, remove outliers and/or make up some (nonlinear)\n",
    "feature transformation. It may help to visualize your data (e.g. using a scatter plot matrix)."
   ]
  }
 ],
 "metadata": {
  "kernelspec": {
   "display_name": "Python 2",
   "language": "python",
   "name": "python2"
  },
  "language_info": {
   "codemirror_mode": {
    "name": "ipython",
    "version": 2
   },
   "file_extension": ".py",
   "mimetype": "text/x-python",
   "name": "python",
   "nbconvert_exporter": "python",
   "pygments_lexer": "ipython2",
   "version": "2.7.10"
  }
 },
 "nbformat": 4,
 "nbformat_minor": 0
}
