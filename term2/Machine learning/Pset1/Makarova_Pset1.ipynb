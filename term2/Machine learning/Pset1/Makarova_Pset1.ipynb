{
 "cells": [
  {
   "cell_type": "markdown",
   "metadata": {},
   "source": [
    "### Problem set 1. Makarova Anastasia."
   ]
  },
  {
   "cell_type": "code",
   "execution_count": 131,
   "metadata": {
    "collapsed": false
   },
   "outputs": [
    {
     "name": "stdout",
     "output_type": "stream",
     "text": [
      "   age         workclass  fnlwgt  education  education-num  \\\n",
      "0   39         State-gov   77516  Bachelors             13   \n",
      "1   50  Self-emp-not-inc   83311  Bachelors             13   \n",
      "2   38           Private  215646    HS-grad              9   \n",
      "3   53           Private  234721       11th              7   \n",
      "4   28           Private  338409  Bachelors             13   \n",
      "\n",
      "       marital-status         occupation   relationship   race     sex  \\\n",
      "0       Never-married       Adm-clerical  Not-in-family  White    Male   \n",
      "1  Married-civ-spouse    Exec-managerial        Husband  White    Male   \n",
      "2            Divorced  Handlers-cleaners  Not-in-family  White    Male   \n",
      "3  Married-civ-spouse  Handlers-cleaners        Husband  Black    Male   \n",
      "4  Married-civ-spouse     Prof-specialty           Wife  Black  Female   \n",
      "\n",
      "   capital-gain  capital-loss  hours-per-week native-country  class  \n",
      "0          2174             0              40  United-States  <=50K  \n",
      "1             0             0              13  United-States  <=50K  \n",
      "2             0             0              40  United-States  <=50K  \n",
      "3             0             0              40  United-States  <=50K  \n",
      "4             0             0              40           Cuba  <=50K  \n"
     ]
    }
   ],
   "source": [
    "import pandas as pd\n",
    "import matplotlib.pyplot as plt\n",
    "\n",
    "%matplotlib inline\n",
    "\n",
    "\n",
    "names = ['age', 'workclass', 'fnlwgt', 'education', 'education-num', \n",
    "        'marital-status', 'occupation','relationship', 'race', 'sex',\n",
    "         'capital-gain', 'capital-loss', 'hours-per-week', 'native-country', 'class']\n",
    "\n",
    "f = pd.read_csv('adult_data.csv', names = names, sep = ', ')\n",
    "\n",
    "print f.head()"
   ]
  },
  {
   "cell_type": "code",
   "execution_count": 37,
   "metadata": {
    "collapsed": false
   },
   "outputs": [
    {
     "name": "stdout",
     "output_type": "stream",
     "text": [
      "Male population: 21790\n",
      "Female population: 10771\n",
      "Mean male age: 39.4335474989\n"
     ]
    }
   ],
   "source": [
    "print 'Male population:', f['sex'].value_counts()[0]\n",
    "\n",
    "print 'Female population:', f['sex'].value_counts()[1]\n",
    "\n",
    "print 'Mean male age:', f[f['sex'] == 'Male']['age'].mean()\n"
   ]
  },
  {
   "cell_type": "code",
   "execution_count": 38,
   "metadata": {
    "collapsed": false
   },
   "outputs": [
    {
     "name": "stdout",
     "output_type": "stream",
     "text": [
      "Distribution of people’s education as a bar plot:\n"
     ]
    },
    {
     "data": {
      "text/plain": [
       "<matplotlib.axes._subplots.AxesSubplot at 0x7f6f51cc7d10>"
      ]
     },
     "execution_count": 38,
     "metadata": {},
     "output_type": "execute_result"
    },
    {
     "data": {
      "image/png": "[encoded data removed]",
      "text/plain": [
       "<matplotlib.figure.Figure at 0x7f6f51c1a650>"
      ]
     },
     "metadata": {},
     "output_type": "display_data"
    }
   ],
   "source": [
    "print 'Distribution of people’s education as a bar plot:'\n",
    "\n",
    "f['education'].value_counts().plot(kind = 'bar')"
   ]
  },
  {
   "cell_type": "code",
   "execution_count": 49,
   "metadata": {
    "collapsed": false
   },
   "outputs": [
    {
     "name": "stdout",
     "output_type": "stream",
     "text": [
      "Mean and standard deviation of the ”final weight” for divorced people:\n",
      "Mean: 185802.790457\n",
      "STD: 105646.789459\n"
     ]
    }
   ],
   "source": [
    "print \"Mean and standard deviation of the ”final weight” for divorced people:\"\n",
    "\n",
    "print 'Mean:', f[f['marital-status'] == 'Divorced']['fnlwgt'].mean()\n",
    "print 'STD:', f[f['marital-status'] == 'Divorced']['fnlwgt'].std()\n"
   ]
  },
  {
   "cell_type": "code",
   "execution_count": 54,
   "metadata": {
    "collapsed": false
   },
   "outputs": [
    {
     "name": "stdout",
     "output_type": "stream",
     "text": [
      "Is it true that the people who receive over 50k are mostly highly educated?        \n",
      " Yes, it can be seen from the bar chart\n"
     ]
    },
    {
     "data": {
      "text/plain": [
       "<matplotlib.axes._subplots.AxesSubplot at 0x7f6f358900d0>"
      ]
     },
     "execution_count": 54,
     "metadata": {},
     "output_type": "execute_result"
    },
    {
     "data": {
      "image/png": "[encoded data removed]",
      "text/plain": [
       "<matplotlib.figure.Figure at 0x7f6f34c1ea10>"
      ]
     },
     "metadata": {},
     "output_type": "display_data"
    }
   ],
   "source": [
    "print \"Is it true that the people who receive over 50k are mostly highly educated?\\\n",
    "        \\n Yes, it can be seen from the bar chart\"\n",
    "\n",
    "\n",
    "f[f['class'] == '>50K']['education'].value_counts().plot(kind = 'bar')\n"
   ]
  },
  {
   "cell_type": "code",
   "execution_count": 92,
   "metadata": {
    "collapsed": false
   },
   "outputs": [
    {
     "name": "stdout",
     "output_type": "stream",
     "text": [
      "Maximum male and female age for each race:\n",
      "\n",
      " Male Race White: 90\n",
      " Female Race White: 90\n",
      "\n",
      " Male Race Black: 90\n",
      " Female Race Black: 90\n",
      "\n",
      " Male Race Asian-Pac-Islander: 90\n",
      " Female Race Asian-Pac-Islander: 75\n",
      "\n",
      " Male Race Amer-Indian-Eskimo: 82\n",
      " Female Race Amer-Indian-Eskimo: 80\n",
      "\n",
      " Male Race Other: 77\n",
      " Female Race Other: 74\n"
     ]
    }
   ],
   "source": [
    "print \"Maximum male and female age for each race:\"\n",
    "\n",
    "for race in f['race'].value_counts().keys():\n",
    "    print \"\\n Male Race %s:\" %race,  f[(f['race'] == race) & (f['sex'] == 'Male')]['age'].max()\n",
    "    print \" Female Race %s:\" %race,  f[(f['race'] == race) & (f['sex'] == 'Female')]['age'].max()"
   ]
  },
  {
   "cell_type": "code",
   "execution_count": 104,
   "metadata": {
    "collapsed": false
   },
   "outputs": [
    {
     "name": "stdout",
     "output_type": "stream",
     "text": [
      "The people from which countries work as farmers/fishers\n"
     ]
    },
    {
     "data": {
      "text/plain": [
       "United-States    879\n",
       "Mexico            77\n",
       "Puerto-Rico        5\n",
       "?                  5\n",
       "Philippines        4\n",
       "Guatemala          4\n",
       "Italy              2\n",
       "Cuba               2\n",
       "Canada             2\n",
       "Vietnam            2\n",
       "El-Salvador        2\n",
       "Poland             1\n",
       "England            1\n",
       "Germany            1\n",
       "Portugal           1\n",
       "Ireland            1\n",
       "France             1\n",
       "Cambodia           1\n",
       "Yugoslavia         1\n",
       "Hong               1\n",
       "Japan              1\n",
       "dtype: int64"
      ]
     },
     "execution_count": 104,
     "metadata": {},
     "output_type": "execute_result"
    }
   ],
   "source": [
    "print \"The people from which countries work as farmers/fishers\"\n",
    "\n",
    "f[f['occupation'] == 'Farming-fishing']['native-country'].value_counts()"
   ]
  },
  {
   "cell_type": "code",
   "execution_count": 118,
   "metadata": {
    "collapsed": false
   },
   "outputs": [
    {
     "name": "stdout",
     "output_type": "stream",
     "text": [
      "Consider the ratio of the number of 1) male bachelors to male masters, and 2) female bachelors to female masters. Which one is higher?\n",
      "Male      3.147430\n",
      "Female    3.020522\n",
      "dtype: float64\n",
      "For Male this rate is higher\n"
     ]
    }
   ],
   "source": [
    "print \"Consider the ratio of the number of \\\n",
    "1) male bachelors to male masters, and \\\n",
    "2) female bachelors to female masters. Which one is higher?\"\n",
    "\n",
    "print (f[f['education'] == 'Bachelors']['sex'].value_counts())/(f[f['education'] == 'Masters']['sex'].value_counts())\n",
    "\n",
    "print \"For Male this rate is higher\""
   ]
  },
  {
   "cell_type": "code",
   "execution_count": 130,
   "metadata": {
    "collapsed": false
   },
   "outputs": [
    {
     "name": "stdout",
     "output_type": "stream",
     "text": [
      "What is the largest number of hours a person works a week?\n",
      "99\n",
      "How many people who work this number of hours are there?\n",
      "85\n",
      " What is their income?\n",
      "0        76\n",
      "15024     3\n",
      "2407      1\n",
      "2907      1\n",
      "4416      1\n",
      "2354      1\n",
      "4386      1\n",
      "6418      1\n",
      "dtype: int64\n"
     ]
    }
   ],
   "source": [
    "print \"What is the largest number of hours a person works a week?\"\n",
    "max_ = f['hours-per-week'].max()\n",
    "print max_\n",
    "\n",
    "print \"How many people who work this number of hours are there?\"\n",
    "print f[f['hours-per-week'] == max_]['capital-gain'].value_counts().sum()\n",
    "\n",
    "print \" What is their income?\"\n",
    "print f[f['hours-per-week'] == max_]['capital-gain'].value_counts()\n"
   ]
  }
 ],
 "metadata": {
  "kernelspec": {
   "display_name": "Python 2",
   "language": "python",
   "name": "python2"
  },
  "language_info": {
   "codemirror_mode": {
    "name": "ipython",
    "version": 2
   },
   "file_extension": ".py",
   "mimetype": "text/x-python",
   "name": "python",
   "nbconvert_exporter": "python",
   "pygments_lexer": "ipython2",
   "version": "2.7.10"
  }
 },
 "nbformat": 4,
 "nbformat_minor": 0
}
