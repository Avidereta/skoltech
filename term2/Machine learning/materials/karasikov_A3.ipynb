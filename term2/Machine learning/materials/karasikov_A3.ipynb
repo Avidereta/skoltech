{
 "cells": [
  {
   "cell_type": "markdown",
   "metadata": {},
   "source": [
    "# Machine Learning: Task 3\n",
    "_by Mikhail Karasikov_"
   ]
  },
  {
   "cell_type": "code",
   "execution_count": 1,
   "metadata": {
    "collapsed": true
   },
   "outputs": [],
   "source": [
    "import numpy as np\n",
    "import sklearn\n",
    "import pandas as pd"
   ]
  },
  {
   "cell_type": "code",
   "execution_count": 2,
   "metadata": {
    "collapsed": false
   },
   "outputs": [
    {
     "data": {
      "text/html": [
       "<div>\n",
       "<table border=\"1\" class=\"dataframe\">\n",
       "  <thead>\n",
       "    <tr style=\"text-align: right;\">\n",
       "      <th></th>\n",
       "      <th>0</th>\n",
       "      <th>1</th>\n",
       "      <th>2</th>\n",
       "      <th>3</th>\n",
       "      <th>4</th>\n",
       "      <th>5</th>\n",
       "      <th>6</th>\n",
       "      <th>7</th>\n",
       "      <th>8</th>\n",
       "      <th>9</th>\n",
       "      <th>10</th>\n",
       "      <th>11</th>\n",
       "      <th>12</th>\n",
       "      <th>13</th>\n",
       "      <th>14</th>\n",
       "    </tr>\n",
       "  </thead>\n",
       "  <tbody>\n",
       "    <tr>\n",
       "      <th>0</th>\n",
       "      <td>b</td>\n",
       "      <td>2783</td>\n",
       "      <td>1.540</td>\n",
       "      <td>u</td>\n",
       "      <td>g</td>\n",
       "      <td>w</td>\n",
       "      <td>v</td>\n",
       "      <td>3.750</td>\n",
       "      <td>t</td>\n",
       "      <td>t</td>\n",
       "      <td>5</td>\n",
       "      <td>t</td>\n",
       "      <td>g</td>\n",
       "      <td>0.000010</td>\n",
       "      <td>3</td>\n",
       "    </tr>\n",
       "    <tr>\n",
       "      <th>1</th>\n",
       "      <td>b</td>\n",
       "      <td>3317</td>\n",
       "      <td>1.040</td>\n",
       "      <td>u</td>\n",
       "      <td>g</td>\n",
       "      <td>r</td>\n",
       "      <td>h</td>\n",
       "      <td>6.500</td>\n",
       "      <td>t</td>\n",
       "      <td>f</td>\n",
       "      <td>0</td>\n",
       "      <td>t</td>\n",
       "      <td>g</td>\n",
       "      <td>0.000016</td>\n",
       "      <td>31285</td>\n",
       "    </tr>\n",
       "    <tr>\n",
       "      <th>2</th>\n",
       "      <td>a</td>\n",
       "      <td>2292</td>\n",
       "      <td>11.585</td>\n",
       "      <td>u</td>\n",
       "      <td>g</td>\n",
       "      <td>cc</td>\n",
       "      <td>v</td>\n",
       "      <td>0.040</td>\n",
       "      <td>t</td>\n",
       "      <td>f</td>\n",
       "      <td>0</td>\n",
       "      <td>f</td>\n",
       "      <td>g</td>\n",
       "      <td>0.000008</td>\n",
       "      <td>1349</td>\n",
       "    </tr>\n",
       "    <tr>\n",
       "      <th>3</th>\n",
       "      <td>b</td>\n",
       "      <td>5442</td>\n",
       "      <td>0.500</td>\n",
       "      <td>y</td>\n",
       "      <td>p</td>\n",
       "      <td>k</td>\n",
       "      <td>h</td>\n",
       "      <td>3.960</td>\n",
       "      <td>t</td>\n",
       "      <td>f</td>\n",
       "      <td>0</td>\n",
       "      <td>f</td>\n",
       "      <td>g</td>\n",
       "      <td>0.000018</td>\n",
       "      <td>314</td>\n",
       "    </tr>\n",
       "    <tr>\n",
       "      <th>4</th>\n",
       "      <td>b</td>\n",
       "      <td>4250</td>\n",
       "      <td>4.915</td>\n",
       "      <td>y</td>\n",
       "      <td>p</td>\n",
       "      <td>w</td>\n",
       "      <td>v</td>\n",
       "      <td>3.165</td>\n",
       "      <td>t</td>\n",
       "      <td>f</td>\n",
       "      <td>0</td>\n",
       "      <td>t</td>\n",
       "      <td>g</td>\n",
       "      <td>0.000005</td>\n",
       "      <td>1442</td>\n",
       "    </tr>\n",
       "  </tbody>\n",
       "</table>\n",
       "</div>"
      ],
      "text/plain": [
       "  0     1       2  3  4   5  6      7  8  9   10 11 12        13     14\n",
       "0  b  2783   1.540  u  g   w  v  3.750  t  t   5  t  g  0.000010      3\n",
       "1  b  3317   1.040  u  g   r  h  6.500  t  f   0  t  g  0.000016  31285\n",
       "2  a  2292  11.585  u  g  cc  v  0.040  t  f   0  f  g  0.000008   1349\n",
       "3  b  5442   0.500  y  p   k  h  3.960  t  f   0  f  g  0.000018    314\n",
       "4  b  4250   4.915  y  p   w  v  3.165  t  f   0  t  g  0.000005   1442"
      ]
     },
     "execution_count": 2,
     "metadata": {},
     "output_type": "execute_result"
    }
   ],
   "source": [
    "train_df = pd.read_csv('train.data', na_values=\"?\", sep=',', engine='python', header=None)\n",
    "test_df = pd.read_csv('test.data', na_values=\"?\", sep=',', engine='python', header=None)\n",
    "train_labels = train_df[15]\n",
    "train_df = train_df[np.arange(15)]\n",
    "train_df.head()"
   ]
  },
  {
   "cell_type": "code",
   "execution_count": 3,
   "metadata": {
    "collapsed": false
   },
   "outputs": [
    {
     "data": {
      "text/plain": [
       "(402, 15)"
      ]
     },
     "execution_count": 3,
     "metadata": {},
     "output_type": "execute_result"
    }
   ],
   "source": [
    "train_df.shape"
   ]
  },
  {
   "cell_type": "markdown",
   "metadata": {},
   "source": [
    "Dataset contains $402$ training samples and $15$ features as long as the last column corresponds to class labels."
   ]
  },
  {
   "cell_type": "code",
   "execution_count": 4,
   "metadata": {
    "collapsed": false
   },
   "outputs": [
    {
     "data": {
      "text/plain": [
       "0      object\n",
       "1     float64\n",
       "2     float64\n",
       "3      object\n",
       "4      object\n",
       "5      object\n",
       "6      object\n",
       "7     float64\n",
       "8      object\n",
       "9      object\n",
       "10      int64\n",
       "11     object\n",
       "12     object\n",
       "13    float64\n",
       "14      int64\n",
       "dtype: object"
      ]
     },
     "execution_count": 4,
     "metadata": {},
     "output_type": "execute_result"
    }
   ],
   "source": [
    "train_df.dtypes"
   ]
  },
  {
   "cell_type": "markdown",
   "metadata": {},
   "source": [
    "Features 1, 2, 7, and 13 are continuous. The others are categorial."
   ]
  },
  {
   "cell_type": "code",
   "execution_count": 5,
   "metadata": {
    "collapsed": false
   },
   "outputs": [
    {
     "data": {
      "image/png": "[encoded data removed]",
      "text/plain": [
       "<matplotlib.figure.Figure at 0x811c0b8>"
      ]
     },
     "metadata": {},
     "output_type": "display_data"
    },
    {
     "data": {
      "text/html": [
       "<div>\n",
       "<table border=\"1\" class=\"dataframe\">\n",
       "  <thead>\n",
       "    <tr style=\"text-align: right;\">\n",
       "      <th></th>\n",
       "      <th>1</th>\n",
       "      <th>2</th>\n",
       "      <th>7</th>\n",
       "      <th>10</th>\n",
       "      <th>13</th>\n",
       "      <th>14</th>\n",
       "    </tr>\n",
       "  </thead>\n",
       "  <tbody>\n",
       "    <tr>\n",
       "      <th>count</th>\n",
       "      <td>397.000000</td>\n",
       "      <td>402.000000</td>\n",
       "      <td>402.000000</td>\n",
       "      <td>402.000000</td>\n",
       "      <td>395.000000</td>\n",
       "      <td>402.000000</td>\n",
       "    </tr>\n",
       "    <tr>\n",
       "      <th>mean</th>\n",
       "      <td>3164.735516</td>\n",
       "      <td>4.540535</td>\n",
       "      <td>2.085323</td>\n",
       "      <td>2.156716</td>\n",
       "      <td>0.000018</td>\n",
       "      <td>1137.875622</td>\n",
       "    </tr>\n",
       "    <tr>\n",
       "      <th>std</th>\n",
       "      <td>1195.768564</td>\n",
       "      <td>4.659156</td>\n",
       "      <td>3.143756</td>\n",
       "      <td>3.898055</td>\n",
       "      <td>0.000018</td>\n",
       "      <td>6038.564633</td>\n",
       "    </tr>\n",
       "    <tr>\n",
       "      <th>min</th>\n",
       "      <td>1517.000000</td>\n",
       "      <td>0.000000</td>\n",
       "      <td>0.000000</td>\n",
       "      <td>0.000000</td>\n",
       "      <td>0.000000</td>\n",
       "      <td>0.000000</td>\n",
       "    </tr>\n",
       "    <tr>\n",
       "      <th>25%</th>\n",
       "      <td>2267.000000</td>\n",
       "      <td>1.000000</td>\n",
       "      <td>0.210000</td>\n",
       "      <td>0.000000</td>\n",
       "      <td>0.000007</td>\n",
       "      <td>0.000000</td>\n",
       "    </tr>\n",
       "    <tr>\n",
       "      <th>50%</th>\n",
       "      <td>2825.000000</td>\n",
       "      <td>2.687500</td>\n",
       "      <td>1.000000</td>\n",
       "      <td>0.000000</td>\n",
       "      <td>0.000016</td>\n",
       "      <td>6.000000</td>\n",
       "    </tr>\n",
       "    <tr>\n",
       "      <th>75%</th>\n",
       "      <td>3750.000000</td>\n",
       "      <td>7.000000</td>\n",
       "      <td>2.500000</td>\n",
       "      <td>2.000000</td>\n",
       "      <td>0.000028</td>\n",
       "      <td>444.000000</td>\n",
       "    </tr>\n",
       "    <tr>\n",
       "      <th>max</th>\n",
       "      <td>8025.000000</td>\n",
       "      <td>25.085000</td>\n",
       "      <td>20.000000</td>\n",
       "      <td>20.000000</td>\n",
       "      <td>0.000200</td>\n",
       "      <td>100000.000000</td>\n",
       "    </tr>\n",
       "  </tbody>\n",
       "</table>\n",
       "</div>"
      ],
      "text/plain": [
       "                1           2           7           10          13  \\\n",
       "count   397.000000  402.000000  402.000000  402.000000  395.000000   \n",
       "mean   3164.735516    4.540535    2.085323    2.156716    0.000018   \n",
       "std    1195.768564    4.659156    3.143756    3.898055    0.000018   \n",
       "min    1517.000000    0.000000    0.000000    0.000000    0.000000   \n",
       "25%    2267.000000    1.000000    0.210000    0.000000    0.000007   \n",
       "50%    2825.000000    2.687500    1.000000    0.000000    0.000016   \n",
       "75%    3750.000000    7.000000    2.500000    2.000000    0.000028   \n",
       "max    8025.000000   25.085000   20.000000   20.000000    0.000200   \n",
       "\n",
       "                  14  \n",
       "count     402.000000  \n",
       "mean     1137.875622  \n",
       "std      6038.564633  \n",
       "min         0.000000  \n",
       "25%         0.000000  \n",
       "50%         6.000000  \n",
       "75%       444.000000  \n",
       "max    100000.000000  "
      ]
     },
     "execution_count": 5,
     "metadata": {},
     "output_type": "execute_result"
    }
   ],
   "source": [
    "import matplotlib.pyplot as plt\n",
    "%matplotlib inline\n",
    "\n",
    "train_df.hist(figsize=(10, 8))\n",
    "plt.show()\n",
    "train_df.describe()"
   ]
  },
  {
   "cell_type": "markdown",
   "metadata": {},
   "source": [
    "Histograms for continuous features are presented above.\n",
    "\n",
    "Let's look at possible values of features and their distributions."
   ]
  },
  {
   "cell_type": "code",
   "execution_count": 6,
   "metadata": {
    "collapsed": false,
    "scrolled": false
   },
   "outputs": [
    {
     "data": {
      "image/png": "[encoded data removed]",
      "text/plain": [
       "<matplotlib.figure.Figure at 0x99d6ba8>"
      ]
     },
     "metadata": {},
     "output_type": "display_data"
    },
    {
     "data": {
      "image/png": "[encoded data removed]",
      "text/plain": [
       "<matplotlib.figure.Figure at 0x99dfd30>"
      ]
     },
     "metadata": {},
     "output_type": "display_data"
    },
    {
     "data": {
      "image/png": "[encoded data removed]",
      "text/plain": [
       "<matplotlib.figure.Figure at 0x8df5a90>"
      ]
     },
     "metadata": {},
     "output_type": "display_data"
    },
    {
     "data": {
      "image/png": "[encoded data removed]",
      "text/plain": [
       "<matplotlib.figure.Figure at 0x8e58908>"
      ]
     },
     "metadata": {},
     "output_type": "display_data"
    },
    {
     "data": {
      "image/png": "[encoded data removed]",
      "text/plain": [
       "<matplotlib.figure.Figure at 0x8ee8c50>"
      ]
     },
     "metadata": {},
     "output_type": "display_data"
    },
    {
     "data": {
      "image/png": "[encoded data removed]",
      "text/plain": [
       "<matplotlib.figure.Figure at 0x8f20f98>"
      ]
     },
     "metadata": {},
     "output_type": "display_data"
    },
    {
     "data": {
      "image/png": "[encoded data removed]",
      "text/plain": [
       "<matplotlib.figure.Figure at 0x8e8acf8>"
      ]
     },
     "metadata": {},
     "output_type": "display_data"
    },
    {
     "data": {
      "image/png": "[encoded data removed]",
      "text/plain": [
       "<matplotlib.figure.Figure at 0x8dce6a0>"
      ]
     },
     "metadata": {},
     "output_type": "display_data"
    },
    {
     "data": {
      "image/png": "[encoded data removed]",
      "text/plain": [
       "<matplotlib.figure.Figure at 0x8d17cf8>"
      ]
     },
     "metadata": {},
     "output_type": "display_data"
    }
   ],
   "source": [
    "train_df[0].value_counts().plot(kind='bar', title='0', fontsize=15)\n",
    "plt.show()\n",
    "train_df[3].value_counts().plot(kind='bar', title='3', fontsize=15)\n",
    "plt.show()\n",
    "train_df[4].value_counts().plot(kind='bar', title='4', fontsize=15)\n",
    "plt.show()\n",
    "train_df[5].value_counts().plot(kind='bar', title='5', fontsize=15)\n",
    "plt.show()\n",
    "train_df[6].value_counts().plot(kind='bar', title='6', fontsize=15)\n",
    "plt.show()\n",
    "train_df[8].value_counts().plot(kind='bar', title='8', fontsize=15)\n",
    "plt.show()\n",
    "train_df[9].value_counts().plot(kind='bar', title='9', fontsize=15)\n",
    "plt.show()\n",
    "train_df[11].value_counts().plot(kind='bar', title='11', fontsize=15)\n",
    "plt.show()\n",
    "train_df[12].value_counts().plot(kind='bar', title='12', fontsize=15)\n",
    "plt.show()"
   ]
  },
  {
   "cell_type": "code",
   "execution_count": 7,
   "metadata": {
    "collapsed": false
   },
   "outputs": [
    {
     "data": {
      "text/plain": [
       "0     8\n",
       "1     5\n",
       "2     0\n",
       "3     3\n",
       "4     3\n",
       "5     6\n",
       "6     6\n",
       "7     0\n",
       "8     0\n",
       "9     0\n",
       "10    0\n",
       "11    0\n",
       "12    0\n",
       "13    7\n",
       "14    0\n",
       "dtype: int64"
      ]
     },
     "execution_count": 7,
     "metadata": {},
     "output_type": "execute_result"
    }
   ],
   "source": [
    "train_df.isnull().sum(0)"
   ]
  },
  {
   "cell_type": "markdown",
   "metadata": {},
   "source": [
    "Features 0, 1, 3, 4, 5, 6, and 13 contain missed values. One can see them above."
   ]
  },
  {
   "cell_type": "code",
   "execution_count": 8,
   "metadata": {
    "collapsed": false
   },
   "outputs": [
    {
     "data": {
      "text/plain": [
       "38"
      ]
     },
     "execution_count": 8,
     "metadata": {},
     "output_type": "execute_result"
    }
   ],
   "source": [
    "train_df.isnull().sum(0).sum()"
   ]
  },
  {
   "cell_type": "markdown",
   "metadata": {},
   "source": [
    "Total number of missed values is $38$."
   ]
  },
  {
   "cell_type": "code",
   "execution_count": 9,
   "metadata": {
    "collapsed": false
   },
   "outputs": [
    {
     "data": {
      "image/png": "[encoded data removed]",
      "text/plain": [
       "<matplotlib.figure.Figure at 0x99c86a0>"
      ]
     },
     "metadata": {},
     "output_type": "display_data"
    }
   ],
   "source": [
    "train_labels.value_counts().plot(kind='bar', title='Class Labels', fontsize=15, rot=180)\n",
    "plt.show()"
   ]
  },
  {
   "cell_type": "markdown",
   "metadata": {},
   "source": [
    "There are two classes in the problem, which are lebeled by $+$ and $-$.\n",
    "\n",
    "One can see, they are more or less balanced."
   ]
  },
  {
   "cell_type": "markdown",
   "metadata": {},
   "source": [
    "### Filling missing values\n",
    "Let's filled missed values with standard pandas' procedure."
   ]
  },
  {
   "cell_type": "code",
   "execution_count": 10,
   "metadata": {
    "collapsed": false
   },
   "outputs": [
    {
     "data": {
      "text/plain": [
       "0"
      ]
     },
     "execution_count": 10,
     "metadata": {},
     "output_type": "execute_result"
    }
   ],
   "source": [
    "train_df_filled = train_df.fillna(method='pad')\n",
    "test_df_filled = test_df.fillna(method='pad')\n",
    "train_df_filled.isnull().sum(0).sum()"
   ]
  },
  {
   "cell_type": "markdown",
   "metadata": {},
   "source": [
    "### One-Hot Encoding"
   ]
  },
  {
   "cell_type": "markdown",
   "metadata": {},
   "source": [
    "Let's transform all categorical features with one-hot encoding."
   ]
  },
  {
   "cell_type": "code",
   "execution_count": 11,
   "metadata": {
    "collapsed": false
   },
   "outputs": [
    {
     "data": {
      "text/plain": [
       "(402, 307)"
      ]
     },
     "execution_count": 11,
     "metadata": {},
     "output_type": "execute_result"
    }
   ],
   "source": [
    "from sklearn import preprocessing\n",
    "\n",
    "def get_series_ids(x):\n",
    "    values = np.unique(x)\n",
    "    values2nums = dict(zip(values, range(len(values))))\n",
    "    return x.replace(values2nums)\n",
    "\n",
    "full_df_filled = pd.concat((train_df_filled, test_df_filled))\n",
    "\n",
    "for f in train_df_filled.select_dtypes([object]).columns:\n",
    "    full_df_filled[f] = get_series_ids(full_df_filled[f])\n",
    "\n",
    "encoder = preprocessing.OneHotEncoder(categorical_features=train_df_filled.select_dtypes([object, np.int64]).columns)\n",
    "full_features = encoder.fit_transform(full_df_filled).todense()\n",
    "\n",
    "train_features = full_features[:train_df_filled.shape[0]]\n",
    "test_features = full_features[train_df_filled.shape[0]:]\n",
    "train_features.shape"
   ]
  },
  {
   "cell_type": "markdown",
   "metadata": {},
   "source": [
    "### Decision Tree\n",
    "Let's apply decision tree classifier."
   ]
  },
  {
   "cell_type": "code",
   "execution_count": 12,
   "metadata": {
    "collapsed": false
   },
   "outputs": [
    {
     "data": {
      "text/plain": [
       "0.8085802469135801"
      ]
     },
     "execution_count": 12,
     "metadata": {},
     "output_type": "execute_result"
    }
   ],
   "source": [
    "from sklearn import tree, cross_validation, cross_validation, svm, grid_search\n",
    "\n",
    "dt_classifier = tree.DecisionTreeClassifier()\n",
    "scores = cross_validation.cross_val_score(dt_classifier, train_features, train_labels, cv=5)\n",
    "scores.mean()"
   ]
  },
  {
   "cell_type": "code",
   "execution_count": 13,
   "metadata": {
    "collapsed": false
   },
   "outputs": [
    {
     "data": {
      "text/plain": [
       "0.80373456790123454"
      ]
     },
     "execution_count": 13,
     "metadata": {},
     "output_type": "execute_result"
    }
   ],
   "source": [
    "dt_classifier = tree.DecisionTreeClassifier(criterion='entropy')\n",
    "scores = cross_validation.cross_val_score(dt_classifier, train_features, train_labels, cv=5)\n",
    "scores.mean()"
   ]
  },
  {
   "cell_type": "code",
   "execution_count": 14,
   "metadata": {
    "collapsed": false
   },
   "outputs": [
    {
     "data": {
      "text/plain": [
       "0.7588580246913581"
      ]
     },
     "execution_count": 14,
     "metadata": {},
     "output_type": "execute_result"
    }
   ],
   "source": [
    "dt_classifier = tree.DecisionTreeClassifier(max_features=40)\n",
    "scores = cross_validation.cross_val_score(dt_classifier, train_features, train_labels, cv=5)\n",
    "scores.mean()"
   ]
  },
  {
   "cell_type": "markdown",
   "metadata": {},
   "source": [
    "Changes of parameters don't lead to increasing of classification quality."
   ]
  },
  {
   "cell_type": "markdown",
   "metadata": {},
   "source": [
    "We are going to try grid search."
   ]
  },
  {
   "cell_type": "code",
   "execution_count": 15,
   "metadata": {
    "collapsed": false
   },
   "outputs": [
    {
     "name": "stdout",
     "output_type": "stream",
     "text": [
      "1 loops, best of 3: 25.5 s per loop\n",
      "{'splitter': 'best', 'criterion': 'gini', 'min_samples_leaf': 16, 'max_features': 'sqrt', 'max_depth': 120}\n",
      "Time: 25.51s, Mean accuracy: 0.86\n"
     ]
    }
   ],
   "source": [
    "parameters = {'criterion': ['gini', 'entropy'],\n",
    "              'splitter': ['best', 'random'], \n",
    "              'max_features': ['auto', 'sqrt', 'log2', None],\n",
    "              'max_depth': list(range(20, 1000, 100)),\n",
    "              'min_samples_leaf': list(range(1, 30, 5))}\n",
    "\n",
    "clf = grid_search.GridSearchCV(tree.DecisionTreeClassifier(), parameters)\n",
    "result = %timeit -o clf.fit(train_features, train_labels)\n",
    "\n",
    "print(clf.best_params_)\n",
    "\n",
    "time = {}\n",
    "accuracy = {}\n",
    "time['DT'] = result.best\n",
    "accuracy['DT'] = clf.best_score_\n",
    "\n",
    "print('Time: %.2fs, Mean accuracy: %.2f' % (result.best, clf.best_score_))"
   ]
  },
  {
   "cell_type": "markdown",
   "metadata": {},
   "source": [
    "Now we can see optimal parameters."
   ]
  },
  {
   "cell_type": "markdown",
   "metadata": {},
   "source": [
    "### SVM classifier"
   ]
  },
  {
   "cell_type": "code",
   "execution_count": 16,
   "metadata": {
    "collapsed": false
   },
   "outputs": [
    {
     "data": {
      "text/plain": [
       "0.56240740740740736"
      ]
     },
     "execution_count": 16,
     "metadata": {},
     "output_type": "execute_result"
    }
   ],
   "source": [
    "svm_classifier = svm.SVC()\n",
    "scores = cross_validation.cross_val_score(svm_classifier, train_features, train_labels, cv=5)\n",
    "scores.mean()"
   ]
  },
  {
   "cell_type": "markdown",
   "metadata": {},
   "source": [
    "The quality is very poor. Let's normalize the data."
   ]
  },
  {
   "cell_type": "code",
   "execution_count": 17,
   "metadata": {
    "collapsed": false
   },
   "outputs": [
    {
     "data": {
      "text/plain": [
       "0.56466049382716044"
      ]
     },
     "execution_count": 17,
     "metadata": {},
     "output_type": "execute_result"
    }
   ],
   "source": [
    "from sklearn import preprocessing\n",
    "\n",
    "normalizer = preprocessing.Normalizer()\n",
    "train_features_normalized = normalizer.fit_transform(train_features)\n",
    "scores = cross_validation.cross_val_score(svm_classifier, train_features_normalized, train_labels, cv=5)\n",
    "scores.mean()"
   ]
  },
  {
   "cell_type": "markdown",
   "metadata": {},
   "source": [
    "The accuracy wasn't increased. Let's tune the parameters."
   ]
  },
  {
   "cell_type": "code",
   "execution_count": 18,
   "metadata": {
    "collapsed": false
   },
   "outputs": [
    {
     "name": "stdout",
     "output_type": "stream",
     "text": [
      "1 loops, best of 3: 1min 20s per loop\n",
      "{'degree': 3, 'gamma': 10.0, 'C': 100.0, 'coef0': 0.0001, 'kernel': 'poly'} \n",
      "\n",
      "Time: 80.69s, Mean accuracy: 0.84\n"
     ]
    }
   ],
   "source": [
    "parameters = {\n",
    "    'C': np.logspace(-2, 2, 5),\n",
    "    'kernel': ['poly', 'rbf', 'sigmoid'],\n",
    "    'degree': np.arange(1, 4),\n",
    "    'coef0': np.logspace(-4, 0, 3),\n",
    "    'gamma': np.logspace(-1, 1, 3)\n",
    "}\n",
    "\n",
    "clf = grid_search.GridSearchCV(svm.SVC(), parameters)\n",
    "result = %timeit -o clf.fit(train_features_normalized, train_labels)\n",
    "\n",
    "print(clf.best_params_, '\\n')\n",
    "\n",
    "time['SVM'] = result.best\n",
    "accuracy['SVM'] = clf.best_score_\n",
    "\n",
    "print('Time: %.2fs, Mean accuracy: %.2f' % (result.best, clf.best_score_))"
   ]
  },
  {
   "cell_type": "markdown",
   "metadata": {},
   "source": [
    "It achieved about $80\\%$ accuracy."
   ]
  },
  {
   "cell_type": "markdown",
   "metadata": {},
   "source": [
    "### Choosing The Best Classifier"
   ]
  },
  {
   "cell_type": "markdown",
   "metadata": {},
   "source": [
    "#### Logistic Regression"
   ]
  },
  {
   "cell_type": "code",
   "execution_count": 19,
   "metadata": {
    "collapsed": false
   },
   "outputs": [
    {
     "name": "stdout",
     "output_type": "stream",
     "text": [
      "1 loops, best of 3: 1.55 s per loop\n",
      "{'penalty': 'l1', 'C': 1000.0, 'fit_intercept': True} \n",
      "\n",
      "Time: 1.55s, Mean accuracy: 0.84\n"
     ]
    }
   ],
   "source": [
    "from sklearn.linear_model import LogisticRegression\n",
    "\n",
    "parameters = {\n",
    "    'C': np.logspace(-2, 5, 8),\n",
    "    'penalty': ['l1', 'l2'],\n",
    "    'fit_intercept' : [True, False],\n",
    "}\n",
    "\n",
    "clf = grid_search.GridSearchCV(LogisticRegression(), parameters)\n",
    "\n",
    "result = %timeit -o clf.fit(train_features_normalized, train_labels)\n",
    "\n",
    "print(clf.best_params_, '\\n')\n",
    "\n",
    "time['LR'] = result.best\n",
    "accuracy['LR'] = clf.best_score_\n",
    "\n",
    "print('Time: %.2fs, Mean accuracy: %.2f' % (result.best, clf.best_score_))"
   ]
  },
  {
   "cell_type": "markdown",
   "metadata": {},
   "source": [
    "#### KNN"
   ]
  },
  {
   "cell_type": "code",
   "execution_count": 20,
   "metadata": {
    "collapsed": false
   },
   "outputs": [
    {
     "name": "stdout",
     "output_type": "stream",
     "text": [
      "1 loops, best of 3: 8.3 s per loop\n",
      "{'leaf_size': 10, 'n_neighbors': 8, 'algorithm': 'auto'} \n",
      "\n",
      "Time: 8.30s, Mean accuracy: 0.80\n"
     ]
    }
   ],
   "source": [
    "from sklearn.neighbors import KNeighborsClassifier\n",
    "\n",
    "parameters = {\n",
    "    'n_neighbors': np.arange(1, 10, 1),\n",
    "    'algorithm' : ['auto', 'ball_tree', 'kd_tree', 'brute'],\n",
    "    'leaf_size' : [10, 30, 50]\n",
    "}\n",
    "\n",
    "clf = grid_search.GridSearchCV(KNeighborsClassifier(), parameters)\n",
    "\n",
    "result = %timeit -o clf.fit(train_features_normalized, train_labels)\n",
    "\n",
    "print(clf.best_params_, '\\n')\n",
    "\n",
    "time['KNN'] = result.best\n",
    "accuracy['KNN'] = clf.best_score_\n",
    "\n",
    "print('Time: %.2fs, Mean accuracy: %.2f' % (result.best, clf.best_score_))"
   ]
  },
  {
   "cell_type": "code",
   "execution_count": null,
   "metadata": {
    "collapsed": true
   },
   "outputs": [],
   "source": []
  }
 ],
 "metadata": {
  "kernelspec": {
   "display_name": "Python 2",
   "language": "python",
   "name": "python2"
  },
  "language_info": {
   "codemirror_mode": {
    "name": "ipython",
    "version": 2
   },
   "file_extension": ".py",
   "mimetype": "text/x-python",
   "name": "python",
   "nbconvert_exporter": "python",
   "pygments_lexer": "ipython2",
   "version": "2.7.10"
  }
 },
 "nbformat": 4,
 "nbformat_minor": 0
}
