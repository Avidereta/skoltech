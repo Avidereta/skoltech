{
 "cells": [
  {
   "cell_type": "code",
   "execution_count": 2,
   "metadata": {
    "collapsed": true
   },
   "outputs": [],
   "source": [
    "%matplotlib inline\n",
    "import matplotlib.pyplot as plt\n",
    "\n",
    "from numpy.matlib import repmat\n",
    "import cvxpy as cvx\n",
    "import gurobipy as grb\n",
    "import scipy.optimize\n",
    "\n",
    "import networkx as nx\n",
    "import numpy as np\n",
    "import scipy as sp\n",
    "from scipy.sparse import rand\n",
    "from itertools import combinations\n",
    "from scipy.sparse import csr_matrix"
   ]
  },
  {
   "cell_type": "markdown",
   "metadata": {},
   "source": [
    "### Mixed Integer Problem\n",
    "\n",
    "* $i$ - orders, $j$ drivers\n",
    "* Let's $y_{ij} \\in \\{0, 1\\}$ represent whether driver $j$ delivers order $i$. The variable takes on value 1 if a delivery was made and 0 otherwise.\n",
    "* Let's $x_{j} \\in \\{0, 1\\}$ represent whether driver $j$ is in game or not :)\n",
    "* Objective is to minimize the total cost:\n",
    "\n",
    "\\begin{equation*}\n",
    "\\begin{aligned}\n",
    "& \\underset{j}{\\text{minimize}}\n",
    "& & \\sum_{j }cost_j x_{j} \\\\\n",
    "& s.t. \n",
    "& &  \\sum_{j} y_{ij} = 1 \\ \\forall i \\\\\n",
    "& & & \\sum_{i} order_i * y_{ij} \\leq c_j \\ \\forall j \\\\\n",
    "& & & x_{j} \\geq \\frac{\\sum_{i} y_{ij}}{nmb_{orders}}\n",
    "\\end{aligned}\n",
    "\\end{equation*}\n"
   ]
  },
  {
   "cell_type": "code",
   "execution_count": 44,
   "metadata": {
    "collapsed": true
   },
   "outputs": [],
   "source": [
    "def MIPSolver(orders, capacities, costs):\n",
    "    \n",
    "    nmb_drivers = len(capacities)\n",
    "    \n",
    "    Y = cvx.Bool(len(orders), nmb_drivers)\n",
    "    X = cvx.Bool(nmb_drivers)\n",
    "\n",
    "    objective = cvx.Minimize(costs.T * X)\n",
    "\n",
    "    constraints = []\n",
    "\n",
    "    for j in range(nmb_drivers):\n",
    "        constraints.append(Y[:,j].T * orders <= capacities[j])\n",
    "    for j in range(nmb_drivers):\n",
    "        constraints.append(X[j] * len(orders) >=  cvx.sum_entries(Y[:,j]))\n",
    "    for i in range(len(orders)):\n",
    "        constraints.append(cvx.sum_entries(Y[i,:]) == 1)\n",
    "\n",
    "    solution = cvx.Problem(objective, constraints)\n",
    "    solution.solve()\n",
    "    \n",
    "    result_cost = solution.value\n",
    "    \n",
    "    return result_cost, Y.value, X.value\n",
    "\n",
    "\n",
    "def MIPSolver_with_trash(orders, capacities, costs):\n",
    "    \n",
    "    cost_trash = costs.sum() + costs.max()\n",
    "    costs = np.hstack((costs, cost_trash))\n",
    "    capacity_trash = orders.sum()\n",
    "    capacities = np.hstack((capacities, capacity_trash))\n",
    "    \n",
    "    nmb_drivers = len(capacities)\n",
    "    \n",
    "    Y = cvx.Bool(len(orders), nmb_drivers)\n",
    "    X = cvx.Bool(nmb_drivers)\n",
    "\n",
    "    objective = cvx.Minimize(costs.T * X)\n",
    "\n",
    "    constraints = []\n",
    "\n",
    "    for j in range(nmb_drivers):\n",
    "        constraints.append(Y[:,j].T * orders <= capacities[j])\n",
    "    for j in range(nmb_drivers):\n",
    "        constraints.append(X[j] * len(orders) >=  cvx.sum_entries(Y[:,j]))\n",
    "    for i in range(len(orders)):\n",
    "        constraints.append(cvx.sum_entries(Y[i,:]) == 1)\n",
    "\n",
    "    solution = cvx.Problem(objective, constraints)\n",
    "    solution.solve()\n",
    "    \n",
    "    result_cost = solution.value\n",
    "    \n",
    "    return result_cost, Y.value, X.value\n"
   ]
  },
  {
   "cell_type": "markdown",
   "metadata": {},
   "source": [
    "### Test"
   ]
  },
  {
   "cell_type": "code",
   "execution_count": 87,
   "metadata": {
    "collapsed": true
   },
   "outputs": [],
   "source": [
    "np.random.seed(42)\n",
    "\n",
    "nmb_drivers = 4\n",
    "nmb_customers = 20\n",
    "\n",
    "orders = np.random.randint(1, 3, nmb_customers)\n",
    "capacities = np.random.randint(1, 40, nmb_drivers)\n",
    "costs = np.random.sample(nmb_drivers)"
   ]
  },
  {
   "cell_type": "code",
   "execution_count": 85,
   "metadata": {
    "collapsed": false
   },
   "outputs": [
    {
     "name": "stdout",
     "output_type": "stream",
     "text": [
      "costs:  [ 0.96990985  0.83244264]\n",
      "capacities:  [6 5]\n",
      "orders:  [1 2 1 1 1 2 1 1 1 2 1 1 1 1 2 1 2 2 2 1]\n"
     ]
    }
   ],
   "source": [
    "print 'costs: ', costs\n",
    "print 'capacities: ', capacities\n",
    "print 'orders: ', orders"
   ]
  },
  {
   "cell_type": "code",
   "execution_count": 89,
   "metadata": {
    "collapsed": false
   },
   "outputs": [
    {
     "name": "stdout",
     "output_type": "stream",
     "text": [
      "result cost: 0.39574362053\n",
      "matrix orders - drivers:\n",
      "[[  1.00000000e+00   2.67450899e-12  -3.57569970e-12  -2.43784190e-12]\n",
      " [  1.00000000e+00   4.57606495e-12  -5.02125847e-12  -3.51021910e-12]\n",
      " [  3.35247957e-12   2.67450137e-12   1.00000000e+00  -2.43784952e-12]\n",
      " [  3.35247957e-12   2.67450137e-12   1.00000000e+00  -2.43784952e-12]\n",
      " [  3.35247957e-12   2.67450137e-12   1.00000000e+00  -2.43784952e-12]\n",
      " [  3.97333609e-12   4.57610990e-12   1.00000000e+00  -3.51017410e-12]\n",
      " [  3.35247957e-12   2.67450137e-12   1.00000000e+00  -2.43784952e-12]\n",
      " [  3.35247957e-12   2.67450137e-12   1.00000000e+00  -2.43784952e-12]\n",
      " [  3.35247957e-12   2.67450137e-12   1.00000000e+00  -2.43784952e-12]\n",
      " [  3.97333609e-12   4.57610990e-12   1.00000000e+00  -3.51017410e-12]\n",
      " [  3.35247957e-12   2.67450137e-12   1.00000000e+00  -2.43784952e-12]\n",
      " [  3.35247957e-12   2.67450137e-12   1.00000000e+00  -2.43784952e-12]\n",
      " [  3.35247957e-12   2.67450137e-12   1.00000000e+00  -2.43784952e-12]\n",
      " [  3.35247957e-12   2.67450137e-12   1.00000000e+00  -2.43784952e-12]\n",
      " [  3.97333609e-12   4.57610990e-12   1.00000000e+00  -3.51017410e-12]\n",
      " [  3.35247957e-12   2.67450137e-12   1.00000000e+00  -2.43784952e-12]\n",
      " [  3.97333609e-12   4.57610990e-12   1.00000000e+00  -3.51017410e-12]\n",
      " [  3.97333609e-12   4.57610990e-12   1.00000000e+00  -3.51017410e-12]\n",
      " [  3.97333609e-12   4.57610990e-12   1.00000000e+00  -3.51017410e-12]\n",
      " [  3.35247957e-12   2.67450137e-12   1.00000000e+00  -2.43784952e-12]]\n"
     ]
    }
   ],
   "source": [
    "result, Y, X = MIPSolver(orders, capacities, costs)\n",
    "print \"result cost:\", result\n",
    "print \"matrix orders - drivers:\\n\", Y"
   ]
  },
  {
   "cell_type": "markdown",
   "metadata": {},
   "source": [
    "#### Test: lack of drivers"
   ]
  },
  {
   "cell_type": "code",
   "execution_count": 82,
   "metadata": {
    "collapsed": false
   },
   "outputs": [],
   "source": [
    "np.random.seed(42)\n",
    "\n",
    "nmb_drivers = 2\n",
    "nmb_customers = 20\n",
    "\n",
    "orders = np.random.randint(1, 3, nmb_customers)\n",
    "capacities = np.random.randint(1, 10, nmb_drivers)\n",
    "costs = np.random.sample(nmb_drivers)"
   ]
  },
  {
   "cell_type": "code",
   "execution_count": 84,
   "metadata": {
    "collapsed": false
   },
   "outputs": [
    {
     "name": "stdout",
     "output_type": "stream",
     "text": [
      "inf\n"
     ]
    }
   ],
   "source": [
    "result, Y, X = MIPSolver(orders, capacities, costs)\n",
    "print result"
   ]
  },
  {
   "cell_type": "code",
   "execution_count": 83,
   "metadata": {
    "collapsed": false
   },
   "outputs": [
    {
     "name": "stdout",
     "output_type": "stream",
     "text": [
      "result cost: 2.77226234515\n"
     ]
    }
   ],
   "source": [
    "result, Y, X = MIPSolver_with_trash(orders, capacities, costs)\n",
    "print \"result cost:\", result"
   ]
  }
 ],
 "metadata": {
  "kernelspec": {
   "display_name": "Python 2",
   "language": "python",
   "name": "python2"
  },
  "language_info": {
   "codemirror_mode": {
    "name": "ipython",
    "version": 2
   },
   "file_extension": ".py",
   "mimetype": "text/x-python",
   "name": "python",
   "nbconvert_exporter": "python",
   "pygments_lexer": "ipython2",
   "version": "2.7.11"
  }
 },
 "nbformat": 4,
 "nbformat_minor": 0
}
