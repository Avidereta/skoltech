{
 "cells": [
  {
   "cell_type": "markdown",
   "metadata": {
    "collapsed": true
   },
   "source": [
    "# Problem 2# \n",
    "**Optimal vehicle speed scheduling (6 points) ** &mdash; (based on an additional exercise A3.20 to Boyd and Vandenberghe). \n",
    "\n",
    "A vehicle (say, an airplane) travels along a fixed path of $n$ segments, between $n + 1$ waypoints labeled *0, . . . , n*. Segment $i$ starts at waypoint $i − 1$ and terminates at waypoint *i*. The vehicle starts at time *t = 0* at waypoint *0*. It travels over each segment at a constant (nonnegative) speed; $s_i$ is the speed on segment *i*. We have lower and upper limits on the speeds: $s_{min} \\leq s \\leq s_{max}$. The vehicle does not stop at the waypoints; it simply proceeds to the next segment. The travel distance of segment $i$ is $d_i$ (which is positive), so the travel time over segment $i$ is $d_i/s_i$. We let $τ_i, i = 1, \\dots , n,$ denote the time at which the vehicle arrives at waypoint $i$. The vehicle is required to arrive at waypoint *i*, *for i = 1, . . . , n*, between times $τ_{min,i}$ and $τ_{max,i}$ , which are given. The vehicle consumes fuel over segment *i* at a rate that depends on its speed $Φ(s_i )=a s_i^2+b s_i+c kg/s$.\n",
    "\n",
    "You are given the data *d* (segment travel distances), $s_{min}$ and $s_{max}$ (speed bounds), $τ_{min}$ and $τ_{max}$ (waypoint arrival time bounds), and the the parameters *a*, *b*, and *c* (all parameters are in *veh_speed_sched_data.m*). Use the dynamic programming approach to find the schedule that allows spending the minimal amount of fuel. Use matplotlib command *step* to plot speed vs time for the optimal schedule. You will need to discretize some continuous variables, make sure you do it densely enough. **NB**: later in the course we will get back to this problem and attack it with a different method.\n"
   ]
  },
  {
   "cell_type": "code",
   "execution_count": 1,
   "metadata": {
    "collapsed": false
   },
   "outputs": [],
   "source": [
    "import scipy.io as sio\n",
    "\n",
    "mat_contents = sio.loadmat('veh_sched_data.mat')\n",
    "\n",
    "a = mat_contents['a'][0][0]\n",
    "b = mat_contents['b'][0][0]\n",
    "c = mat_contents['c'][0][0]\n",
    "d = mat_contents['d']\n",
    "n = mat_contents['n'][0][0]\n",
    "smin = mat_contents['smin']\n",
    "smax = mat_contents['smax']\n",
    "tau_min = mat_contents['tau_min']\n",
    "tau_max = mat_contents['tau_max']\n"
   ]
  },
  {
   "cell_type": "code",
   "execution_count": 6,
   "metadata": {
    "collapsed": false
   },
   "outputs": [],
   "source": [
    "from collections import Counter\\n\",\n",
    "import random as rnd\\n\",\n",
    "def greedy(assignment_costs, opening_cost, threshold):\\n\",\n",
    "    \"\\n\",\n",
    "    \"    F = assignment_costs.shape[0]\\n\",\n",
    "    \"    C = assignment_costs.shape[1]\\n\",\n",
    "    \"    \\n\",\n",
    "    \"    facilities = np.arange(0, F)\\n\",\n",
    "    \"    opened_facilities = []\\n\",\n",
    "    \"    facility_occupancy = [0]*F\\n\",\n",
    "    \"    cost = 0\\n\",\n",
    "    \"    assignments = {}\\n\",\n",
    "    \"\\n\",\n",
    "    \"    for cl in range (0, C):    \\n\",\n",
    "    \"        if (cl == 0):\\n\",\n",
    "    \"            choosed = np.argmin(assignment_costs[:, cl])\\n\",\n",
    "    \"            opened_facilities.append(choosed)\\n\",\n",
    "    \"            facility_occupancy[choosed] += 1\\n\",\n",
    "    \"            cost += assignment_costs[choosed, cl]\\n\",\n",
    "    \"            assignments[cl] = choosed\\n\",\n",
    "    \"            \\n\",\n",
    "    \"            closed_facilities = list(set(facilities) - set(opened_facilities))\\n\",\n",
    "    \"            \\n\",\n",
    "    \"\\n\",\n",
    "    \"        else:\\n\",\n",
    "    \"            opened_half_facilities = [] #incomplete opened facilities on this step\\n\",\n",
    "    \"            for fclt in opened_facilities:\\n\",\n",
    "    \"                if (facility_occupancy[fclt]  < threshold):\\n\",\n",
    "    \"                    opened_half_facilities.append(fclt)\\n\",\n",
    "    \"\\n\",\n",
    "    \"            closed_facilities = list(set(facilities) - set(opened_facilities))\\n\",\n",
    "    \"\\n\",\n",
    "    \"\\n\",\n",
    "    \"            if (len(opened_half_facilities) > 0):\\n\",\n",
    "    \"\\n\",\n",
    "    \"                # open new one\\n\",\n",
    "    \"                if (min(assignment_costs[opened_half_facilities, cl]) >= \\\\\\n\",\n",
    "    \"                    opening_cost + min(assignment_costs[closed_facilities,cl])):\\n\",\n",
    "    \"\\n\",\n",
    "    \"                    temp = np.argmin(assignment_costs[closed_facilities, cl])\\n\",\n",
    "    \"                    choosed = closed_facilities[temp]\\n\",\n",
    "    \"                    opened_facilities.append(choosed)\\n\",\n",
    "    \"                    cost += assignment_costs[choosed, cl]\\n\",\n",
    "    \"                    assignments[cl] = choosed\\n\",\n",
    "    \"                    facility_occupancy[choosed] += 1\\n\",\n",
    "    \"\\n\",\n",
    "    \"                # use already opened    \\n\",\n",
    "    \"                else:\\n\",\n",
    "    \"                    temp = np.argmin(assignment_costs[opened_half_facilities, cl])\\n\",\n",
    "    \"                    choosed = opened_half_facilities[temp]\\n\",\n",
    "    \"                    cost += assignment_costs[choosed, cl]\\n\",\n",
    "    \"                    assignments[cl] = choosed\\n\",\n",
    "    \"                    facility_occupancy[choosed] += 1\\n\",\n",
    "    \"\\n\",\n",
    "    \"            # no incompele facilities, open new one\\n\",\n",
    "    \"            else:\\n\",\n",
    "    \"                temp = np.argmin(assignment_costs[closed_facilities, cl])\\n\",\n",
    "    \"                choosed = closed_facilities[temp]\\n\",\n",
    "    \"                opened_facilities.append(choosed)\\n\",\n",
    "    \"                cost += assignment_costs[choosed, cl]\\n\",\n",
    "    \"                assignments[cl] = choosed\\n\",\n",
    "    \"                facility_occupancy[choosed] += 1\\n\",\n",
    "    \"            \\n\",\n",
    "    \"    cost += len(opened_facilities)\\n\",\n",
    "    \"    return cost, opened_facilities, assignments, facility_occupancy\\n\",\n",
    "    \"\\n\",\n",
    "    \"\\n\",\n",
    "    \"\\n\",\n",
    "    \"def cost_configuration(assignments, assignment_costs):\\n\",\n",
    "    \"    \\n\",\n",
    "    \"    cost = len(set(assignments.values()))\\n\",\n",
    "    \"    for client, facility in assignments.items():\\n\",\n",
    "    \"        cost += assignment_costs[facility, client]\\n\",\n",
    "    \"\\n\",\n",
    "    \"    return cost\\n\",\n",
    "    \"\\n\",\n",
    "    \"\\n\",\n",
    "    \"\\n\",\n",
    "    \"def local(assignment_costs, opening_cost, threshold):\\n\",\n",
    "    \"    \\n\",\n",
    "    \"    F = assignment_costs.shape[0]\\n\",\n",
    "    \"    C = assignment_costs.shape[1]\\n\",\n",
    "    \"    \\n\",\n",
    "    \"    facilities = np.arange(0, F)\\n\",\n",
    "    \"    clients = np.arange(0,C)\\n\",\n",
    "    \"    opened_facilities = []\\n\",\n",
    "    \"    assignments = {}\\n\",\n",
    "    \"    \\n\",\n",
    "    \"    cost, opened_facilities, assignments, facility_occupancy = \\\\\\n\",\n",
    "    \"        greedy(assignment_costs, opening_cost, threshold)\\n\",\n",
    "    \"    facility_occupancy = calc_fclt_occup(assignments, F)\\n\",\n",
    "    \"    \\n\",\n",
    "    \"\\n\",\n",
    "    \"    for cl1 in range(0,C):\\n\",\n",
    "    \"        for cl2 in range(0,C):\\n\",\n",
    "    \"            new_assignments = assignments.copy()\\n\",\n",
    "    \"            new_assignments[cl2] = assignments[cl1].copy()\\n\",\n",
    "    \"            new_assignments[cl1] = assignments[cl2].copy()\\n\",\n",
    "    \"            if (cost_configuration(new_assignments, assignment_costs) < cost):\\n\",\n",
    "    \"                assignments = new_assignments.copy()\\n\",\n",
    "    \"                cost = cost_configuration(new_assignments, assignment_costs)\\n\",\n",
    "    \"                \\n\",\n",
    "    \"              \\n\",\n",
    "    \"    return assignments, cost\\n\",\n",
    "    \"\\n\",\n",
    "    \"\\n\",\n",
    "    \"\\n\",\n",
    "    \"def calc_fclt_occup (assignment, nmb_facilities):\\n\",\n",
    "    \"  \\n\",\n",
    "    \"    opened = Counter(assignments.values()) \\n\",\n",
    "    \"    facility_occupancy = [0]*nmb_facilities\\n\",\n",
    "    \"    for fac, oc in opened.items():\\n\",\n",
    "    \"        facility_occupancy[fac] = oc\\n\",\n",
    "    \"    return facility_occupancy\\n\",\n",
    "    \"\\n\",\n",
    "    \"\\n\",\n",
    "    \"def find_best_fclt(assignment_costs, assignments, cl, threshold):\\n\",\n",
    "    \"    \\n\",\n",
    "    \"    opened = Counter(assignments.values())\\n\",\n",
    "    \"    available = []\\n\",\n",
    "    \"    for f,oc in opened.items():\\n\",\n",
    "    \"        if (oc < 4):\\n\",\n",
    "    \"            available.append(f)\\n\",\n",
    "    \"\\n\",\n",
    "    \"    if (min(assignment_costs[available, cl]) < min(assignment_costs[closed, cl]) + threshold):\\n\",\n",
    "    \"        fclt = available[np.argmin(assignment_costs[available, cl])]\\n\",\n",
    "    \"    else:\\n\",\n",
    "    \"        fclt = closed[np.argmin(assignment_costs[closed, cl])]\\n\",\n",
    "    \"    assignments[cl] = fclt\\n\",\n",
    "    \"    return assignments\\n\",\n",
    "    \"\\n\",\n",
    "    \"\\n\",\n",
    "    \"def find_any_fclt(assignment_costs, assignments, cl, threshold):\\n\",\n",
    "    \"    \\n\",\n",
    "    \"    opened = Counter(assignments.values())\\n\",\n",
    "    \"    unavailable = []\\n\",\n",
    "    \"    for f,oc in opened.items():\\n\",\n",
    "    \"        if (oc > 3):\\n\",\n",
    "    \"            unavailable.append(f)\\n\",\n",
    "    \"    available = list(set(np.arange(len(facility_occupancy))) - set(unavailable))\\n\",\n",
    "    \"    fclt = rnd.choice(available)\\n\",\n",
    "    \"    assignments[cl] = fclt\\n\",\n",
    "    \"    \\n\",\n",
    "    \"    return assignments\\n\",\n",
    "    \"\\n\",\n",
    "    \"\\n\",\n",
    "    \"def shift(l, n):\\n\",\n",
    "    \"    return l[n:] + l[:n]\\n\",\n",
    "    \"\\n\",\n",
    "    \"\\n\",\n",
    "    \"def simulated_annealing(assignment_costs, opening_cost, threshold):\\n\",\n",
    "    \"    \\n\",\n",
    "    \"    F = assignment_costs.shape[0]\\n\",\n",
    "    \"    C = assignment_costs.shape[1]\\n\",\n",
    "    \"    \\n\",\n",
    "    \"    facilities = np.arange(0, F)\\n\",\n",
    "    \"    clients = np.arange(0,C)\\n\",\n",
    "    \"    assignments = {}\\n\",\n",
    "    \"    \\n\",\n",
    "    \"    \\n\",\n",
    "    \"    assignments, cost = local(assignment_costs, opening_cost, threshold)\\n\",\n",
    "    \"    facility_occupancy = calc_fclt_occup(assignments, F)\\n\",\n",
    "    \"    \\n\",\n",
    "    \"    costs = []\\n\",\n",
    "    \"    max_ = 10000\\n\",\n",
    "    \"    T = 1\\n\",\n",
    "    \"    \\n\",\n",
    "    \"    for t in range(max_):\\n\",\n",
    "    \"        costs.append(cost_configuration(assignments, assignment_costs))\\n\",\n",
    "    \"        cls = rnd.sample(clients, 2)\\n\",\n",
    "    \"        new_assignments = assignments.copy()\\n\",\n",
    "    \"        b_cost = min(costs)\\n\",\n",
    "    \"\\n\",\n",
    "    \"        for i in range(0, len(cls)):\\n\",\n",
    "    \"            for cl in cls:\\n\",\n",
    "    \"                new_assignments.pop(cl)\\n\",\n",
    "    \"            cls = shift(cls, 1) \\n\",\n",
    "    \"            for cl in cls:\\n\",\n",
    "    \"                new_assignments = find_best_fclt(assignment_costs, new_assignments, cl, threshold)\\n\",\n",
    "    \"            T = 0.999 * T \\n\",\n",
    "    \"            probability = np.exp((cost - cost_configuration(new_assignments, assignment_costs))/T)\\n\",\n",
    "    \"            Ps.append(probability)\\n\",\n",
    "    \"       \\n\",\n",
    "    \"            rand = rnd.random()\\n\",\n",
    "    \"        \\n\",\n",
    "    \"            if (cost_configuration(new_assignments, assignment_costs) < cost):\\n\",\n",
    "    \"                assignments = new_assignments\\n\",\n",
    "    \"                cost = cost_configuration(new_assignments, assignment_costs)\\n\",\n",
    "    \"                costs.append(cost)\\n\",\n",
    "    \"\\n\",\n",
    "    \"            if ((cost_configuration(new_assignments, assignment_costs) > cost) and (rand < probability)):\\n\",\n",
    "    \"                assignments = new_assignments\\n\",\n",
    "    \"                cost = cost_configuration(new_assignments, assignment_costs)\\n\",\n",
    "    \"\\n\",\n",
    "    \"    return assignments, b_cost\\n\""
   ]
  },
  {
   "cell_type": "code",
   "execution_count": 11,
   "metadata": {
    "collapsed": false,
    "scrolled": true
   },
   "outputs": [
    {
     "name": "stdout",
     "output_type": "stream",
     "text": [
      "2617.8368865\n"
     ]
    }
   ],
   "source": [
    "fuel, speeds, times = solve(2000)\n",
    "print fuel"
   ]
  },
  {
   "cell_type": "code",
   "execution_count": 12,
   "metadata": {
    "collapsed": false
   },
   "outputs": [
    {
     "data": {
      "text/plain": [
       "<matplotlib.text.Text at 0x7f982f09e050>"
      ]
     },
     "execution_count": 12,
     "metadata": {},
     "output_type": "execute_result"
    },
    {
     "data": {
      "image/png": "[encoded data removed]",
      "text/plain": [
       "<matplotlib.figure.Figure at 0x7f98371dca10>"
      ]
     },
     "metadata": {},
     "output_type": "display_data"
    }
   ],
   "source": [
    "import matplotlib.pyplot as plt\n",
    "%matplotlib inline\n",
    "\n",
    "plt.figure(figsize=(10, 8))\n",
    "plt.step(times, speeds)\n",
    "plt.xlabel('Time, s')\n",
    "plt.ylabel('Speed, m/s')"
   ]
  },
  {
   "cell_type": "code",
   "execution_count": null,
   "metadata": {
    "collapsed": true
   },
   "outputs": [],
   "source": []
  }
 ],
 "metadata": {
  "kernelspec": {
   "display_name": "Python 2",
   "language": "python",
   "name": "python2"
  },
  "language_info": {
   "codemirror_mode": {
    "name": "ipython",
    "version": 2
   },
   "file_extension": ".py",
   "mimetype": "text/x-python",
   "name": "python",
   "nbconvert_exporter": "python",
   "pygments_lexer": "ipython2",
   "version": "2.7.10"
  }
 },
 "nbformat": 4,
 "nbformat_minor": 0
}
