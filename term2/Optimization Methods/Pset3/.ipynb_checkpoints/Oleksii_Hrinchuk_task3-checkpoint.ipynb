{
 "cells": [
  {
   "cell_type": "markdown",
   "metadata": {},
   "source": [
    "## Imports"
   ]
  },
  {
   "cell_type": "code",
   "execution_count": 1,
   "metadata": {
    "collapsed": false
   },
   "outputs": [],
   "source": [
    "%matplotlib inline\n",
    "import matplotlib.pyplot as plt\n",
    "\n",
    "import numpy as np\n",
    "from numpy.matlib import repmat\n",
    "import cvxpy as cvx\n",
    "import gurobipy as grb"
   ]
  },
  {
   "cell_type": "markdown",
   "metadata": {},
   "source": [
    "## Problem 1"
   ]
  },
  {
   "cell_type": "markdown",
   "metadata": {},
   "source": [
    "As the Skolkovo campus is being built, there is a need to level the hill (the elevation profile is shown below on the left) to obtain a flat surface with the elevation profile shown below on the right. Assume that the shape of each tile is square and that the cost of moving a certain amount of earth between the tiles is proportional to the Euclidean distance between the tile centers. Formulate the problem of optimal leveling strategy (determining how to move earth) as a network flow program, and then solve it using a generic LP solver (CVX). Check whether the optimal strategy you obtain is integer."
   ]
  },
  {
   "cell_type": "markdown",
   "metadata": {},
   "source": [
    "<img src=\"flow.png\">"
   ]
  },
  {
   "cell_type": "markdown",
   "metadata": {},
   "source": [
    "### Solution"
   ]
  },
  {
   "cell_type": "markdown",
   "metadata": {},
   "source": [
    "Let $(x,y)$ be coordinates of each tile in our matrix. We define each tile as a vertex of our network and enumerate them by rows. Then the vertex which corresponds to tile $(x,y)$ will have number $(5x+y)$. Any two different vertices $v_i = (x_i,y_i)$ and $v_j = (x_j,y_j)$ are connected by arc with cost $c_{ij} = \\sqrt{(x_i-x_j)^2 + (y_i-y_j)^2}$. Let inflow $b_i$ at each vertex $v_i$ be the difference between current tile height $h_i$ and desired tile height $g_i = 6$. Then we have standard min-cost flow problem.\n",
    "\n",
    "\\begin{equation*}\n",
    "\\begin{aligned}\n",
    "& \\underset{x}{\\text{minimize}}\n",
    "& & \\sum_{i,j} c_{ij} f_{ij} \\\\\n",
    "& \\text{subject to}\n",
    "& & b_j + \\sum_{i \\in I(j)} f_{ij} = \\sum_{i \\in O(j)} f_{ji}, \\\\\n",
    "&&& f_{ij} \\geq 0.\n",
    "\\end{aligned}\n",
    "\\end{equation*}"
   ]
  },
  {
   "cell_type": "code",
   "execution_count": 2,
   "metadata": {
    "collapsed": false
   },
   "outputs": [],
   "source": [
    "h = np.array([ [5, 5, 10, 10, 10], \n",
    "               [5, 5, 10, 20, 10],\n",
    "               [0, 5,  5, 10,  5],\n",
    "               [0, 0,  0,  5,  0] ])\n",
    "\n",
    "def cost_matrix(m = 4, n = 5):\n",
    "    c1 = np.tile(np.arange(n), (n*m, m))\n",
    "    c1 = np.power(c1 - c1.T, 2)\n",
    "    c2 = np.tile(np.repeat(np.arange(m), n), (n*m, 1))\n",
    "    c2 = np.power(c2 - c2.T, 2)\n",
    "    res = np.sqrt(c1 + c2)\n",
    "    return res\n",
    "\n",
    "c = cost_matrix()\n",
    "b = np.reshape(h - 6, -1)"
   ]
  },
  {
   "cell_type": "code",
   "execution_count": 3,
   "metadata": {
    "collapsed": false
   },
   "outputs": [],
   "source": [
    "f = cvx.Variable(20, 20)\n",
    "\n",
    "constraints = [f >= 0]\n",
    "I = np.identity(20)\n",
    "for j in xrange(20):\n",
    "    constraints.append((b[j] + np.ones(20)*f*I[j] == I[j]*f*np.ones(20)))\n",
    "\n",
    "obj = cvx.Minimize(cvx.trace(c*f))\n",
    "\n",
    "prob = cvx.Problem(obj, constraints)\n",
    "sol = prob.solve(solver = 'GUROBI')"
   ]
  },
  {
   "cell_type": "code",
   "execution_count": 4,
   "metadata": {
    "collapsed": false
   },
   "outputs": [
    {
     "data": {
      "text/plain": [
       "95.49106383667825"
      ]
     },
     "execution_count": 4,
     "metadata": {},
     "output_type": "execute_result"
    }
   ],
   "source": [
    "sol"
   ]
  },
  {
   "cell_type": "markdown",
   "metadata": {},
   "source": [
    "The optimal strategy we obtained costs $95.491$. This number is not integer only because costs are not integer. If we look at resulting flows we can see that they are integer."
   ]
  },
  {
   "cell_type": "markdown",
   "metadata": {},
   "source": [
    "## Problem 2"
   ]
  },
  {
   "cell_type": "markdown",
   "metadata": {},
   "source": [
    "Implement a branch-and-bound solver for the capacitated facility location problem you were facing in the first assignment. Be careful to branch on the right variables."
   ]
  },
  {
   "cell_type": "markdown",
   "metadata": {},
   "source": [
    "### Solution"
   ]
  },
  {
   "cell_type": "markdown",
   "metadata": {},
   "source": [
    "Let us look at our capacitated facility problem."
   ]
  },
  {
   "cell_type": "markdown",
   "metadata": {},
   "source": [
    "\\begin{equation*}\n",
    "\\begin{aligned}\n",
    "& \\underset{x, y}{\\text{minimize}}\n",
    "& & \\sum_{i=1}^F y_i l_i + \\sum_{i=1}^F \\sum_{j=1}^C x_{ij} k_{ij} \\\\\n",
    "& \\text{subject to}\n",
    "& & \\sum_{i=1}^F x_{ij} = 1,~j=1,\\dots,C, \\\\\n",
    "&&& \\sum_{j=1}^C x_{ij} \\leq s_i y_i,~i=1,\\dots,F, \\\\\n",
    "&&& x,y \\in \\left\\{0,1\\right\\}.\n",
    "\\end{aligned}\n",
    "\\end{equation*}"
   ]
  },
  {
   "cell_type": "markdown",
   "metadata": {},
   "source": [
    "We have a matrix $x$ and a vector $y$ of binary variables. Let us look at the matrix $x$ while solving our ILP problem as standard LP problem. Let's assume that in optimum of LP problem some of them are not integer. Then "
   ]
  },
  {
   "cell_type": "code",
   "execution_count": 298,
   "metadata": {
    "collapsed": false
   },
   "outputs": [],
   "source": [
    "np.random.seed(1)\n",
    "\n",
    "C = 20 # number of clients\n",
    "clients = np.random.rand(2,C) #client positions\n",
    "F = 15 #number of facilities\n",
    "facilities = np.random.rand(2,F)\n",
    "\n",
    "capacities = np.ones((F,), dtype=np.int)*4 #maximum number of clients per facility\n",
    "\n",
    "dx = repmat(clients[0,:],F,1) - repmat(facilities[0,:],C,1).transpose()\n",
    "dy = repmat(clients[1,:],F,1) - repmat(facilities[1,:],C,1).transpose()\n",
    "\n",
    "assignment_costs = np.zeros((F, C))\n",
    "assignment_costs = 3*(dx*dx + dy*dy) #the assignment cost is the distance squared\n",
    "\n",
    "opening_costs = np.ones((F,))"
   ]
  },
  {
   "cell_type": "code",
   "execution_count": 299,
   "metadata": {
    "collapsed": false
   },
   "outputs": [],
   "source": [
    "class FacilityLocation:\n",
    "    \n",
    "    def __init__(self, C=C, F=F, assignment_costs=assignment_costs, \n",
    "                 opening_costs=opening_costs):\n",
    "        \"\"\"Class for capacitated facility location problem.\"\"\"\n",
    "        \n",
    "        self.x = cvx.Variable(F, C)\n",
    "        self.y = cvx.Variable(F)\n",
    "        self.constraints = []\n",
    "        self.obj = None\n",
    "        \n",
    "    def formulate_problem(self): \n",
    "        \"\"\"Set basic constraints and objective for given LP problem.\"\"\"\n",
    "        \n",
    "        #set constraints\n",
    "        self.constraints = [self.x >= 0,\n",
    "                            self.x <= 1,\n",
    "                            self.y >= 0,\n",
    "                            self.y <= 1]\n",
    "        IF = np.identity(F)\n",
    "        IC = np.identity(C) \n",
    "        for i_c in xrange(C):\n",
    "            self.constraints.append(np.ones(F)*self.x*IC[i_c] == 1)\n",
    "        for i_f in xrange(F):\n",
    "            self.constraints.append(IF[i_f]*self.x*np.ones(C) <= capacities[i_f]*self.y[i_f])\n",
    "        \n",
    "        # set objective\n",
    "        self.obj = cvx.Minimize(cvx.trace(self.x*assignment_costs.T) + opening_costs*self.y)\n",
    "\n",
    "    def solve_problem(self, add_constraints = []):\n",
    "        \"\"\"Solve given linear programming problem.\"\"\"\n",
    "        \n",
    "        prob = cvx.Problem(self.obj, self.constraints + add_constraints)\n",
    "        sol = prob.solve(solver = 'GUROBI')\n",
    "        return sol\n",
    "    \n",
    "    def pick_variable(self):\n",
    "        \"\"\"Find the best variable to branch.\"\"\"\n",
    "        \n",
    "        dist = np.inf\n",
    "        idx = 0\n",
    "        for (i,var) in enumerate(self.y.value):\n",
    "            new_dist = abs(var[0, 0] - 0.5)\n",
    "            if (new_dist <= dist):\n",
    "                idx = i\n",
    "                dist = new_dist\n",
    "        if (dist > 0.45):\n",
    "            return -1\n",
    "        else:\n",
    "            return idx\n",
    "                \n",
    "    def branch_and_bound(self, MAX_ITER):\n",
    "        \"\"\"Branch and bound algorithm for integer linear programming problem.\"\"\"\n",
    "        \n",
    "        self.solve_problem()\n",
    "        incumbent_value = np.inf\n",
    "        L = []\n",
    "        node = []\n",
    "   \n",
    "        for i in xrange(MAX_ITER):\n",
    "        \n",
    "            var = self.pick_variable()\n",
    "            for j in xrange(2):\n",
    "                child_node = node + [self.y[var] == j]\n",
    "                objective = self.solve_problem(child_node)\n",
    "                if (objective >= incumbent_value):\n",
    "                    continue\n",
    "                if (self.pick_variable() == -1):\n",
    "                    incumbent = child_node\n",
    "                    incumbent_value = objective\n",
    "                else:\n",
    "                    L.append(child_node)\n",
    "                    \n",
    "            if (len(L) == 0):\n",
    "                return incumbent\n",
    "            \n",
    "            node = L.pop()\n",
    "            self.solve_problem(node)\n",
    "\n",
    "        return incumbent"
   ]
  },
  {
   "cell_type": "code",
   "execution_count": 300,
   "metadata": {
    "collapsed": false
   },
   "outputs": [
    {
     "data": {
      "text/plain": [
       "7.571112923134753"
      ]
     },
     "execution_count": 300,
     "metadata": {},
     "output_type": "execute_result"
    }
   ],
   "source": [
    "fl = FacilityLocation()\n",
    "fl.formulate_problem()\n",
    "incumbent = fl.branch_and_bound(MAX_ITER=200)\n",
    "fl.solve_problem(incumbent)"
   ]
  },
  {
   "cell_type": "code",
   "execution_count": 301,
   "metadata": {
    "collapsed": false
   },
   "outputs": [
    {
     "data": {
      "text/plain": [
       "7.5711129231347529"
      ]
     },
     "execution_count": 301,
     "metadata": {},
     "output_type": "execute_result"
    }
   ],
   "source": [
    "fl.obj.value"
   ]
  },
  {
   "cell_type": "markdown",
   "metadata": {},
   "source": [
    "## Problem 3"
   ]
  },
  {
   "cell_type": "markdown",
   "metadata": {},
   "source": [
    "A group of $20$ students are deciding how to fill the $10$ room dormitory (the rooms are identical and each room hosts two students). Each pair of students has a certain preference on how much they would like to live together (generate a random\n",
    "symmetric matrix for that). You therefore want to split students into pairs in order to maximize the total preference.\n",
    "\n",
    "* Formulate this problem as an ILP and solve it using an ILP solver (Gurobi/Mosek, etc.)\n",
    "\n",
    "* Consider the LP relaxation, and visualize the solution. This visualization should suggest you the cuts that can tighten your relaxation. Implement the procedure that would find such cuts (the separation oracle) and run the cutting plane algorithm. Verify that you are able to get a fully integer solution when enough cuts are added into the program.\n",
    "\n",
    "* Evaluate the performance of the generic and your own ILP solvers for larger groups of students (how well do they scale?) Consider random uniformly [0;1]-distributed matrices vs. random uniformly distributed binary matrices (student preferences are like/dislike i.e. 0 or 1)."
   ]
  },
  {
   "cell_type": "markdown",
   "metadata": {},
   "source": [
    "### Solution"
   ]
  },
  {
   "cell_type": "markdown",
   "metadata": {},
   "source": [
    "Define $x_{ij}$ as a variable which is equal to $1$ if $i_{th}$ and $j_{th}$ students are neighbours and is equal to $0$ otherwise. Then $ \\forall {i, j}: \\sum_{j=1}^{N} x_{ij} = 1,~x_{ij}=x_{ji}$ means that every student has exactly one neighbour and if the $j_{th}$ student is a neighbour of the $i_{th}$ then the $i_{th}$ student is a neighbour of the $j_{th}$. Let $a_{ij} = a_{ji}$ be a preference on how much $i_{th}$ and $j_{th}$ students would like to live together. Then our ILP problem will look like:\n",
    "\n",
    "\\begin{equation*}\n",
    "\\begin{aligned}\n",
    "& \\underset{x}{\\text{maximize}}\n",
    "& & \\sum_{i=1}^N \\sum_{j=1}^N a_{ij} x_{ij} \\\\\n",
    "& \\text{subject to}\n",
    "& & \\sum_{j=1}^N x_{ij} = 1,~ \\forall i=1,\\dots,N, \\\\\n",
    "&&& x_{ij} = x_{ji},~\\forall i,j=1,\\dots,N, \\\\\n",
    "&&& x\\in \\left\\{0,1\\right\\}.\n",
    "\\end{aligned}\n",
    "\\end{equation*}"
   ]
  },
  {
   "cell_type": "code",
   "execution_count": 9,
   "metadata": {
    "collapsed": false
   },
   "outputs": [],
   "source": [
    "np.random.seed(4)\n",
    "\n",
    "N = 20 # number of students\n",
    "students = np.random.rand(2, N)\n",
    "\n",
    "dx = repmat(students[0,:],N,1) - repmat(students[0,:],N,1).transpose()\n",
    "dy = repmat(students[1,:],N,1) - repmat(students[1,:],N,1).transpose()\n",
    "\n",
    "#students_preferences = 3*(dx*dx + dy*dy)\n",
    "a = np.random.random((N, N))\n",
    "students_preferences = a + a.T\n",
    "\n",
    "for i in xrange(N):\n",
    "    students_preferences[i][i] = -100"
   ]
  },
  {
   "cell_type": "code",
   "execution_count": 10,
   "metadata": {
    "collapsed": false,
    "scrolled": false
   },
   "outputs": [
    {
     "name": "stdout",
     "output_type": "stream",
     "text": [
      "Optimize a model with 210 rows, 400 columns and 780 nonzeros\n",
      "Coefficient statistics:\n",
      "  Matrix range    [1e+00, 1e+00]\n",
      "  Objective range [8e-02, 1e+02]\n",
      "  Bounds range    [1e+00, 1e+00]\n",
      "  RHS range       [1e+00, 1e+00]\n",
      "Found heuristic solution: objective -2000\n",
      "Presolve removed 190 rows and 190 columns\n",
      "Presolve time: 0.00s\n",
      "Presolved: 20 rows, 210 columns, 400 nonzeros\n",
      "Variable types: 0 continuous, 210 integer (210 binary)\n",
      "\n",
      "Root relaxation: objective 3.312429e+01, 48 iterations, 0.00 seconds\n",
      "\n",
      "    Nodes    |    Current Node    |     Objective Bounds      |     Work\n",
      " Expl Unexpl |  Obj  Depth IntInf | Incumbent    BestBd   Gap | It/Node Time\n",
      "\n",
      "     0     0   33.12429    0   10 -2000.0000   33.12429   102%     -    0s\n",
      "H    0     0                      32.9498252   33.12429  0.53%     -    0s\n",
      "H    0     0                      33.0588126   33.12429  0.20%     -    0s\n",
      "H    0     0                      33.1010643   33.12429  0.07%     -    0s\n",
      "\n",
      "Cutting planes:\n",
      "  Mod-K: 2\n",
      "\n",
      "Explored 0 nodes (48 simplex iterations) in 0.05 seconds\n",
      "Thread count was 4 (of 4 available processors)\n",
      "\n",
      "Optimal solution found (tolerance 1.00e-04)\n",
      "Best objective 3.310106425636e+01, best bound 3.310106425636e+01, gap 0.0%\n"
     ]
    }
   ],
   "source": [
    "m = grb.Model(\"students\")\n",
    "\n",
    "x = []\n",
    "for i in xrange(N):\n",
    "    x.append([])\n",
    "    for j in xrange(N):\n",
    "        x[i].append(m.addVar(vtype=grb.GRB.BINARY))\n",
    "        \n",
    "# the objective is to maximize the total preference\n",
    "m.modelSense = grb.GRB.MAXIMIZE\n",
    "\n",
    "# update model to integrate new variables\n",
    "m.update()\n",
    "\n",
    "# set optimization objective - sum of all preferences\n",
    "obj_summands = []\n",
    "for i in xrange(N):\n",
    "    for j in xrange(N):\n",
    "        obj_summands.append(students_preferences[i][j]*x[i][j])\n",
    "m.setObjective(grb.quicksum(obj_summands)) \n",
    "\n",
    "# set constraints\n",
    "for i in xrange(N):\n",
    "    student_constr_summands = [x[i][j] for j in xrange(N)]\n",
    "    m.addConstr(sum(student_constr_summands), grb.GRB.EQUAL, 1.0)\n",
    "    \n",
    "for i in xrange(N):\n",
    "    for j in xrange(i+1, N):\n",
    "        m.addConstr(x[i][j] - x[j][i], grb.GRB.EQUAL, 0.0)\n",
    "\n",
    "m.optimize()\n",
    "\n",
    "#students_assignment = [min(i, j) for i in xrange(N) for j in xrange(N) if x[i][j].X != 0]\n",
    "\n",
    "#fig, ax = plt.subplots(figsize=(10, 6))\n",
    "#ax = plt.scatter(students[0, :], students[1,:], s=200.0, c=students_assignment)"
   ]
  },
  {
   "cell_type": "code",
   "execution_count": 11,
   "metadata": {
    "collapsed": false
   },
   "outputs": [],
   "source": [
    "class DormitorySettlement:\n",
    "    \n",
    "    def __init__(self, N=N, students_preferences=students_preferences):\n",
    "        \"\"\"Class for dormitory settlement problem.\"\"\"\n",
    "        \n",
    "        self.x = cvx.Variable(N, N)\n",
    "        self.constraints = []\n",
    "        self.obj = None\n",
    "           \n",
    "    def formulate_problem(self): \n",
    "        \"\"\"Set basic constraints and objective for given LP problem.\"\"\"\n",
    "        \n",
    "        #set constraints\n",
    "        self.constraints = [self.x >= 0,\n",
    "                            self.x <= 1]\n",
    "        I = np.identity(N) \n",
    "        for j in xrange(N):\n",
    "            self.constraints.append(I[j]*self.x*np.ones(N) == 1)\n",
    "            \n",
    "        for i in xrange(N):\n",
    "            for j in xrange(i+1, N):\n",
    "                self.constraints.append(self.x[i,j] - self.x[j,i] == 0)\n",
    "                \n",
    "        # set objective\n",
    "        self.obj = cvx.Maximize(cvx.trace(self.x*students_preferences.T))\n",
    "\n",
    "    def solve_problem(self, add_constraints = []):\n",
    "        \"\"\"Solve given linear programming problem.\"\"\"\n",
    "        \n",
    "        prob = cvx.Problem(self.obj, self.constraints + add_constraints)\n",
    "        sol = prob.solve(solver = 'GUROBI')\n",
    "        return sol\n",
    "    \n",
    "    def find_fractional(self, i):\n",
    "        \"\"\"Find fractional variables.\"\"\"\n",
    "        \n",
    "        frac = []\n",
    "        for j in xrange(N):\n",
    "            if (self.x[i,j].value != 0 and self.x[i,j].value != 1):\n",
    "                frac.append(j)\n",
    "        return frac\n",
    "    \n",
    "    def find_cut(self):\n",
    "        \"\"\"Find separating cut.\"\"\"\n",
    "        \n",
    "        cut = []\n",
    "        for i in xrange(N):\n",
    "            frac = self.find_fractional(i)\n",
    "            if frac:\n",
    "                cut = [i] + frac\n",
    "                break\n",
    "\n",
    "        for i in cut:    \n",
    "            frac = self.find_fractional(i)\n",
    "            for j in frac:\n",
    "                if j not in cut:\n",
    "                    cut.append(j)                   \n",
    "        return cut\n",
    "    \n",
    "    def cutting_plane(self, MAX_ITER=1):\n",
    "        \"\"\"Cutting plane algorithm for ILP problem.\"\"\"\n",
    "        \n",
    "        self.solve_problem()\n",
    "        print self.obj.value\n",
    "        \n",
    "        for i in xrange(MAX_ITER):\n",
    "            \n",
    "            #find separating cut\n",
    "            cut = self.find_cut()\n",
    "            if not cut:\n",
    "                print \"Solution found!\"\n",
    "                return self.obj.value\n",
    "            \n",
    "            #add new constraint\n",
    "            cut_sum = 0\n",
    "            for i in xrange(len(cut)):\n",
    "                for j in xrange(i+1, len(cut)):\n",
    "                    if (self.x[cut[i],cut[j]].value != 0 and self.x[cut[i],cut[j]].value != 1):\n",
    "                        cut_sum += self.x[cut[i], cut[j]]\n",
    "            self.constraints.append(cut_sum <= 1)\n",
    "            \n",
    "            #solve problem with new constraint\n",
    "            self.solve_problem()\n",
    "            print self.obj.value\n",
    "        \n",
    "        return self.obj.value"
   ]
  },
  {
   "cell_type": "code",
   "execution_count": 12,
   "metadata": {
    "collapsed": false
   },
   "outputs": [
    {
     "name": "stdout",
     "output_type": "stream",
     "text": [
      "33.124289166\n",
      "32.6240032263\n",
      "Solution found!\n",
      "32.6240032263\n"
     ]
    }
   ],
   "source": [
    "ds = DormitorySettlement()\n",
    "ds.formulate_problem()\n",
    "print ds.cutting_plane(MAX_ITER=10)"
   ]
  },
  {
   "cell_type": "code",
   "execution_count": 25,
   "metadata": {
    "collapsed": false
   },
   "outputs": [
    {
     "name": "stdout",
     "output_type": "stream",
     "text": [
      "0 3 1.81753653338\n",
      "1 14 1.84937036038\n",
      "2 6 1.61150912948\n",
      "4 10 1.18676780513\n",
      "5 8 1.69493908392\n",
      "7 15 1.70700143502\n",
      "9 12 1.58994227886\n",
      "11 13 1.72318906781\n",
      "16 18 1.64069598279\n",
      "17 19 1.67396960635\n",
      "16.4949212831\n"
     ]
    }
   ],
   "source": [
    "my_sum = 0\n",
    "for i in xrange(N):\n",
    "    for j in xrange(i+1,N):\n",
    "        if (ds.x[i,j].value > 0):\n",
    "            print i, j, students_preferences[i,j]\n",
    "            my_sum += students_preferences[i,j]\n",
    "print my_sum"
   ]
  },
  {
   "cell_type": "code",
   "execution_count": 26,
   "metadata": {
    "collapsed": false
   },
   "outputs": [
    {
     "name": "stdout",
     "output_type": "stream",
     "text": [
      "0 3 1.81753653338\n",
      "1 14 1.84937036038\n",
      "2 6 1.61150912948\n",
      "4 10 1.18676780513\n",
      "5 8 1.69493908392\n",
      "7 15 1.70700143502\n",
      "9 12 1.58994227886\n",
      "11 13 1.72318906781\n",
      "16 18 1.64069598279\n",
      "17 19 1.67396960635\n",
      "16.4949212831\n"
     ]
    }
   ],
   "source": [
    "sum_gurobi = 0\n",
    "for i in xrange(N):\n",
    "    for j in xrange(i+1, N):\n",
    "        if (x[i][j].X > 0):\n",
    "            print i, j, students_preferences[i][j]\n",
    "            sum_gurobi += students_preferences[i,j]\n",
    "print sum_gurobi"
   ]
  },
  {
   "cell_type": "code",
   "execution_count": null,
   "metadata": {
    "collapsed": true
   },
   "outputs": [],
   "source": []
  }
 ],
 "metadata": {
  "kernelspec": {
   "display_name": "Python 2",
   "language": "python",
   "name": "python2"
  },
  "language_info": {
   "codemirror_mode": {
    "name": "ipython",
    "version": 2
   },
   "file_extension": ".py",
   "mimetype": "text/x-python",
   "name": "python",
   "nbconvert_exporter": "python",
   "pygments_lexer": "ipython2",
   "version": "2.7.10"
  }
 },
 "nbformat": 4,
 "nbformat_minor": 0
}
