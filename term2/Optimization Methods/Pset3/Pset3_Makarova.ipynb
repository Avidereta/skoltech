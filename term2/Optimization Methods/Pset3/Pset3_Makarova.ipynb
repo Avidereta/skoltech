{
 "cells": [
  {
   "cell_type": "markdown",
   "metadata": {},
   "source": [
    "####  Problem 1.\n"
   ]
  },
  {
   "cell_type": "markdown",
   "metadata": {
    "collapsed": true
   },
   "source": [
    "\n",
    "As the Skolkovo campus is being built, there is a need to level the hill (the elevation profile is shown below on the left) to obtain a flat surface with the elevation profile shown below on the right. Assume that the shape of each tile is square and that the cost of moving a certain amount of earth between the tiles is proportional to the Euclidean distance between the tile centers. Formulate the problem of optimal leveling strategy (determining how to move earth) as a network flow program, and then solve it using a generic LP solver (CVX). Check whether the optimal strategy you obtain is integer.\n",
    "\n",
    "#### Solution"
   ]
  },
  {
   "cell_type": "markdown",
   "metadata": {},
   "source": [
    "* n = 20 number of segments\n",
    "* Matrix  $ C_{n\\times n}$, $c_{ij}$ - cost of transportation from segment i to j = euclidian distance between i and j.\n",
    "* Matrix $E_{n\\times n}$, $e_{ij}$ - earth add/movement from i to j \n",
    "* D - donors, A - acceptors\n",
    "* Vector $ d_{1\\times n}$, $d_i$ - how much we should remove to make it equal to mean hight\n",
    "* Then, the problem can be formulated as\n",
    "\\begin{equation*}\n",
    "\\begin{aligned}\n",
    "& \\underset{x}{\\text{minimize}}\n",
    "& & \\sum_{i,j} c_{ij} e_{ij} \\\\\n",
    "& \\text{subject to}\n",
    "& & d_j + \\sum_{i \\in A(j)} e_{ij} = \\sum_{i \\in D(j)} e_{ji}, \\\\\n",
    "&&& e_{ij} \\geq 0.\n",
    "\\end{aligned}\n",
    "\\end{equation*}"
   ]
  },
  {
   "cell_type": "code",
   "execution_count": 3,
   "metadata": {
    "collapsed": false
   },
   "outputs": [],
   "source": [
    "%matplotlib inline\n",
    "import matplotlib.pyplot as plt\n",
    "\n",
    "import numpy as np\n",
    "from numpy.matlib import repmat\n",
    "import cvxpy as cvx\n",
    "import gurobipy as grb\n",
    "\n",
    "np.random.seed(1)\n",
    "\n",
    "C = 20 # number of clients\n",
    "clients = np.random.rand(2,C) #client positions\n",
    "F = 15 #number of facilities\n",
    "facilities = np.random.rand(2,F)\n",
    "\n",
    "capacities = np.ones((F,), dtype=np.int)*4 #maximum number of clients per facility\n",
    "\n",
    "dx = repmat(clients[0,:],F,1) - repmat(facilities[0,:],C,1).transpose()\n",
    "dy = repmat(clients[1,:],F,1) - repmat(facilities[1,:],C,1).transpose()\n",
    "\n",
    "assignment_costs = np.zeros((F, C))\n",
    "assignment_costs = 3*(dx*dx + dy*dy) #the assignment cost is the distance squared\n",
    "\n",
    "opening_costs = np.ones((F,))"
   ]
  },
  {
   "cell_type": "code",
   "execution_count": 11,
   "metadata": {
    "collapsed": false
   },
   "outputs": [
    {
     "ename": "SyntaxError",
     "evalue": "invalid syntax (<ipython-input-11-23f380cff41a>, line 34)",
     "output_type": "error",
     "traceback": [
      "\u001b[1;36m  File \u001b[1;32m\"<ipython-input-11-23f380cff41a>\"\u001b[1;36m, line \u001b[1;32m34\u001b[0m\n\u001b[1;33m    c = Variable(f.shape[0], f.shape[1])\u001b[0m\n\u001b[1;37m    ^\u001b[0m\n\u001b[1;31mSyntaxError\u001b[0m\u001b[1;31m:\u001b[0m invalid syntax\n"
     ]
    }
   ],
   "source": [
    "def distance(x1, y1, x2, y2):\n",
    "    return \n",
    "\n",
    "\n",
    "np.random.seed(1)\n",
    "m = 4\n",
    "n = 5\n",
    "\n",
    "heights = np.array([[5, 5, 10, 10, 10],\n",
    "[5, 5, 10, 20, 10],\n",
    "[0, 5, 5, 10, 5],\n",
    "[0, 0, 0, 5, 0]],dtype = np.int)\n",
    "\n",
    "mean = np.mean(heights, dtype = np.int)\n",
    "donors = []\n",
    "recipients = []\n",
    "\n",
    "\"\"\" Find donors and recipients \"\"\"\n",
    "for i in range(heights.shape[0]):\n",
    "    for j in range(heights.shape[1]):\n",
    "        if heights[i, j] > mean:\n",
    "            donors.append((heights[i, j] - mean, i, j))\n",
    "        else:\n",
    "            recipients.append((heights[i, j] - mean, i, j))\n",
    "\n",
    "\"\"\"Matrix of distances from donors to recepients\"\"\"\n",
    "dist = np.zeros((len(donors), len(recipients)))\n",
    "earth = np.zeros(len(donors))\n",
    "\n",
    "for i in range(len(donors)):\n",
    "    earth[i] = donors[i][0]\n",
    "    for j in range(len(recipients)):\n",
    "        dist[i, j] = np.linalg.norm(np.array((donors[i][1], donors[i][2])) \n",
    "                                 -  np.array((recipients[j][1], recipients[j][2]))\n",
    "\n",
    "\n",
    "                                    \n",
    "f = cvx.Variable(len(donors), len(recipients))\n",
    "constraints = [f >= 0]\n",
    "I = np.identity(20)\n",
    "for j in xrange(len(donors)):\n",
    "    constraints.append((earth[j] + np.ones(20)*f*I[j] == I[j]*f*np.ones(20)))\n",
    "\n",
    "obj = cvx.Minimize(cvx.trace(c*f))\n",
    "\n",
    "prob = cvx.Problem(obj, constraints)\n",
    "sol = prob.solve(solver = 'GUROBI')\n",
    "\n",
    "\n"
   ]
  },
  {
   "cell_type": "code",
   "execution_count": 8,
   "metadata": {
    "collapsed": false
   },
   "outputs": [
    {
     "data": {
      "text/plain": [
       "1.4142135623730951"
      ]
     },
     "execution_count": 8,
     "metadata": {},
     "output_type": "execute_result"
    }
   ],
   "source": [
    "np.linalg.norm(np.array((2,1)) - np.array((1,0)))"
   ]
  },
  {
   "cell_type": "markdown",
   "metadata": {},
   "source": [
    "### Problem 2\n",
    "Implement a branch-and-bound solver for the capacitated facility location problem you were facing in the first assignment. Be careful to branch on the right variables.\n",
    "\n",
    "#### Solution\n",
    "\n",
    "* n facilities, m clients\n",
    "* Matrix $X_{n \\times m}$: $x_{ij} \\in \\{0,1\\} $ whether client j belonges to facility i.\n",
    "* Vector $y_{n \\times 1}$ $y_i \\in \\{0,1\\}$ whether facility i is opened\n"
   ]
  },
  {
   "cell_type": "markdown",
   "metadata": {
    "collapsed": true
   },
   "source": [
    "\\begin{equation*}\n",
    "\\begin{aligned}\n",
    "& \\underset{x, y}{\\text{minimize}}\n",
    "& & \\sum_{i=1}^F y_i c_i + \\sum_{i=1}^F \\sum_{j=1}^C x_{ij} k_{ij} \\\\\n",
    "& \\text{subject to}\n",
    "& & \\sum_{i=1}^F x_{ij} = 1,~j=1,\\dots,C, \\\\\n",
    "&&& \\sum_{j=1}^C x_{ij} \\leq cap_i y_i,~i=1,\\dots,F, \\\\\n",
    "&&& cap - capacities.\n",
    "\\end{aligned}\n",
    "\\end{equation*}"
   ]
  },
  {
   "cell_type": "code",
   "execution_count": null,
   "metadata": {
    "collapsed": true
   },
   "outputs": [],
   "source": []
  },
  {
   "cell_type": "markdown",
   "metadata": {},
   "source": [
    "### Problem 3\n",
    "\n",
    "* $2n = 20$ - number of students\n",
    "* Matrix $p$ $2n \\times 2n$ - matrix of students preferencies\n",
    "* Matrix $z$ $ n \\times 2n $ - matrix of {0,1}, where $z_{ij}$ means if student $j$ live in room $i$\n",
    "* Then, LP problem formulation\n",
    "\n",
    "$$\\max \\sum   $$\n",
    "$$s.t. \\ \\  \\forall j \\ \\ \\sum_{i}^{2n} z_{ij} = 1$$\n",
    "$$ \\forall i \\ \\ \\sum_i^n z_{ij} = 2$$\n"
   ]
  }
 ],
 "metadata": {
  "kernelspec": {
   "display_name": "Python 2",
   "language": "python",
   "name": "python2"
  },
  "language_info": {
   "codemirror_mode": {
    "name": "ipython",
    "version": 2
   },
   "file_extension": ".py",
   "mimetype": "text/x-python",
   "name": "python",
   "nbconvert_exporter": "python",
   "pygments_lexer": "ipython2",
   "version": "2.7.10"
  }
 },
 "nbformat": 4,
 "nbformat_minor": 0
}
