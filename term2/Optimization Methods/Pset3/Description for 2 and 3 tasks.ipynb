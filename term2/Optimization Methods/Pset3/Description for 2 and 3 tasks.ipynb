{
 "cells": [
  {
   "cell_type": "markdown",
   "metadata": {},
   "source": [
    "#### Task 2\n",
    "\n",
    "There are implemented 2 types of branch and bound algorythm: recursive and original.\n",
    "\n",
    "* Original\n",
    "\n",
    "Firstly we have a noninteger vector y (as a solution of LP without branch and bound) consisting of answers whether to open facilities (so $y_i \\in \\{0,1\\}$).\n",
    "\n",
    "At each step of branching we choose the closest to $0.5$ (as the most non integer :) ) component of the vector y, recreate constraints and solve new LP problem. The number of iterations is equal to MAX_ITER or while the list $L$ is not empty\n",
    "\n",
    "\n",
    "\n",
    "$fclt == -1$ means that every $y_i$ is already integer. \n",
    "\n",
    "* Recursive\n",
    "\n",
    "It is the same as original, but we call it recursivle for every child"
   ]
  },
  {
   "cell_type": "markdown",
   "metadata": {},
   "source": [
    "#### Task 3\n",
    "\n",
    "Task 3 is explained in the homework"
   ]
  }
 ],
 "metadata": {
  "kernelspec": {
   "display_name": "Python 2",
   "language": "python",
   "name": "python2"
  },
  "language_info": {
   "codemirror_mode": {
    "name": "ipython",
    "version": 2
   },
   "file_extension": ".py",
   "mimetype": "text/x-python",
   "name": "python",
   "nbconvert_exporter": "python",
   "pygments_lexer": "ipython2",
   "version": "2.7.11"
  }
 },
 "nbformat": 4,
 "nbformat_minor": 0
}
