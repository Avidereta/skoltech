{
 "cells": [
  {
   "cell_type": "markdown",
   "metadata": {},
   "source": [
    "### Pset5. Optimization Methods. Anastasia Makarova.\n",
    "### Imports"
   ]
  },
  {
   "cell_type": "code",
   "execution_count": 4,
   "metadata": {
    "collapsed": true
   },
   "outputs": [],
   "source": [
    "%matplotlib inline\n",
    "import matplotlib.pyplot as plt\n",
    "\n",
    "import numpy as np\n",
    "from numpy.matlib import repmat\n",
    "import cvxpy as cvx\n",
    "import gurobipy as grb"
   ]
  },
  {
   "cell_type": "markdown",
   "metadata": {},
   "source": [
    "### Problem 1 : *Censored data fitting* (2 points). "
   ]
  },
  {
   "cell_type": "code",
   "execution_count": 5,
   "metadata": {
    "collapsed": false
   },
   "outputs": [
    {
     "name": "stdout",
     "output_type": "stream",
     "text": [
      "Full data: [-4.78849573 -1.99235931 -0.43785681  1.71861401  4.07009616]\n",
      "Without censored patterns: [-4.78849573 -1.99235931 -0.43785681]\n"
     ]
    }
   ],
   "source": [
    "# data for censored fitting problem\n",
    "\n",
    "n = 2  # dimension of x's\n",
    "M = 3  # number of non-censored data points\n",
    "K = 5 # total number of points\n",
    "\n",
    "r = np.random.RandomState(1)\n",
    "c_true = r.randn(n)\n",
    "X = r.randn(n, K)\n",
    "y = np.dot(X.T, c_true) + 0.1 * np.sqrt(n) * r.randn(K)\n",
    "\n",
    "\n",
    "sort_ind = np.argsort(y)\n",
    "full = y[sort_ind]\n",
    "print 'Full data:', full.ravel()\n",
    "X = X[:, sort_ind];\n",
    "y = y[sort_ind[:M + 1]]\n",
    "D = (y[M - 1]+y[M]) / 2\n",
    "y = y[:M]\n",
    "\n",
    "print 'Without censored patterns:', y.ravel()\n"
   ]
  },
  {
   "cell_type": "markdown",
   "metadata": {
    "collapsed": false
   },
   "source": [
    "### Solution\n",
    "\n",
    "The problem with censored data can be considered as a optimization task with restrictions of equality (for $x, y_1, \\dots, y_M$ we have certain values) and inequality (for $y_{M+1}, \\dots, y_K \\geq D$), $c$ has no restrictions. "
   ]
  },
  {
   "cell_type": "code",
   "execution_count": 6,
   "metadata": {
    "collapsed": false
   },
   "outputs": [
    {
     "name": "stdout",
     "output_type": "stream",
     "text": [
      "Optimal value is: 4.76409828997\n",
      "Regression coefficions c = [[ 2.00695888  0.73976612]]\n",
      "Censored values y = [[ 1.55236177  0.6403786 ]]\n",
      "True c = [ 1.62434536 -0.61175641]\n",
      "True censored values y = [ 1.71861401  4.07009616]\n"
     ]
    }
   ],
   "source": [
    "C = cvx.Variable(n)\n",
    "Y = cvx.Variable(K)\n",
    "\n",
    "constraints = []\n",
    "\n",
    "for i in range(M):\n",
    "    constraints.append(Y[i] == y[i])\n",
    "\n",
    "for i in range(M + 1, K):\n",
    "    constraints.append(Y[i] < D)\n",
    "\n",
    "objective = cvx.Minimize(cvx.sum_squares(Y.T - C.T * X))\n",
    "\n",
    "solution = cvx.Problem(objective, constraints)\n",
    "solution.solve(solver = 'GUROBI')\n",
    "\n",
    "c = C.value\n",
    "\n",
    "print('Optimal value is: {0}'.format(solution.value))\n",
    "print('Regression coefficions c = {0}'.format(C.value.ravel()))\n",
    "print('Censored values y = {0}'.format(Y.value[M:].ravel()))\n",
    "print 'True c = {0}'.format(c_true)\n",
    "print('True censored values y = {0}'.format(full[M:].ravel()))"
   ]
  },
  {
   "cell_type": "code",
   "execution_count": 7,
   "metadata": {
    "collapsed": false
   },
   "outputs": [
    {
     "name": "stdout",
     "output_type": "stream",
     "text": [
      "Optimal value is: 0.000365613044681\n",
      "Regression coefficions c = [[ 1.69238184 -0.60646316]]\n",
      "Unncensored y = [[-4.78849573 -1.99235931 -0.43785681]]\n",
      "True c = [ 1.62434536 -0.61175641]\n",
      "True censored values y = [ 1.71861401  4.07009616]\n"
     ]
    }
   ],
   "source": [
    "C = cvx.Variable(n)\n",
    "Y = cvx.Variable(M)\n",
    "\n",
    "constraints = []\n",
    "\n",
    "for i in range(M):\n",
    "    constraints.append(Y[i] == y[i])\n",
    "\n",
    "objective = cvx.Minimize(cvx.sum_squares(Y.T - C.T * X[:,:M]))\n",
    "\n",
    "solution = cvx.Problem(objective, constraints)\n",
    "solution.solve(solver = 'GUROBI')\n",
    "\n",
    "c_ls = C.value\n",
    "\n",
    "print('Optimal value is: {0}'.format(solution.value))\n",
    "print('Regression coefficions c = {0}'.format(C.value.ravel()))\n",
    "print('Unncensored y = {0}'.format(Y.value.ravel()))\n",
    "print 'True c = {0}'.format(c_true)\n",
    "print('True censored values y = {0}'.format(full[M:].ravel()))"
   ]
  },
  {
   "cell_type": "code",
   "execution_count": 10,
   "metadata": {
    "collapsed": false
   },
   "outputs": [
    {
     "name": "stdout",
     "output_type": "stream",
     "text": [
      "Relative errors:\n",
      "0.809250793986\n",
      "0.0393161621585\n"
     ]
    }
   ],
   "source": [
    "print 'Relative errors:\\n', np.linalg.norm(c_true - c.T)/np.linalg.norm(c_true) \n",
    "print np.linalg.norm(c_true - c_ls.T)/np.linalg.norm(c_true)"
   ]
  },
  {
   "cell_type": "markdown",
   "metadata": {},
   "source": [
    "### Problem 2: *Optimal vehicle speed scheduling (3 points) *-- (additional exercise A3.20 to Boyd and Vandenberghe). \n",
    "\n",
    "A vehicle (say, an airplane) travels along a fixed path of *n* segments, between *n + 1* waypoints labeled *0, . . . , n*. Segment *i* starts at waypoint *i − 1* and terminates at waypoint *i*. The vehicle starts at time *t = 0* at waypoint *0*. It travels over each segment at a constant (nonnegative) speed; *si* is the speed on segment *i*. We have lower and upper limits on the speeds: *smin ≤ s ≤ smax*. The vehicle does not stop at the waypoints; it simply proceeds to the next segment. The travel distance of segment *i* is *di* (which is positive), so the travel time over segment *i* is *di/si*. We let *τi*, *i = 1, . . . , n,* denote the time at which the vehicle arrives at waypoint *i*. The vehicle is required to arrive at waypoint *i*, *for i = 1, . . . , n*, between times *τmin,i* and *τmax,i* , which are given. The vehicle consumes fuel over segment *i* at a rate that depends on its speed *Φ(s_i )=a s_i^2+b s_i+c kg/s*.\n",
    "\n",
    "You are given the data *d* (segment travel distances), *smin* and *smax* (speed bounds), *τmin* and *τmax* (waypoint arrival time bounds), and the the parameters *a*, *b*, and *c* (all parameters are in *veh_speed_sched_data.m*). For the given form of the potentials, find the way to reduce the problem to a convex optimization problem and solve it using CVX (NB: you need not necessarily use one of the “canonical” convex optimization formulations we saw in the course). Use MATLAB command stairs to plot speed vs time for the optimal schedule.  What are relative pros and cons for using convex optimization vs. dynamic programming for such task?\n",
    "\n",
    "### Solution\n",
    "\n",
    "$$\\Phi (t_i) = a \\big(\\frac{d_i}{t_i}\\big)^2 + b \\frac{d_i}{t_i} + c$$\n",
    "\n",
    "Let's consider times for traveling between all layers $i$ and $i+1$ $t_i$ as a variable of our optimization problem. Then, firstly, we have constraints \n",
    "$$\\sum_{k = 1}^it_k \\in [\\tau_{min}, \\tau_{max}]_i$$ \n",
    "Secondly, as $d_i = s_it_i$ we have another constraints \n",
    "$$ s_{min}t_i < d_i < s_{max}t_i$$\n",
    "\n",
    "\\begin{equation*}\n",
    "\\begin{aligned}\n",
    "& \\underset{x}{\\text{minimize}}\n",
    "& & \\sum_{i = 1}^n \\Phi(t_i) \\\\\n",
    "& \\text{subject to}\n",
    "& & \\sum_{k = 1}^it_k \\in [\\tau_{min}, \\tau_{max}]_i \\\\\n",
    "&&& t_i \\leq \\frac{d_i}{s_{min}^i} \\\\\n",
    "&&& t_i \\geq \\frac{d_i}{s_{max}^i}\n",
    "\\end{aligned}\n",
    "\\end{equation*}\n",
    "\n",
    "* Pro of the CVXPY is simplicity of implementstion, as with undestanding of the problem key parts, it help to avoid organization problems with dinamic algorithm (and I had an huge amounts of bags there!!). \n",
    "* Working time is another good pro of CVXPY: \n",
    "\n",
    "---- dynamic: 1 loops, best of 3: 14.2 s per loop \n",
    "\n",
    "---- cvxpy: 1 loops, best of 3: 105 ms per loop\n",
    "\n",
    "* In dinamic programming I had to divide the time intervals into discrete points and the solution certanly depends on this division\n",
    "\n",
    "* Con is that even CVXPY is sometimes quite buggy :)"
   ]
  },
  {
   "cell_type": "code",
   "execution_count": 3,
   "metadata": {
    "collapsed": false
   },
   "outputs": [],
   "source": [
    "import scipy.io as sio\n",
    "\n",
    "mat_contents = sio.loadmat('veh_sched_data.mat')\n",
    "\n",
    "a = mat_contents['a'].ravel()[0]\n",
    "b = mat_contents['b'].ravel()[0]\n",
    "c = mat_contents['c'].ravel()[0]\n",
    "d = mat_contents['d'].ravel()\n",
    "n = mat_contents['n'].ravel()[0]\n",
    "smin = mat_contents['smin'].ravel()\n",
    "smax = mat_contents['smax'].ravel()\n",
    "tau_min = mat_contents['tau_min'].ravel()\n",
    "tau_max = mat_contents['tau_max'].ravel()\n",
    "\n"
   ]
  },
  {
   "cell_type": "code",
   "execution_count": 16,
   "metadata": {
    "collapsed": false
   },
   "outputs": [
    {
     "name": "stdout",
     "output_type": "stream",
     "text": [
      "The slowest run took 8.45 times longer than the fastest. This could mean that an intermediate result is being cached \n",
      "1 loops, best of 3: 105 ms per loop\n",
      "Optimal Fuel Consumption value is: 2617.82519355\n"
     ]
    }
   ],
   "source": [
    "T = cvx.Variable(n)\n",
    "\n",
    "constraints = []\n",
    "\n",
    "for i in range(0, n):\n",
    "    constraints.append(cvx.sum_entries(T[0:i+1]) <= tau_max[i])\n",
    "    constraints.append(cvx.sum_entries(T[0:i+1]) >= tau_min[i])\n",
    "    constraints.append(T[i] * smin[i] <= d[i])\n",
    "    constraints.append(T[i] * smax[i] >= d[i])\n",
    "\n",
    "\n",
    "objective = a * d[0] ** 2 * cvx.inv_pos(T[0]) + b * d[0] + c * T[0]\n",
    "\n",
    "for i in range(1, n):\n",
    "    objective += a * d[i] ** 2 * cvx.inv_pos(T[i]) + b * d[i] + c * T[i]\n",
    "\n",
    "solution = cvx.Problem(cvx.Minimize(objective), constraints)\n",
    "timingcv = %timeit -o solution.solve()\n",
    "\n",
    "print('Optimal Fuel Consumption value is: {0}'.format(solution.value))\n",
    "\n",
    "times = np.array(T.value)[:, 0]\n",
    "speeds = [d[0] / times[0]]\n",
    "\n",
    "for i in range(1, n):\n",
    "    speeds.append(d[i] / times[i])\n",
    "\n"
   ]
  },
  {
   "cell_type": "code",
   "execution_count": 10,
   "metadata": {
    "collapsed": false
   },
   "outputs": [
    {
     "data": {
      "text/plain": [
       "<matplotlib.text.Text at 0x7f699e616510>"
      ]
     },
     "execution_count": 10,
     "metadata": {},
     "output_type": "execute_result"
    },
    {
     "data": {
      "image/png": "[encoded data removed]",
      "text/plain": [
       "<matplotlib.figure.Figure at 0x7f699e7be210>"
      ]
     },
     "metadata": {},
     "output_type": "display_data"
    }
   ],
   "source": [
    "speed = np.zeros(n)\n",
    "for i in range (len(T.value)):\n",
    "    speed[i] = d[i]/T.value[i]\n",
    "times = np.arange(n)\n",
    "plt.figure(figsize=(10, 8))\n",
    "plt.step(times, speed)\n",
    "plt.xlabel('Time, s')\n",
    "plt.ylabel('Speed, m/s')\n"
   ]
  },
  {
   "cell_type": "code",
   "execution_count": 14,
   "metadata": {
    "collapsed": false
   },
   "outputs": [
    {
     "name": "stdout",
     "output_type": "stream",
     "text": [
      "\n",
      "\n",
      "\n",
      "\n",
      "1 loops, best of 3: 14.6 s per loop\n",
      "\n",
      "Fuel consumption in kg: 2617.91254673\n"
     ]
    }
   ],
   "source": [
    "'''Check, Dynamic'''\n",
    "import numpy as np\n",
    "import numba as nb\n",
    "from numba import jit\n",
    "\n",
    "import scipy.io as sio\n",
    "\n",
    "mat_contents = sio.loadmat('veh_sched_data.mat')\n",
    "\n",
    "a = mat_contents['a']\n",
    "b = mat_contents['b']\n",
    "c = mat_contents['c']\n",
    "d = mat_contents['d']\n",
    "n = mat_contents['n']\n",
    "smin = mat_contents['smin']\n",
    "smax = mat_contents['smax']\n",
    "tau_min = mat_contents['tau_min']\n",
    "tau_max = mat_contents['tau_max']\n",
    "\n",
    "\n",
    "def Fuel(s):\n",
    "    return a * s**2 + b*s + c\n",
    "\n",
    "\n",
    "n = len(tau_min)\n",
    "  \n",
    "def Dynamic(N):\n",
    "    \n",
    "    fuels = np.zeros((n + 1, N))\n",
    "    t_points = np.zeros((n + 1, N))\n",
    "    steps = np.zeros(n + 1)\n",
    "    valid = np.zeros((n + 1, N ))\n",
    "\n",
    "    v = np.zeros((n, N))\n",
    "    path = np.zeros((n, N))\n",
    "    \n",
    "    for j in range (1, n + 1):\n",
    "        steps[j] = (tau_max[j - 1] - tau_min[j - 1]) / N \n",
    "        t_points[j, :] = np.linspace(tau_min[j - 1], tau_max[j - 1] + steps[j], num = N)\n",
    "        \n",
    "    for i in range(n):\n",
    "        for j in range(N):\n",
    "            first_valid = 0\n",
    "            for k in range(N):\n",
    "                if valid[i, k] == 0:\n",
    "                    dt = t_points[i + 1, j] - t_points[i, k]\n",
    "                    speed = d[i][0] / dt\n",
    "                    if (speed <= smax[i][0] and speed >= smin[i][0]):\n",
    "                        new_fuel = Fuel(speed) * dt\n",
    "                        \n",
    "                        if (first_valid == 0):\n",
    "                            fuels[i + 1, j] = fuels[i, k] + new_fuel\n",
    "                            first_valid +=1\n",
    "                            v[i, j] = speed\n",
    "                            path[i, j] = k\n",
    "\n",
    "                        else:\n",
    "                            if fuels[i + 1, j] > fuels[i][k] + new_fuel:\n",
    "                                fuels[i + 1][j] = fuels[i][k] + new_fuel\n",
    "                                v[i,j] = speed\n",
    "                                path[i, j] = k \n",
    "                               \n",
    "                                \n",
    "            if (first_valid == 0):\n",
    "                valid[i + 1, j] = 1\n",
    "                fuels[i + 1, j] = 666666\n",
    "                \n",
    "    \n",
    "    \n",
    "    index_for_best = np.argmin(fuels[n,:])\n",
    "    velocities = np.zeros(n)\n",
    "    print \n",
    "    i = n - 1 \n",
    "    while i > 0:\n",
    "        velocities[i] = v[i, int(path[i, index_for_best])]\n",
    "        index_for_best = int(path[i - 1, int(path[i, index_for_best])])\n",
    "        i -= 1\n",
    "        #print index_for_best\n",
    "    return fuels[n, :], velocities\n",
    "\n",
    "timing = %timeit -o Dynamic(100)\n",
    "fuel, speed = Dynamic(100)\n",
    "print \"Fuel consumption in kg:\", min(fuel) \n"
   ]
  },
  {
   "cell_type": "markdown",
   "metadata": {},
   "source": [
    "### Problem 3. Solution.\n",
    "\n",
    "\\begin{equation*}\n",
    "\\begin{aligned}\n",
    "& \\underset{x}{\\text{minimize}}\n",
    "& & p^Tx \\\\\n",
    "& \\text{subject to}\n",
    "& & Ax \\leq b \\\\\n",
    "&&& Cx = d\n",
    "\\end{aligned}\n",
    "\\end{equation*}\n",
    "\n",
    "$$L(x, \\lambda, \\nu) = p^Tx + \\lambda^T(Ax - b) + \\nu^T(Cx - d),\\\\ \\lambda\\geq 0$$\n",
    "$$\n",
    "g(\\lambda, \\nu) = \n",
    "\\underset{x}{\\text{min}}\\ L(x, \\lambda, \\nu) = \n",
    "\\underset{x}{\\text{min}}\\big{[}(p^T + \\lambda^TA + \\nu^TC)x - \\lambda^Tb - \\nu^Td\\big]\n",
    "$$ \n",
    "\n",
    "$$\n",
    "\\underset{\\lambda, \\nu}{\\text{max}}\\ g(\\lambda, \\nu)= \\underset{\\lambda, \\nu}{\\text{max}}\\underset{x}{\\text{min}}\\big{[}\n",
    "(p^T + \\lambda^TA + \\nu^TC)x - \\lambda^Tb - \\nu^Td\\big] \\Rightarrow  \n",
    "$$\n",
    "\n",
    "So, we have a linear function without any restrictions for x. In order to avoid $g = -\\inf$ because of $x$ in $(p^T + \\lambda^TA + \\nu^TC)x$ we use one more constraint. Dual problem:\n",
    "\n",
    "\n",
    "\n",
    "\\begin{equation*}\n",
    "\\begin{aligned}\n",
    "& \\underset{\\lambda, \\nu}{\\text{min}}\\ \n",
    "&& (\\lambda^Tb + \\nu^Td)\\\\\n",
    "& \\text{subject to}\n",
    "& & p^T + \\lambda^TA + \\nu^TC = 0\\\\\n",
    "&&& \\lambda \\geq 0\n",
    "\\end{aligned}\n",
    "\\end{equation*}\n"
   ]
  },
  {
   "cell_type": "markdown",
   "metadata": {
    "collapsed": true
   },
   "source": [
    "\n",
    "\n",
    "\n",
    "\n",
    "\n",
    "\n",
    "## Problem 4. \n",
    "### Solution.\n",
    "The objective function can be rewritten using matrices \n",
    "$Q = \\begin{pmatrix} 2 & -1  \\\\ -1 & 2 \\end{pmatrix}$\n",
    "$A = \\begin{pmatrix} -1 & -2  \\\\ -3 & -1 \\end{pmatrix}$\n",
    "$b = \\begin{pmatrix} -1 & -1   \\end{pmatrix}$\n",
    "\n",
    "\\begin{equation*}\n",
    "\\begin{aligned}\n",
    "& \\underset{x}{\\text{minimize}}\n",
    "& & \\frac{1}{2}x^TQx \\\\\n",
    "& \\text{subject to}\n",
    "& & Ax \\leq b\n",
    "\\end{aligned}\n",
    "\\end{equation*}\n",
    "\n",
    "The Lagrangian dual of a QP is also a QP: $$L(x, \\lambda) = \\frac{1}{2}x^TQx + \\lambda^T(Ax - b)$$ and searching for $\n",
    "g(\\lambda) = \\underset{x}{\\text{min}} L(x, \\lambda)$ we use the condition $\\Delta_xL(x, \\lambda) = 0$ and find $x = - Q^{-1}A^T\\lambda$. \n",
    "\n",
    "$$\\frac{dL(x_1, x_2, \\lambda_1, \\lambda_2)}{\\partial x_1} = 2x_1 - x_2 - \\lambda_1 - 3\\lambda_2$$\n",
    "\n",
    "$$\\frac{dL(x_1, x_2, \\alpha, \\nu)}{\\partial x_2} = 2x_2 - x_1 - 2\\lambda_1 - \\lambda_2$$\n",
    "\n",
    "\\begin{cases}\n",
    "2x_1 - x_2 - \\lambda_1 - 3\\lambda_2 = 0\\\\\n",
    "2x_2 - x_1 - 2\\lambda_1 - \\lambda_2 = 0\n",
    "\\end{cases}\n",
    "\n",
    "\\begin{cases}\n",
    "x_2 = \\frac{5\\lambda_1 + 5\\lambda_2}{3} \\\\ \n",
    "x_1 = \\frac{4\\lambda_1+ 7\\lambda_2}{3}\n",
    "\\end{cases}\n",
    "\n",
    "$$-\\frac{1}{3}\\left(7 \\lambda_1^2 + 13 \\lambda_2^2 + 17 \\lambda_1 \\lambda_2\\right) + \\lambda_1 + \\lambda_2 = \\lambda^TW\\lambda - \\lambda^Tb$$\n",
    "\n",
    "Dual problem: \n",
    "\n",
    "\\begin{equation*}\n",
    "\\begin{aligned}\n",
    "& \\underset{\\lambda}{\\text{maximize}}\n",
    "& & -\\lambda^TW\\lambda - \\lambda^Tb\\\\\n",
    "& \\text{subject to}\n",
    "& & \\lambda \\geq 0\n",
    "\\end{aligned}\n",
    "\\end{equation*}\n",
    "\n",
    "\n",
    "$$ W = \\frac{1}{3}\\begin{pmatrix} 7 & 8.5  \\\\ 8.5 & 13 \\end{pmatrix} \\\\ $$\n",
    "$$b = \\begin{pmatrix} -1 & -1   \\end{pmatrix}$$\n",
    "\n",
    "\n"
   ]
  },
  {
   "cell_type": "code",
   "execution_count": 54,
   "metadata": {
    "collapsed": false
   },
   "outputs": [
    {
     "name": "stdout",
     "output_type": "stream",
     "text": [
      "Optimal value is: 0.107143020929\n",
      "X = [[ 0.28571187  0.35714396]]\n"
     ]
    }
   ],
   "source": [
    "Q = np.array([[2,-1],[-1,2]])\n",
    "A = - np.array([[1,2],[3,1]])\n",
    "b = np.array([-1,-1])\n",
    "\n",
    "X = cvx.Variable(2)\n",
    "\n",
    "constraints = [A*X <= b]\n",
    "\n",
    "objective = cvx.Minimize(cvx.quad_form(X, Q)/2)\n",
    "\n",
    "solution = cvx.Problem(objective, constraints)\n",
    "solution.solve(solver = 'GUROBI')\n",
    "\n",
    "\n",
    "print('Optimal value is: {0}'.format(solution.value))\n",
    "print('X = {0}'.format(X.value.ravel()))\n",
    "x = X.value.ravel()"
   ]
  },
  {
   "cell_type": "markdown",
   "metadata": {},
   "source": [
    "** Dual problem **"
   ]
  },
  {
   "cell_type": "code",
   "execution_count": 55,
   "metadata": {
    "collapsed": false
   },
   "outputs": [
    {
     "name": "stdout",
     "output_type": "stream",
     "text": [
      "Optimal value is: 0.107142811221\n",
      "Lambdas = [[  2.14253675e-01   1.09454454e-08]]\n"
     ]
    }
   ],
   "source": [
    "A = np.array([[1,2],[3,1]])\n",
    "b = np.array([-1,-1])\n",
    "J = cvx.Variable(2) #lambdas\n",
    "M = np.array([[7, 8.5],\n",
    "              [8.5, 13]])\n",
    "\n",
    "objective = cvx.Maximize(-1 / 3.0 * cvx.quad_form(J, M) + J[0] + J[1])\n",
    "constraints = [J >= 0]\n",
    "\n",
    "\n",
    "solution = cvx.Problem(objective, constraints)\n",
    "solution.solve(solver = 'GUROBI')\n",
    "\n",
    "\n",
    "print('Optimal value is: {0}'.format(solution.value))\n",
    "print('Lambdas = {0}'.format(J.value.ravel()))\n",
    "lambdas = J.value.ravel()"
   ]
  },
  {
   "cell_type": "markdown",
   "metadata": {
    "collapsed": true
   },
   "source": [
    "** Optimal value is the same 0.107142811221 for dual and primal problems,\n",
    "so strong duality holds because $p^* = d^*$ **\n",
    "\n",
    "** KKT **\n"
   ]
  },
  {
   "cell_type": "code",
   "execution_count": 81,
   "metadata": {
    "collapsed": false
   },
   "outputs": [
    {
     "name": "stdout",
     "output_type": "stream",
     "text": [
      "x =  [[ 0.28571187  0.35714396]]\n",
      "lambdas =  [[  2.14253675e-01   1.09454454e-08]]\n"
     ]
    }
   ],
   "source": [
    "A = - np.array([[1,2],[3,1]]).transpose()\n",
    "Q = np.array([[2,-1],[-1,2]])\n",
    "b = np.array([-1, -1])\n",
    "print 'x = ', x\n",
    "print 'lambdas = ', lambdas"
   ]
  },
  {
   "cell_type": "markdown",
   "metadata": {},
   "source": [
    "#### * vanishing gradient\n",
    "\n",
    "$$ Qx + a_1 \\lambda_1 + a_2\\lambda_2 = 0$$\n",
    "\n",
    "$$\\begin{pmatrix} 2 & -1 \\\\ -1 & 2 \\end{pmatrix} \\begin{pmatrix} x_1 \\\\ x_2 \\end{pmatrix} + \n",
    "\\begin{pmatrix} -1 \\\\ -2 \\end{pmatrix} \\lambda_1 +\n",
    "\\begin{pmatrix} -3 \\\\ -1 \\end{pmatrix} \\lambda_2 = 0$$"
   ]
  },
  {
   "cell_type": "code",
   "execution_count": 66,
   "metadata": {
    "collapsed": false
   },
   "outputs": [
    {
     "name": "stdout",
     "output_type": "stream",
     "text": [
      "[[  2.60691848e-05]\n",
      " [  6.86826470e-05]]\n"
     ]
    }
   ],
   "source": [
    "print Q*x.transpose() + A*lambdas.transpose()"
   ]
  },
  {
   "cell_type": "markdown",
   "metadata": {},
   "source": [
    "\n",
    "\n",
    "#### * primal feasibility\n",
    "\n",
    "$$a_1^Tx \\leq b_1 $$\n",
    "$$a_2^Tx \\leq b_2 $$\n",
    "\n"
   ]
  },
  {
   "cell_type": "code",
   "execution_count": 70,
   "metadata": {
    "collapsed": false
   },
   "outputs": [
    {
     "name": "stdout",
     "output_type": "stream",
     "text": [
      "[[-1.35714373 -0.92856769]]\n",
      "[-1 -1]\n"
     ]
    }
   ],
   "source": [
    "print (A*x.transpose()).transpose()\n",
    "print b"
   ]
  },
  {
   "cell_type": "markdown",
   "metadata": {},
   "source": [
    "#### * dual feasibility\n",
    "\n",
    "$$\\lambda \\geq 0$$\n",
    "\n"
   ]
  },
  {
   "cell_type": "code",
   "execution_count": 71,
   "metadata": {
    "collapsed": false
   },
   "outputs": [
    {
     "name": "stdout",
     "output_type": "stream",
     "text": [
      "[[  2.14253675e-01   1.09454454e-08]]\n"
     ]
    }
   ],
   "source": [
    "print lambdas"
   ]
  },
  {
   "cell_type": "markdown",
   "metadata": {},
   "source": [
    "#### * complementary slackness\n",
    "\n",
    "$$\\lambda_1 (a_1x - b) = 0$$\n",
    "$$\\lambda_2 (a_2x - b) = 0$$"
   ]
  },
  {
   "cell_type": "code",
   "execution_count": 84,
   "metadata": {
    "collapsed": false
   },
   "outputs": [
    {
     "name": "stdout",
     "output_type": "stream",
     "text": [
      "[[-0.07651936]\n",
      " [ 0.01530464]]\n"
     ]
    }
   ],
   "source": [
    "print (A*x.transpose() - b) * lambdas.transpose()"
   ]
  }
 ],
 "metadata": {
  "kernelspec": {
   "display_name": "Python 2",
   "language": "python",
   "name": "python2"
  },
  "language_info": {
   "codemirror_mode": {
    "name": "ipython",
    "version": 2
   },
   "file_extension": ".py",
   "mimetype": "text/x-python",
   "name": "python",
   "nbconvert_exporter": "python",
   "pygments_lexer": "ipython2",
   "version": "2.7.10"
  }
 },
 "nbformat": 4,
 "nbformat_minor": 0
}
