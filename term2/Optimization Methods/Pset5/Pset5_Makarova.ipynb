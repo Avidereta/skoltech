{
 "cells": [
  {
   "cell_type": "markdown",
   "metadata": {},
   "source": [
    "### Imports"
   ]
  },
  {
   "cell_type": "code",
   "execution_count": 1,
   "metadata": {
    "collapsed": true
   },
   "outputs": [],
   "source": [
    "%matplotlib inline\n",
    "import matplotlib.pyplot as plt\n",
    "\n",
    "import numpy as np\n",
    "from numpy.matlib import repmat\n",
    "import cvxpy as cvx\n",
    "import gurobipy as grb"
   ]
  },
  {
   "cell_type": "markdown",
   "metadata": {},
   "source": [
    "### Problem 1 : *Censored data fitting* (2 points). "
   ]
  },
  {
   "cell_type": "code",
   "execution_count": 5,
   "metadata": {
    "collapsed": false
   },
   "outputs": [
    {
     "name": "stdout",
     "output_type": "stream",
     "text": [
      "Full data: [-4.78849573 -1.99235931 -0.43785681  1.71861401  4.07009616]\n",
      "Without censored patterns: [-4.78849573 -1.99235931 -0.43785681]\n"
     ]
    }
   ],
   "source": [
    "# data for censored fitting problem\n",
    "\n",
    "n = 2  # dimension of x's\n",
    "M = 3  # number of non-censored data points\n",
    "K = 5 # total number of points\n",
    "\n",
    "r = np.random.RandomState(1)\n",
    "c_true = r.randn(n)\n",
    "X = r.randn(n, K)\n",
    "y = np.dot(X.T, c_true) + 0.1 * np.sqrt(n) * r.randn(K)\n",
    "\n",
    "\n",
    "sort_ind = np.argsort(y)\n",
    "full = y[sort_ind]\n",
    "print 'Full data:', full.ravel()\n",
    "X = X[:, sort_ind];\n",
    "y = y[sort_ind[:M + 1]]\n",
    "D = (y[M - 1]+y[M]) / 2\n",
    "y = y[:M]\n",
    "\n",
    "print 'Without censored patterns:', y.ravel()\n"
   ]
  },
  {
   "cell_type": "markdown",
   "metadata": {
    "collapsed": false
   },
   "source": [
    "### Solution\n",
    "\n",
    "The problem with censored data can be considered as a optimization task with restrictions of equality (for $x, y_1, \\dots, y_M$ we have certain values) and inequality (for $y_{M+1}, \\dots, y_K \\geq D$), $c$ has no restrictions. "
   ]
  },
  {
   "cell_type": "code",
   "execution_count": 6,
   "metadata": {
    "collapsed": false
   },
   "outputs": [
    {
     "name": "stdout",
     "output_type": "stream",
     "text": [
      "Optimal value is: 4.76409828997\n",
      "Regression coefficions c = [[ 2.00695888  0.73976612]]\n",
      "Censored values y = [[ 1.55236177  0.6403786 ]]\n",
      "True c = [ 1.62434536 -0.61175641]\n",
      "True censored values y = [ 1.71861401  4.07009616]\n"
     ]
    }
   ],
   "source": [
    "C = cvx.Variable(n)\n",
    "Y = cvx.Variable(K)\n",
    "\n",
    "constraints = []\n",
    "\n",
    "for i in range(M):\n",
    "    constraints.append(Y[i] == y[i])\n",
    "\n",
    "for i in range(M + 1, K):\n",
    "    constraints.append(Y[i] < D)\n",
    "\n",
    "objective = cvx.Minimize(cvx.sum_squares(Y.T - C.T * X))\n",
    "\n",
    "solution = cvx.Problem(objective, constraints)\n",
    "solution.solve(solver = 'GUROBI')\n",
    "\n",
    "c = C.value\n",
    "\n",
    "print('Optimal value is: {0}'.format(solution.value))\n",
    "print('Regression coefficions c = {0}'.format(C.value.ravel()))\n",
    "print('Censored values y = {0}'.format(Y.value[M:].ravel()))\n",
    "print 'True c = {0}'.format(c_true)\n",
    "print('True censored values y = {0}'.format(full[M:].ravel()))"
   ]
  },
  {
   "cell_type": "code",
   "execution_count": 7,
   "metadata": {
    "collapsed": false
   },
   "outputs": [
    {
     "name": "stdout",
     "output_type": "stream",
     "text": [
      "Optimal value is: 0.000365613044681\n",
      "Regression coefficions c = [[ 1.69238184 -0.60646316]]\n",
      "Unncensored y = [[-4.78849573 -1.99235931 -0.43785681]]\n",
      "True c = [ 1.62434536 -0.61175641]\n",
      "True censored values y = [ 1.71861401  4.07009616]\n"
     ]
    }
   ],
   "source": [
    "C = cvx.Variable(n)\n",
    "Y = cvx.Variable(M)\n",
    "\n",
    "constraints = []\n",
    "\n",
    "for i in range(M):\n",
    "    constraints.append(Y[i] == y[i])\n",
    "\n",
    "objective = cvx.Minimize(cvx.sum_squares(Y.T - C.T * X[:,:M]))\n",
    "\n",
    "solution = cvx.Problem(objective, constraints)\n",
    "solution.solve(solver = 'GUROBI')\n",
    "\n",
    "c_ls = C.value\n",
    "\n",
    "print('Optimal value is: {0}'.format(solution.value))\n",
    "print('Regression coefficions c = {0}'.format(C.value.ravel()))\n",
    "print('Unncensored y = {0}'.format(Y.value.ravel()))\n",
    "print 'True c = {0}'.format(c_true)\n",
    "print('True censored values y = {0}'.format(full[M:].ravel()))"
   ]
  },
  {
   "cell_type": "code",
   "execution_count": 10,
   "metadata": {
    "collapsed": false
   },
   "outputs": [
    {
     "name": "stdout",
     "output_type": "stream",
     "text": [
      "Relative errors:\n",
      "0.809250793986\n",
      "0.0393161621585\n"
     ]
    }
   ],
   "source": [
    "print 'Relative errors:\\n', np.linalg.norm(c_true - c.T)/np.linalg.norm(c_true) \n",
    "print np.linalg.norm(c_true - c_ls.T)/np.linalg.norm(c_true)"
   ]
  },
  {
   "cell_type": "markdown",
   "metadata": {},
   "source": [
    "### Problem 2: *Optimal vehicle speed scheduling (3 points) *-- (additional exercise A3.20 to Boyd and Vandenberghe). \n",
    "\n",
    "A vehicle (say, an airplane) travels along a fixed path of *n* segments, between *n + 1* waypoints labeled *0, . . . , n*. Segment *i* starts at waypoint *i − 1* and terminates at waypoint *i*. The vehicle starts at time *t = 0* at waypoint *0*. It travels over each segment at a constant (nonnegative) speed; *si* is the speed on segment *i*. We have lower and upper limits on the speeds: *smin ≤ s ≤ smax*. The vehicle does not stop at the waypoints; it simply proceeds to the next segment. The travel distance of segment *i* is *di* (which is positive), so the travel time over segment *i* is *di/si*. We let *τi*, *i = 1, . . . , n,* denote the time at which the vehicle arrives at waypoint *i*. The vehicle is required to arrive at waypoint *i*, *for i = 1, . . . , n*, between times *τmin,i* and *τmax,i* , which are given. The vehicle consumes fuel over segment *i* at a rate that depends on its speed *Φ(s_i )=a s_i^2+b s_i+c kg/s*.\n",
    "\n",
    "You are given the data *d* (segment travel distances), *smin* and *smax* (speed bounds), *τmin* and *τmax* (waypoint arrival time bounds), and the the parameters *a*, *b*, and *c* (all parameters are in *veh_speed_sched_data.m*). For the given form of the potentials, find the way to reduce the problem to a convex optimization problem and solve it using CVX (NB: you need not necessarily use one of the “canonical” convex optimization formulations we saw in the course). Use MATLAB command stairs to plot speed vs time for the optimal schedule.  What are relative pros and cons for using convex optimization vs. dynamic programming for such task?\n",
    "\n",
    "### Solution\n",
    "\n",
    "$$\\Phi (t_i) = a \\big(\\frac{d_i}{t_i}\\big)^2 + b \\frac{d_i}{t_i} + c$$\n",
    "\n",
    "Let's consider times for traveling between all layers $i$ and $i+1$ $t_i$ as a variable of our optimization problem. Then, firstly, we have constraints \n",
    "$$\\sum_{k = 1}^it_k \\in [\\tau_{min}, \\tau_{max}]_i$$ \n",
    "Secondly, as $d_i = s_it_i$ we have another constraints \n",
    "$$ s_{min}t_i < d_i < s_{max}t_i$$\n",
    "\n",
    "\\begin{equation*}\n",
    "\\begin{aligned}\n",
    "& \\underset{x}{\\text{minimize}}\n",
    "& & \\sum_{i = 1}^n \\Phi(t_i) \\\\\n",
    "& \\text{subject to}\n",
    "& & \\sum_{k = 1}^it_k \\in [\\tau_{min}, \\tau_{max}]_i \\\\\n",
    "&&& t_i \\leq \\frac{d_i}{s_{min}^i} \\\\\n",
    "&&& t_i \\geq \\frac{d_i}{s_{max}^i}\n",
    "\\end{aligned}\n",
    "\\end{equation*}\n",
    "\n",
    "* Pro of the CVXPY is simplicity of implementstion, as with undestanding of the problem key parts, it help to avoid organization problems with dinamic algorithm (and I had an huge amounts of bags there!!). \n",
    "* Working time is another good pro of CVXPY: \n",
    "\n",
    "---- dinamic: 1 loops, best of 3: 14.2 s per loop \n",
    "\n",
    "---- cvxpy: 1 loops, best of 3: 901 ms per loop\n",
    "* In dinamic programming I had to divide the time intervals into discrete points and the solution certanly depends on this division\n",
    "\n",
    "*Con is that even CVXPY is sometimes quite buggy :)"
   ]
  },
  {
   "cell_type": "code",
   "execution_count": 69,
   "metadata": {
    "collapsed": false
   },
   "outputs": [],
   "source": [
    "import scipy.io as sio\n",
    "\n",
    "mat_contents = sio.loadmat('veh_sched_data.mat')\n",
    "\n",
    "a = mat_contents['a'].ravel()[0]\n",
    "b = mat_contents['b'].ravel()[0]\n",
    "c = mat_contents['c'].ravel()[0]\n",
    "d = mat_contents['d'].ravel()\n",
    "n = mat_contents['n'].ravel()[0]\n",
    "smin = mat_contents['smin'].ravel()\n",
    "smax = mat_contents['smax'].ravel()\n",
    "tau_min = mat_contents['tau_min'].ravel()\n",
    "tau_max = mat_contents['tau_max'].ravel()\n",
    "\n"
   ]
  },
  {
   "cell_type": "code",
   "execution_count": 73,
   "metadata": {
    "collapsed": false
   },
   "outputs": [
    {
     "name": "stdout",
     "output_type": "stream",
     "text": [
      "Optimal value is: 1186.04657248\n",
      "T = [[ 1.73345763  1.73213164  1.73027167  1.72831382  1.73588695  1.72903505\n",
      "   1.86664089  1.0604956   1.88475394  1.71885512  1.88391623  1.88565394\n",
      "   1.8852186   1.88451118  1.77929455  1.83066376  1.80599945  1.69011185\n",
      "   1.69140086  3.32152255  1.67173738  1.67213559  1.66958358  1.66862658\n",
      "   1.17654954  1.02733171  1.00722625  1.62071515  1.64227924  1.64270033\n",
      "   1.642197    1.64215676  1.64169975  1.64120902  1.58208921  1.64190978\n",
      "   1.64198123  1.64121459  1.64253014  1.47529468  1.64229732  1.35887345\n",
      "   1.35854491  1.35863043  1.35886164  1.35889125  1.35909369  1.35917545\n",
      "   1.36630585  1.36561778  1.36655379  2.98474096  1.36697511  1.36703542\n",
      "   1.47810244  1.47842992  1.47880433  1.47911714  1.47952764  1.47959716\n",
      "   1.47954513  1.47991781  1.47946486  1.47951958  1.47955374  1.47957538\n",
      "   1.47954494  1.55105194  1.46163893  1.7184695   1.8002569   1.80266995\n",
      "   1.80265305  1.80258571  1.80076876  1.80131063  1.7199514   1.55784338\n",
      "   1.2966227   1.2967113   1.2969248   1.29673745  1.29687315  1.29688838\n",
      "   1.29688737  1.29670407  1.19312825  1.29670687  1.29665716  1.29661045\n",
      "   1.2969948   1.29682048  1.47903183  1.39674281  1.29651747  1.29664068\n",
      "   1.11468725  1.11601295  0.92426295  1.23343678]]\n"
     ]
    }
   ],
   "source": [
    "T = cvx.Variable(n)\n",
    "\n",
    "constraints = []\n",
    "\n",
    "for i in range(0, n):\n",
    "    constraints.append(cvx.sum_entries(T[0:i+1]) <= tau_max[i])\n",
    "    constraints.append(cvx.sum_entries(T[0:i+1]) >= tau_min[i])\n",
    "    constraints.append(T[i] <= d[i]/smin[i])\n",
    "    constraints.append(T[i] >= d[i]/smax[i])\n",
    "\n",
    "fuel_sum = a*cvx.sum_squares(T) + b*cvx.sum_entries(T) + c\n",
    "objective = cvx.Minimize(fuel_sum)\n",
    "\n",
    "solution = cvx.Problem(objective, constraints)\n",
    "solution.solve(solver = 'GUROBI')\n",
    "\n",
    "print('Optimal value is: {0}'.format(solution.value))\n",
    "print('T = {0}'.format(T.value.ravel()))"
   ]
  },
  {
   "cell_type": "code",
   "execution_count": 68,
   "metadata": {
    "collapsed": false
   },
   "outputs": [
    {
     "data": {
      "text/plain": [
       "<matplotlib.text.Text at 0x7f45a9387e50>"
      ]
     },
     "execution_count": 68,
     "metadata": {},
     "output_type": "execute_result"
    },
    {
     "data": {
      "image/png": "[encoded data removed]",
      "text/plain": [
       "<matplotlib.figure.Figure at 0x7f45a80e35d0>"
      ]
     },
     "metadata": {},
     "output_type": "display_data"
    }
   ],
   "source": [
    "speed = np.zeros(n)\n",
    "for i in range (len(T.value)):\n",
    "    speed[i] = d[i]/T.value[i]\n",
    "times = np.arange(n)\n",
    "plt.figure(figsize=(10, 8))\n",
    "plt.step(times, speed)\n",
    "plt.xlabel('Time, s')\n",
    "plt.ylabel('Speed, m/s')\n"
   ]
  },
  {
   "cell_type": "code",
   "execution_count": 71,
   "metadata": {
    "collapsed": false
   },
   "outputs": [
    {
     "name": "stdout",
     "output_type": "stream",
     "text": [
      "100\n"
     ]
    }
   ],
   "source": [
    "'''Check'''\n",
    "m = 0\n",
    "for i in range (n):\n",
    "    if (smin[i] <= speed[i] <= smax[i]):\n",
    "        m+=1\n",
    "print m        "
   ]
  },
  {
   "cell_type": "markdown",
   "metadata": {},
   "source": [
    "### Problem 3. Solution.\n",
    "\n",
    "\\begin{equation*}\n",
    "\\begin{aligned}\n",
    "& \\underset{x}{\\text{minimize}}\n",
    "& & p^Tx \\\\\n",
    "& \\text{subject to}\n",
    "& & Ax \\leq b \\\\\n",
    "&&& Cx = d\n",
    "\\end{aligned}\n",
    "\\end{equation*}\n",
    "\n",
    "$$L(x, \\lambda, \\nu) = p^Tx + \\lambda^T(Ax - b) + \\nu^T(Cx - d),\\\\ \\lambda\\geq 0$$\n",
    "$$\n",
    "g(\\lambda, \\nu) = \n",
    "\\underset{x}{\\text{min}}\\ L(x, \\lambda, \\nu) = \n",
    "\\underset{x}{\\text{min}}\\big{[}(p^T + \\lambda^TA + \\nu^TC)x - \\lambda^Tb - \\nu^Td\\big]\n",
    "$$ \n",
    "\n",
    "$$\n",
    "\\underset{\\lambda, \\nu}{\\text{max}}\\ g(\\lambda, \\nu)= \\underset{\\lambda, \\nu}{\\text{max}}\\underset{x}{\\text{min}}\\big{[}\n",
    "(p^T + \\lambda^TA + \\nu^TC)x - \\lambda^Tb - \\nu^Td\\big] \\Rightarrow  \n",
    "$$\n",
    "\n",
    "So, we have a linear function without any restrictions for x. In order to avoid $g = -\\inf$ because of $x$ in $(p^T + \\lambda^TA + \\nu^TC)x$ we use one more constraint. Dual problem:\n",
    "\n",
    "\n",
    "\n",
    "\\begin{equation*}\n",
    "\\begin{aligned}\n",
    "& \\underset{\\lambda, \\nu}{\\text{min}}\\ \n",
    "&& (\\lambda^Tb + \\nu^Td)\\\\\n",
    "& \\text{subject to}\n",
    "& & p^T + \\lambda^TA + \\nu^TC = 0\\\\\n",
    "&&& \\lambda \\geq 0\n",
    "\\end{aligned}\n",
    "\\end{equation*}\n"
   ]
  },
  {
   "cell_type": "markdown",
   "metadata": {
    "collapsed": true
   },
   "source": [
    "### Problem 4. Solution.\n",
    "The objective function can be rewritten using matrices \n",
    "$Q = \\begin{pmatrix} 2 & -1  \\\\ -1 & 2 \\end{pmatrix}$\n",
    "$A = \\begin{pmatrix} -1 & -2  \\\\ -3 & -1 \\end{pmatrix}$\n",
    "$b = \\begin{pmatrix} -1 & -1   \\end{pmatrix}$\n",
    "\n",
    "\\begin{equation*}\n",
    "\\begin{aligned}\n",
    "& \\underset{x}{\\text{minimize}}\n",
    "& & \\frac{1}{2}x^TQx \\\\\n",
    "& \\text{subject to}\n",
    "& & Ax \\leq b\n",
    "\\end{aligned}\n",
    "\\end{equation*}\n",
    "\n",
    "The Lagrangian dual of a QP is also a QP: $$L(x, \\lambda) = \\frac{1}{2}x^TQx + \\lambda^T(Ax - b)$$ and searching for min $L(x, \\lambda)$ we use the condition $\\Delta_xL(x, \\lambda) = 0$ and find $x = - Q^{-1}A^T\\lambda$. \n",
    "\n",
    "Dual problem:\n",
    "\n",
    "\\begin{equation*}\n",
    "\\begin{aligned}\n",
    "& \\underset{\\lambda}{\\text{minimize}}\n",
    "& & -\\frac{1}{2}\\lambda^TAQ^{-1}A^T\\lambda - \\lambda^Tb\\\\\n",
    "& \\text{subject to}\n",
    "& & \\lambda \\geq 0\n",
    "\\end{aligned}\n",
    "\\end{equation*}\n",
    "\n",
    "\n",
    "$Q^{-1} = \\frac{1}{3}\\begin{pmatrix} 2 & 1  \\\\ 1 & 2 \\end{pmatrix}$ \n",
    "\n",
    "$AQ^{-1}A^T = \\begin{pmatrix} -0.66 & -2  \\\\ -2 & -0.66 \\end{pmatrix}$\n",
    "\n",
    "\\begin{equation*}\n",
    "\\begin{aligned}\n",
    "& \\underset{\\lambda}{\\text{minimize}}\n",
    "& & \\frac{1}{2}\\lambda^T\\begin{pmatrix} -0.66 & -2  \\\\ -2 & -0.66 \\end{pmatrix}\\lambda + \\lambda^T\\begin{pmatrix} 1 & 1   \\end{pmatrix}\\\\\n",
    "& \\text{subject to}\n",
    "& & \\lambda \\geq 0\n",
    "\\end{aligned}\n",
    "\\end{equation*}\n"
   ]
  },
  {
   "cell_type": "code",
   "execution_count": 54,
   "metadata": {
    "collapsed": false
   },
   "outputs": [
    {
     "data": {
      "text/plain": [
       "array([[-0.66666667, -2.        ],\n",
       "       [-2.        , -0.66666667]])"
      ]
     },
     "execution_count": 54,
     "metadata": {},
     "output_type": "execute_result"
    }
   ],
   "source": [
    "np.array([[1,2],[3,1]]) * np.linalg.inv(np.array([[2,-1],[-1,2]])) * np.array([[-1,-3],[-2,-1]])"
   ]
  },
  {
   "cell_type": "code",
   "execution_count": 5,
   "metadata": {
    "collapsed": false
   },
   "outputs": [
    {
     "name": "stdout",
     "output_type": "stream",
     "text": [
      "Optimal value is: 0.107143020929\n",
      "X = [[-0.28571187 -0.35714396]]\n"
     ]
    }
   ],
   "source": [
    "Q = np.array([[2,-1],[-1,2]])\n",
    "A = np.array([[1,2],[3,1]])\n",
    "b = np.array([-1,-1])\n",
    "\n",
    "X = cvx.Variable(2)\n",
    "\n",
    "constraints = [A*X <= b]\n",
    "\n",
    "objective = cvx.Minimize(cvx.quad_form(X, Q)/2)\n",
    "\n",
    "solution = cvx.Problem(objective, constraints)\n",
    "solution.solve(solver = 'GUROBI')\n",
    "\n",
    "\n",
    "print('Optimal value is: {0}'.format(solution.value))\n",
    "print('X = {0}'.format(X.value.ravel()))\n"
   ]
  },
  {
   "cell_type": "markdown",
   "metadata": {},
   "source": []
  },
  {
   "cell_type": "code",
   "execution_count": 4,
   "metadata": {
    "collapsed": false
   },
   "outputs": [
    {
     "name": "stdout",
     "output_type": "stream",
     "text": [
      "W: [[ 0.66666667  2.        ]\n",
      " [ 2.          0.66666667]]\n"
     ]
    },
    {
     "ename": "CvxPyDomainError",
     "evalue": "P has both positive and negative eigenvalues.",
     "output_type": "error",
     "traceback": [
      "\u001b[1;31m---------------------------------------------------------------------------\u001b[0m",
      "\u001b[1;31mCvxPyDomainError\u001b[0m                          Traceback (most recent call last)",
      "\u001b[1;32m<ipython-input-4-71360cb376f0>\u001b[0m in \u001b[0;36m<module>\u001b[1;34m()\u001b[0m\n\u001b[0;32m      9\u001b[0m \u001b[0mconstraints\u001b[0m \u001b[1;33m=\u001b[0m \u001b[1;33m[\u001b[0m\u001b[0mJ\u001b[0m \u001b[1;33m>=\u001b[0m \u001b[1;36m0\u001b[0m\u001b[1;33m]\u001b[0m\u001b[1;33m\u001b[0m\u001b[0m\n\u001b[0;32m     10\u001b[0m \u001b[1;31m#h = J.T*L\u001b[0m\u001b[1;33m\u001b[0m\u001b[1;33m\u001b[0m\u001b[0m\n\u001b[1;32m---> 11\u001b[1;33m \u001b[0mobjective\u001b[0m \u001b[1;33m=\u001b[0m \u001b[0mcvx\u001b[0m\u001b[1;33m.\u001b[0m\u001b[0mMinimize\u001b[0m\u001b[1;33m(\u001b[0m\u001b[1;33m-\u001b[0m\u001b[0mcvx\u001b[0m\u001b[1;33m.\u001b[0m\u001b[0mquad_form\u001b[0m\u001b[1;33m(\u001b[0m\u001b[0mJ\u001b[0m\u001b[1;33m,\u001b[0m \u001b[0mW\u001b[0m\u001b[1;33m)\u001b[0m\u001b[1;33m/\u001b[0m\u001b[1;36m2\u001b[0m \u001b[1;33m-\u001b[0m \u001b[0mJ\u001b[0m\u001b[1;33m*\u001b[0m\u001b[0mb\u001b[0m\u001b[1;33m)\u001b[0m\u001b[1;33m\u001b[0m\u001b[0m\n\u001b[0m\u001b[0;32m     12\u001b[0m \u001b[1;33m\u001b[0m\u001b[0m\n\u001b[0;32m     13\u001b[0m \u001b[0msolution\u001b[0m \u001b[1;33m=\u001b[0m \u001b[0mcvx\u001b[0m\u001b[1;33m.\u001b[0m\u001b[0mProblem\u001b[0m\u001b[1;33m(\u001b[0m\u001b[0mobjective\u001b[0m\u001b[1;33m,\u001b[0m \u001b[0mconstraints\u001b[0m\u001b[1;33m)\u001b[0m\u001b[1;33m\u001b[0m\u001b[0m\n",
      "\u001b[1;32m/home/anastasia/anaconda/lib/python2.7/site-packages/cvxpy/atoms/quad_form.pyc\u001b[0m in \u001b[0;36mquad_form\u001b[1;34m(x, P)\u001b[0m\n\u001b[0;32m    101\u001b[0m             \u001b[0mmsg\u001b[0m \u001b[1;33m=\u001b[0m \u001b[1;34m\"P is not symmetric.\"\u001b[0m\u001b[1;33m\u001b[0m\u001b[0m\n\u001b[0;32m    102\u001b[0m             \u001b[1;32mraise\u001b[0m \u001b[0mCvxPyDomainError\u001b[0m\u001b[1;33m(\u001b[0m\u001b[0mmsg\u001b[0m\u001b[1;33m)\u001b[0m\u001b[1;33m\u001b[0m\u001b[0m\n\u001b[1;32m--> 103\u001b[1;33m         \u001b[0msgn\u001b[0m\u001b[1;33m,\u001b[0m \u001b[0mscale\u001b[0m\u001b[1;33m,\u001b[0m \u001b[0mM\u001b[0m \u001b[1;33m=\u001b[0m \u001b[0m_decomp_quad\u001b[0m\u001b[1;33m(\u001b[0m\u001b[0mP\u001b[0m\u001b[1;33m)\u001b[0m\u001b[1;33m\u001b[0m\u001b[0m\n\u001b[0m\u001b[0;32m    104\u001b[0m         \u001b[1;32mreturn\u001b[0m \u001b[0msgn\u001b[0m \u001b[1;33m*\u001b[0m \u001b[0mscale\u001b[0m \u001b[1;33m*\u001b[0m \u001b[0msquare\u001b[0m\u001b[1;33m(\u001b[0m\u001b[0mnorm\u001b[0m\u001b[1;33m(\u001b[0m\u001b[0mConstant\u001b[0m\u001b[1;33m(\u001b[0m\u001b[0mM\u001b[0m\u001b[1;33m.\u001b[0m\u001b[0mT\u001b[0m\u001b[1;33m)\u001b[0m \u001b[1;33m*\u001b[0m \u001b[0mx\u001b[0m\u001b[1;33m)\u001b[0m\u001b[1;33m)\u001b[0m\u001b[1;33m\u001b[0m\u001b[0m\n\u001b[0;32m    105\u001b[0m     \u001b[1;32melse\u001b[0m\u001b[1;33m:\u001b[0m\u001b[1;33m\u001b[0m\u001b[0m\n",
      "\u001b[1;32m/home/anastasia/anaconda/lib/python2.7/site-packages/cvxpy/atoms/quad_form.pyc\u001b[0m in \u001b[0;36m_decomp_quad\u001b[1;34m(P, cond, rcond, lower, check_finite)\u001b[0m\n\u001b[0;32m     79\u001b[0m     \u001b[1;32mif\u001b[0m \u001b[0mnp\u001b[0m\u001b[1;33m.\u001b[0m\u001b[0many\u001b[0m\u001b[1;33m(\u001b[0m\u001b[0mw\u001b[0m\u001b[1;33m[\u001b[0m\u001b[0mmask\u001b[0m\u001b[1;33m]\u001b[0m \u001b[1;33m*\u001b[0m \u001b[0msgn\u001b[0m \u001b[1;33m<\u001b[0m \u001b[1;36m0\u001b[0m\u001b[1;33m)\u001b[0m\u001b[1;33m:\u001b[0m\u001b[1;33m\u001b[0m\u001b[0m\n\u001b[0;32m     80\u001b[0m         \u001b[0mmsg\u001b[0m \u001b[1;33m=\u001b[0m \u001b[1;34m'P has both positive and negative eigenvalues.'\u001b[0m\u001b[1;33m\u001b[0m\u001b[0m\n\u001b[1;32m---> 81\u001b[1;33m         \u001b[1;32mraise\u001b[0m \u001b[0mCvxPyDomainError\u001b[0m\u001b[1;33m(\u001b[0m\u001b[0mmsg\u001b[0m\u001b[1;33m)\u001b[0m\u001b[1;33m\u001b[0m\u001b[0m\n\u001b[0m\u001b[0;32m     82\u001b[0m     \u001b[0mM\u001b[0m \u001b[1;33m=\u001b[0m \u001b[0mV\u001b[0m\u001b[1;33m[\u001b[0m\u001b[1;33m:\u001b[0m\u001b[1;33m,\u001b[0m \u001b[0mmask\u001b[0m\u001b[1;33m]\u001b[0m \u001b[1;33m*\u001b[0m \u001b[0mnp\u001b[0m\u001b[1;33m.\u001b[0m\u001b[0msqrt\u001b[0m\u001b[1;33m(\u001b[0m\u001b[0mscaled_abs_w\u001b[0m\u001b[1;33m[\u001b[0m\u001b[0mmask\u001b[0m\u001b[1;33m]\u001b[0m\u001b[1;33m)\u001b[0m\u001b[1;33m\u001b[0m\u001b[0m\n\u001b[0;32m     83\u001b[0m     \u001b[1;32mreturn\u001b[0m \u001b[0msgn\u001b[0m\u001b[1;33m,\u001b[0m \u001b[0mscale\u001b[0m\u001b[1;33m,\u001b[0m \u001b[0mM\u001b[0m\u001b[1;33m\u001b[0m\u001b[0m\n",
      "\u001b[1;31mCvxPyDomainError\u001b[0m: P has both positive and negative eigenvalues."
     ]
    }
   ],
   "source": [
    "Q_inv = np.linalg.inv(np.array([[2,-1],[-1,2]]))\n",
    "A = np.array([[1,2],[3,1]])\n",
    "b = np.array([-1,-1])\n",
    "W = A*Q_inv*A.transpose()\n",
    "print \"W:\", W\n",
    "#L = np.linalg.cholesky(W)\n",
    "J = cvx.Variable(2) #lambdas\n",
    "\n",
    "constraints = [J >= 0]\n",
    "#h = J.T*L\n",
    "objective = cvx.Minimize(-cvx.quad_form(J, W)/2 - J*b)\n",
    "\n",
    "solution = cvx.Problem(objective, constraints)\n",
    "solution.solve(solver = 'GUROBI')\n",
    "\n",
    "\n",
    "print('Optimal value is: {0}'.format(solution.value))\n",
    "print('X = {0}'.format(J.value.ravel()))\n"
   ]
  },
  {
   "cell_type": "code",
   "execution_count": null,
   "metadata": {
    "collapsed": true
   },
   "outputs": [],
   "source": []
  },
  {
   "cell_type": "code",
   "execution_count": null,
   "metadata": {
    "collapsed": true
   },
   "outputs": [],
   "source": []
  }
 ],
 "metadata": {
  "kernelspec": {
   "display_name": "Python 2",
   "language": "python",
   "name": "python2"
  },
  "language_info": {
   "codemirror_mode": {
    "name": "ipython",
    "version": 2
   },
   "file_extension": ".py",
   "mimetype": "text/x-python",
   "name": "python",
   "nbconvert_exporter": "python",
   "pygments_lexer": "ipython2",
   "version": "2.7.10"
  }
 },
 "nbformat": 4,
 "nbformat_minor": 0
}
